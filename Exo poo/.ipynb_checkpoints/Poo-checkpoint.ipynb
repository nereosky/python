{
 "cells": [
  {
   "cell_type": "code",
   "execution_count": 2,
   "metadata": {},
   "outputs": [],
   "source": [
    "class MaClasse:\n",
    "    pass"
   ]
  },
  {
   "cell_type": "code",
   "execution_count": 3,
   "metadata": {},
   "outputs": [
    {
     "name": "stdout",
     "output_type": "stream",
     "text": [
      "<__main__.MaClasse object at 0x0000026E44B5FEB0>\n"
     ]
    }
   ],
   "source": [
    "#on déclare cet objet afin de l'utiliser\n",
    "MonObjet = MaClasse()\n",
    "#on l'affiche\n",
    "print(MonObjet) # adresse mémoire"
   ]
  },
  {
   "cell_type": "raw",
   "metadata": {},
   "source": [
    "C'est Bon vous avez vu une classe python. La classe est le moyen , en python, de décrire à quoi va ressembler un Objet.\n",
    "\n",
    "MacClasse() (notes les parenthèses), est la syntaxe Python pour dire \"fabrique un objet à partir de ce plan\". "
   ]
  },
  {
   "cell_type": "markdown",
   "metadata": {},
   "source": [
    "## Les méthodes"
   ]
  },
  {
   "cell_type": "code",
   "execution_count": 4,
   "metadata": {},
   "outputs": [],
   "source": [
    "class DescriptionDeLObject:\n",
    "\n",
    "    #une méthode est une fonction qu'on définie tel que :\n",
    "    def la_methode(objet_en_cours):\n",
    "        print(\"ceci est une méthode sur un objet : 'tada'\")"
   ]
  },
  {
   "cell_type": "code",
   "execution_count": 9,
   "metadata": {},
   "outputs": [
    {
     "name": "stdout",
     "output_type": "stream",
     "text": [
      "ceci est une méthode sur un objet : 'tada'\n"
     ]
    }
   ],
   "source": [
    "#on redéfinit la variable MonObjet\n",
    "MonObjet = DescriptionDeLObject()\n",
    "#on pet maintenant appeller la méthode de notre objet\n",
    "MonObjet.la_methode()"
   ]
  },
  {
   "cell_type": "code",
   "execution_count": 8,
   "metadata": {},
   "outputs": [
    {
     "name": "stdout",
     "output_type": "stream",
     "text": [
      "un truc\n"
     ]
    }
   ],
   "source": [
    "class UneClasse :\n",
    "    #une methode\n",
    "    def une_methode(self):\n",
    "        print('un truc')\n",
    "\n",
    "ex = UneClasse()\n",
    "ex.une_methode()"
   ]
  },
  {
   "cell_type": "code",
   "execution_count": 10,
   "metadata": {},
   "outputs": [],
   "source": [
    "# L'initialisation des Objets"
   ]
  },
  {
   "cell_type": "code",
   "execution_count": 11,
   "metadata": {},
   "outputs": [],
   "source": [
    "class UneAutreClass:\n",
    "    \"\"\"\n",
    "        un exemple d'init de la méthode\n",
    "    \"\"\"\n",
    "    def _init_(self):\n",
    "        print(\"L'objet à bien été crée !\")\n",
    "        print(\"La méthode est appelé automatiquement à la déclaration \")\n",
    "\n",
    "x = UneAutreClass()"
   ]
  },
  {
   "cell_type": "code",
   "execution_count": 12,
   "metadata": {},
   "outputs": [],
   "source": [
    "y = UneAutreClass()"
   ]
  },
  {
   "cell_type": "raw",
   "metadata": {},
   "source": [
    "Personne : ( les attributs )\n",
    "-nom : string\n",
    "-pernom : string\n",
    "-dateNaissance : Date -> présentation d'un instant dans le temps (timestramp)\n",
    "\n",
    "+<<creat>> Personne (nom:String, prenom:String,dateNaissance:Date)\n",
    "+afficher()\n",
    "+calculerAge() :integer"
   ]
  },
  {
   "cell_type": "code",
   "execution_count": 27,
   "metadata": {},
   "outputs": [],
   "source": [
    "import datetime"
   ]
  },
  {
   "cell_type": "code",
   "execution_count": 41,
   "metadata": {},
   "outputs": [],
   "source": [
    "class Personne :\n",
    "    def __init__(self,nom,prenom,dateNaissance): \n",
    "        #two underscore before and after init\n",
    "        self.nom = nom\n",
    "        self.prenom = prenom\n",
    "        self.dateNaissance = dateNaissance\n",
    "    #une méthode pour afficher notre personne quand même\n",
    "    def afficher(self):\n",
    "        print(slef.prenom,\"\",self.nom)\n",
    "    #une méthode pour calculer l'age avec le module datetime\n",
    "    def calculerAge(self)-> int:\n",
    "        now = datetime.datetime.now()\n",
    "        return now.year - self.dateNaissance.year #year object de dateNaissance\n",
    "        "
   ]
  },
  {
   "cell_type": "raw",
   "metadata": {},
   "source": [
    "# depuis une méthode , l'accés aux attributs de la classe ou l'appel d'autre méthodes de la classe se fait à l'aide du self\n",
    " \n",
    "-> forcer le type"
   ]
  },
  {
   "cell_type": "code",
   "execution_count": 42,
   "metadata": {},
   "outputs": [],
   "source": [
    "p = Personne('khalil','Mohamed',datetime.datetime(1996,7,9))"
   ]
  },
  {
   "cell_type": "code",
   "execution_count": 45,
   "metadata": {},
   "outputs": [
    {
     "data": {
      "text/plain": [
       "24"
      ]
     },
     "execution_count": 45,
     "metadata": {},
     "output_type": "execute_result"
    }
   ],
   "source": [
    "p.calculerAge()\n",
    "# oublies pas les parenthéses"
   ]
  },
  {
   "cell_type": "markdown",
   "metadata": {},
   "source": [
    "## Encapsulation"
   ]
  },
  {
   "cell_type": "raw",
   "metadata": {},
   "source": [
    "Nom        UML         Python\n",
    "\n",
    "Public      +      Aucun (par défaut)      \n",
    "Protégé     #        -avant le nom         class dérivées\n",
    "Privé       -        --avant le nom    Seules les methodes situé dslaclasse"
   ]
  },
  {
   "cell_type": "code",
   "execution_count": 53,
   "metadata": {},
   "outputs": [],
   "source": [
    "class Voiture:\n",
    "    def __init__(self):\n",
    "        self._roues=4\n",
    "    def _get_roues(self):\n",
    "        print(\"Récupération du nombre de roues\")\n",
    "        return self._roues\n",
    "    def _set_roues(self,v):\n",
    "        print(\"changement de nb du roues\")\n",
    "        self._roues =v\n",
    "    roues=property(_get_roues,_set_roues)"
   ]
  },
  {
   "cell_type": "code",
   "execution_count": 54,
   "metadata": {},
   "outputs": [
    {
     "name": "stdout",
     "output_type": "stream",
     "text": [
      "changement de nb du roues\n",
      "Récupération du nombre de roues\n"
     ]
    },
    {
     "data": {
      "text/plain": [
       "5"
      ]
     },
     "execution_count": 54,
     "metadata": {},
     "output_type": "execute_result"
    }
   ],
   "source": [
    "ma_voiture=Voiture()\n",
    "ma_voiture.roues=5\n",
    "ma_voiture.roues"
   ]
  },
  {
   "cell_type": "code",
   "execution_count": 55,
   "metadata": {},
   "outputs": [],
   "source": [
    "class Voiture(object):\n",
    "    def __init__(self):\n",
    "        self._roues=4\n",
    "    @property\n",
    "    def roues(self):\n",
    "        print(\"Récupération du nombre de roues\")\n",
    "        return self._roues\n",
    "    \n",
    "    @roues.setter\n",
    "    def roues(self,v):\n",
    "        print(\"changement de nb du roues\")\n",
    "        self._roues =v"
   ]
  },
  {
   "cell_type": "raw",
   "metadata": {},
   "source": [
    "une décortateur est une focntion qui modifie le comportement d'une autre fonction"
   ]
  },
  {
   "cell_type": "markdown",
   "metadata": {},
   "source": [
    "## L'Héritage"
   ]
  },
  {
   "cell_type": "code",
   "execution_count": 58,
   "metadata": {},
   "outputs": [
    {
     "name": "stdout",
     "output_type": "stream",
     "text": [
      "la Voiture démarre\n",
      "la Voiture de sport démarre\n"
     ]
    }
   ],
   "source": [
    "class Voiture:\n",
    "    \n",
    "    roues=4\n",
    "    moteur=1\n",
    "    \n",
    "    def __init__(self):\n",
    "        self.nom=\"A déterminer\"\n",
    "        \n",
    "    def allumer(self):\n",
    "        print(\"la Voiture démarre\")\n",
    "        \n",
    "class VoitureSport(Voiture):\n",
    "    \n",
    "    def __init__(self):\n",
    "        self.nom = \"Ferrari\"\n",
    "    def allumer(self):\n",
    "        Voiture.allumer(self)\n",
    "        print(\"la Voiture de sport démarre\")\n",
    "        \n",
    "ma_voiture_sport = VoitureSport()\n",
    "ma_voiture_sport.allumer()\n",
    "        \n",
    "        \n",
    "        "
   ]
  },
  {
   "cell_type": "code",
   "execution_count": 74,
   "metadata": {},
   "outputs": [],
   "source": [
    "class vecteur :\n",
    "    def __init__(self,x,y):\n",
    "        self.x=x\n",
    "        self.y=y\n",
    "    #surcharge de l'opperateur +\n",
    "    def __add__(self,other:vecteur) -> vecteur : \n",
    "        # pas besoin de forcer \"other:vetceur\" ou faire \"-> vecteur\"\n",
    "        return vecteur(self.x+other.x,self.y+other.y)\n",
    "    #afficher\n",
    "    def __repr__(self):\n",
    "        return \"Vecteur({},{})\".format(self.x,self.y)\n",
    "        "
   ]
  },
  {
   "cell_type": "code",
   "execution_count": 75,
   "metadata": {},
   "outputs": [],
   "source": [
    "v1 = vecteur(1,2)\n",
    "v2 = vecteur(3,4)"
   ]
  },
  {
   "cell_type": "code",
   "execution_count": 76,
   "metadata": {},
   "outputs": [
    {
     "data": {
      "text/plain": [
       "Vecteur(1,2)"
      ]
     },
     "execution_count": 76,
     "metadata": {},
     "output_type": "execute_result"
    }
   ],
   "source": [
    "v1"
   ]
  },
  {
   "cell_type": "code",
   "execution_count": 77,
   "metadata": {
    "scrolled": true
   },
   "outputs": [
    {
     "data": {
      "text/plain": [
       "Vecteur(3,4)"
      ]
     },
     "execution_count": 77,
     "metadata": {},
     "output_type": "execute_result"
    }
   ],
   "source": [
    "v2"
   ]
  },
  {
   "cell_type": "code",
   "execution_count": 78,
   "metadata": {},
   "outputs": [
    {
     "data": {
      "text/plain": [
       "Vecteur(4,6)"
      ]
     },
     "execution_count": 78,
     "metadata": {},
     "output_type": "execute_result"
    }
   ],
   "source": [
    "v1+v2"
   ]
  },
  {
   "cell_type": "code",
   "execution_count": 59,
   "metadata": {},
   "outputs": [],
   "source": [
    "a = [1,2]\n",
    "b = [3,4]"
   ]
  },
  {
   "cell_type": "code",
   "execution_count": 60,
   "metadata": {},
   "outputs": [
    {
     "data": {
      "text/plain": [
       "[1, 2, 3, 4]"
      ]
     },
     "execution_count": 60,
     "metadata": {},
     "output_type": "execute_result"
    }
   ],
   "source": [
    "a+b"
   ]
  },
  {
   "cell_type": "markdown",
   "metadata": {},
   "source": [
    "## Exercices"
   ]
  },
  {
   "cell_type": "raw",
   "metadata": {},
   "source": [
    "#### Le compte bancaire\n",
    "\n",
    "Écrire un programme python qui permet de définir une classe CompteBancaire(), qui permette d’instancier des objets tels que compte1, compte2, etc. Le constructeur de cette classe initialisera deux attributs d’instance nom et solde, avec les valeurs par défaut ’Dupont’ et 1000.\n",
    "\n",
    "Trois autres méthodes seront définies :\n",
    "\n",
    "- depot(somme) permettra d’ajouter une certaine somme au solde ;\n",
    "- retrait(somme) permettra de retirer une certaine somme du solde ;\n",
    "- affiche() permettra d’afficher le nom du titulaire et le solde de son compte.\n",
    "\n",
    "Exemples d’exécution:\n",
    "```\n",
    ">>> compte1 = CompteBancaire(‘Duchmol’, 800)\n",
    ">>> compte1.depot(350)\n",
    ">>> compte1.retrait(200)\n",
    ">>> compte1.affiche()\n",
    "Le solde du compte bancaire de Duchmol est de 950 euros.\n",
    ">>> compte2 = CompteBancaire()\n",
    ">>> compte2.depot(25)\n",
    ">>> compte2.affiche()\n",
    "Le solde du compte bancaire de Dupont est de 1025 euros.\n",
    "\n",
    "```"
   ]
  },
  {
   "cell_type": "code",
   "execution_count": 13,
   "metadata": {},
   "outputs": [],
   "source": [
    "class CompteBancaire :\n",
    "    def __init__(self,nom,solde):\n",
    "        self.nom = nom\n",
    "        self.solde = solde\n",
    "    #surcharge de l'opperateur +\n",
    "    def depot(self,somme): \n",
    "        return CompteBancaire(self.nom,self.solde+somme)\n",
    "    #afficher\n",
    "    def retrait(self,somme):\n",
    "        return CompteBancaire(self.nom,self.solde-somme)\n",
    "    def affiche(self):\n",
    "        print(\"Le solde du compte bancaire de {} est de {} euros.\".format(self.nom,self.solde))"
   ]
  },
  {
   "cell_type": "code",
   "execution_count": 14,
   "metadata": {},
   "outputs": [
    {
     "name": "stdout",
     "output_type": "stream",
     "text": [
      "Le solde du compte bancaire de Duchmol est de 800 euros.\n"
     ]
    }
   ],
   "source": [
    "compte1 = CompteBancaire('Duchmol',800)\n",
    "compte1.depot(300)\n",
    "compte1.retrait(200)\n",
    "compte1.affiche()"
   ]
  },
  {
   "cell_type": "code",
   "execution_count": null,
   "metadata": {},
   "outputs": [],
   "source": []
  },
  {
   "cell_type": "markdown",
   "metadata": {},
   "source": [
    "## UML"
   ]
  },
  {
   "cell_type": "raw",
   "metadata": {},
   "source": [
    "La langage de Modélisation Unifié  de l'anglais Unifies Modeling Language (UML)"
   ]
  },
  {
   "cell_type": "code",
   "execution_count": null,
   "metadata": {},
   "outputs": [],
   "source": [
    "# 6 "
   ]
  }
 ],
 "metadata": {
  "kernelspec": {
   "display_name": "Python 3",
   "language": "python",
   "name": "python3"
  },
  "language_info": {
   "codemirror_mode": {
    "name": "ipython",
    "version": 3
   },
   "file_extension": ".py",
   "mimetype": "text/x-python",
   "name": "python",
   "nbconvert_exporter": "python",
   "pygments_lexer": "ipython3",
   "version": "3.8.5"
  },
  "toc": {
   "base_numbering": 1,
   "nav_menu": {},
   "number_sections": true,
   "sideBar": true,
   "skip_h1_title": false,
   "title_cell": "Table of Contents",
   "title_sidebar": "Contents",
   "toc_cell": false,
   "toc_position": {},
   "toc_section_display": true,
   "toc_window_display": false
  },
  "varInspector": {
   "cols": {
    "lenName": 16,
    "lenType": 16,
    "lenVar": 40
   },
   "kernels_config": {
    "python": {
     "delete_cmd_postfix": "",
     "delete_cmd_prefix": "del ",
     "library": "var_list.py",
     "varRefreshCmd": "print(var_dic_list())"
    },
    "r": {
     "delete_cmd_postfix": ") ",
     "delete_cmd_prefix": "rm(",
     "library": "var_list.r",
     "varRefreshCmd": "cat(var_dic_list()) "
    }
   },
   "types_to_exclude": [
    "module",
    "function",
    "builtin_function_or_method",
    "instance",
    "_Feature"
   ],
   "window_display": false
  }
 },
 "nbformat": 4,
 "nbformat_minor": 4
}
