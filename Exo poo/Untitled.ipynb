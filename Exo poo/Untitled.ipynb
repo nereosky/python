{
 "cells": [
  {
   "cell_type": "code",
   "execution_count": 16,
   "metadata": {},
   "outputs": [
    {
     "name": "stdout",
     "output_type": "stream",
     "text": [
      "Nom: longepe\n",
      "Prénom: kilian\n",
      "Date de naissance: 15 / 1 / 1999\n",
      "Nom: longepe\n",
      "Prénom: kilian\n",
      "Date de naissance: 15 / 1 / 1999\n",
      "Salaire: 3500\n"
     ]
    }
   ],
   "source": [
    "import datetime\n",
    "\n",
    "class DateNaissance :\n",
    "    def __init__ (self, jour, mois, annee):\n",
    "        self.jour = jour\n",
    "        self.mois = mois\n",
    "        self.annee = annee\n",
    "    def ToString(self):\n",
    "        return \"Date de naissance: {} / {} / {}\".format(self.jour, self.mois, self.annee)\n",
    "    \n",
    "dateN = DateNaissance(15,1,1999)\n",
    "dateN.ToString()\n",
    "\n",
    "class Personne :\n",
    "    def __init__ (self,nom,prenom,dateDeNaissance) :\n",
    "        self.nom=nom\n",
    "        self.prenom=prenom\n",
    "        self.dateDeNaissance=dateDeNaissance\n",
    "    def afficher(self):\n",
    "        print(\"Nom: {}\".format(self.nom))\n",
    "        print(\"Prénom: {}\".format(self.prenom))\n",
    "        print (self.dateDeNaissance.ToString())\n",
    "        \n",
    "personne = Personne(\"longepe\",\"kilian\",dateN)\n",
    "personne.afficher()\n",
    "\n",
    "class Employe(Personne):\n",
    "    def __init__(self, nom, prenom, dateDeNaissance, salaire):\n",
    "        super().__init__(nom,prenom,dateDeNaissance)\n",
    "        self.salaire=salaire\n",
    "    def afficher(self):\n",
    "        super().afficher()\n",
    "        print(\"Salaire: {}\".format(self.salaire))\n",
    "        \n",
    "employe = Employe(personne.nom,personne.prenom,personne.dateDeNaissance,3500)\n",
    "employe.afficher()\n",
    "\n",
    "class Chef(Employe):\n",
    "    def __init__(self, nom, prenom, dateDeNaissance, salaire, service):\n",
    "        super().__init__(nom, prenom, dateDeNaissance, salaire)\n",
    "        self.service=service\n",
    "    def afficher(self):\n",
    "        super().afficher()\n",
    "        print(\"Service: {}\".format(self.service))"
   ]
  }
 ],
 "metadata": {
  "kernelspec": {
   "display_name": "Python 3",
   "language": "python",
   "name": "python3"
  },
  "language_info": {
   "codemirror_mode": {
    "name": "ipython",
    "version": 3
   },
   "file_extension": ".py",
   "mimetype": "text/x-python",
   "name": "python",
   "nbconvert_exporter": "python",
   "pygments_lexer": "ipython3",
   "version": "3.8.5"
  },
  "toc": {
   "base_numbering": 1,
   "nav_menu": {},
   "number_sections": true,
   "sideBar": true,
   "skip_h1_title": false,
   "title_cell": "Table of Contents",
   "title_sidebar": "Contents",
   "toc_cell": false,
   "toc_position": {},
   "toc_section_display": true,
   "toc_window_display": false
  },
  "varInspector": {
   "cols": {
    "lenName": 16,
    "lenType": 16,
    "lenVar": 40
   },
   "kernels_config": {
    "python": {
     "delete_cmd_postfix": "",
     "delete_cmd_prefix": "del ",
     "library": "var_list.py",
     "varRefreshCmd": "print(var_dic_list())"
    },
    "r": {
     "delete_cmd_postfix": ") ",
     "delete_cmd_prefix": "rm(",
     "library": "var_list.r",
     "varRefreshCmd": "cat(var_dic_list()) "
    }
   },
   "types_to_exclude": [
    "module",
    "function",
    "builtin_function_or_method",
    "instance",
    "_Feature"
   ],
   "window_display": false
  }
 },
 "nbformat": 4,
 "nbformat_minor": 4
}
