{
 "cells": [
  {
   "cell_type": "markdown",
   "metadata": {},
   "source": [
    "### exercice 2.1"
   ]
  },
  {
   "cell_type": "code",
   "execution_count": 49,
   "metadata": {},
   "outputs": [
    {
     "name": "stdout",
     "output_type": "stream",
     "text": [
      "10\n"
     ]
    }
   ],
   "source": [
    "montab1 = [1,2,3,4]\n",
    "total = 0\n",
    "\n",
    "for i in range(4) :\n",
    "    total += montab1[i]\n",
    "print(total)"
   ]
  },
  {
   "cell_type": "markdown",
   "metadata": {},
   "source": [
    "### exercice 2.2"
   ]
  },
  {
   "cell_type": "code",
   "execution_count": 45,
   "metadata": {},
   "outputs": [
    {
     "name": "stdout",
     "output_type": "stream",
     "text": [
      "11\n",
      "11\n",
      "11\n",
      "11\n"
     ]
    }
   ],
   "source": [
    "montab1 = [1,2,3,4]\n",
    "montab2 = [10,9,8,7]\n",
    "\n",
    "for i in range(4) :\n",
    "    montab1[i] += montab2[i]\n",
    "    print(montab1[i])"
   ]
  },
  {
   "cell_type": "markdown",
   "metadata": {},
   "source": [
    "### exercice 2.3"
   ]
  },
  {
   "cell_type": "code",
   "execution_count": 40,
   "metadata": {},
   "outputs": [
    {
     "name": "stdout",
     "output_type": "stream",
     "text": [
      "80\n"
     ]
    }
   ],
   "source": [
    "montab1 = [1,2,3,4]\n",
    "montab2 = [10,9,8,7]\n",
    "total = 0\n",
    "\n",
    "for i in range(4) :\n",
    "    montab1[i] *= montab2[i]\n",
    "    total += montab1[i]\n",
    "print(total)"
   ]
  },
  {
   "cell_type": "markdown",
   "metadata": {},
   "source": [
    "### exercice 2.4"
   ]
  },
  {
   "cell_type": "code",
   "execution_count": 12,
   "metadata": {},
   "outputs": [
    {
     "name": "stdout",
     "output_type": "stream",
     "text": [
      "Entrez un nombre: 15\n",
      "Entrez un nombre: 185\n",
      "Entrez un nombre: 14\n",
      "Entrez un nombre: 21\n",
      "c'est la case  1  pour le nombre:  185\n"
     ]
    }
   ],
   "source": [
    "montab = []\n",
    "test = 0\n",
    "maxi = 0\n",
    "place = 0\n",
    "\n",
    "\n",
    "for i in range(4) :\n",
    "     test = int(input(\"Entrez un nombre: \"))\n",
    "     montab.append(test)\n",
    "     if montab[i] >= maxi:\n",
    "            maxi = montab[i]\n",
    "            place = i\n",
    "            \n",
    "        \n",
    "print(\"c'est la case \", place , \" pour le nombre: \", maxi)"
   ]
  }
 ],
 "metadata": {
  "kernelspec": {
   "display_name": "Python 3",
   "language": "python",
   "name": "python3"
  },
  "language_info": {
   "codemirror_mode": {
    "name": "ipython",
    "version": 3
   },
   "file_extension": ".py",
   "mimetype": "text/x-python",
   "name": "python",
   "nbconvert_exporter": "python",
   "pygments_lexer": "ipython3",
   "version": "3.8.5"
  }
 },
 "nbformat": 4,
 "nbformat_minor": 4
}
