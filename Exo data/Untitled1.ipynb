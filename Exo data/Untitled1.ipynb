{
 "cells": [
  {
   "cell_type": "code",
   "execution_count": 2,
   "metadata": {},
   "outputs": [
    {
     "data": {
      "text/plain": [
       "DoA          object\n",
       "Age           int64\n",
       "Convicted    object\n",
       "dtype: object"
      ]
     },
     "execution_count": 2,
     "metadata": {},
     "output_type": "execute_result"
    }
   ],
   "source": [
    "import pandas as pd\n",
    "import datetime as dt\n",
    "fp = \"https://bit.ly/felonies-dataset\"\n",
    "data = pd.read_csv(fp)\n",
    "\n",
    "data.rename(columns={'Date of Arrest':'DoA'}, inplace=True)\n",
    "data.dtypes"
   ]
  },
  {
   "cell_type": "code",
   "execution_count": 3,
   "metadata": {},
   "outputs": [
    {
     "data": {
      "text/plain": [
       "DoA          datetime64[ns]\n",
       "Age                   int64\n",
       "Convicted            object\n",
       "dtype: object"
      ]
     },
     "execution_count": 3,
     "metadata": {},
     "output_type": "execute_result"
    }
   ],
   "source": [
    "data['DoA'] = pd.to_datetime(data['DoA'])\n",
    "data.dtypes"
   ]
  },
  {
   "cell_type": "code",
   "execution_count": 11,
   "metadata": {},
   "outputs": [
    {
     "name": "stdout",
     "output_type": "stream",
     "text": [
      "0\n",
      "23\n"
     ]
    }
   ],
   "source": [
    "print(data['DoA'].dt.hour.min())\n",
    "print(data['DoA'].dt.hour.max())"
   ]
  },
  {
   "cell_type": "code",
   "execution_count": 26,
   "metadata": {},
   "outputs": [
    {
     "data": {
      "text/plain": [
       "0      1459\n",
       "1      2217\n",
       "2       931\n",
       "3       952\n",
       "4      1406\n",
       "       ... \n",
       "995    1424\n",
       "996    1803\n",
       "997    2159\n",
       "998    1716\n",
       "999    1829\n",
       "Name: DoA, Length: 1000, dtype: int64"
      ]
     },
     "execution_count": 26,
     "metadata": {},
     "output_type": "execute_result"
    }
   ],
   "source": [
    "colonneTemporaire = data['DoA'].dt.hour*100 + data['DoA'].dt.minute\n",
    "colonneTemporaire"
   ]
  },
  {
   "cell_type": "code",
   "execution_count": 27,
   "metadata": {},
   "outputs": [],
   "source": [
    "minuit = 0\n",
    "finNuit =324\n",
    "finMatin = 1612\n",
    "finAm = 2211\n",
    "minuit2 = 2400\n",
    "\n",
    "bins=[minuit,finNuit,finMatin,finAm,minuit2]"
   ]
  },
  {
   "cell_type": "code",
   "execution_count": 28,
   "metadata": {},
   "outputs": [
    {
     "data": {
      "text/plain": [
       "0    MATIN\n",
       "1    NUIT2\n",
       "2    MATIN\n",
       "3    MATIN\n",
       "4    MATIN\n",
       "Name: DoA, dtype: category\n",
       "Categories (4, object): ['NUIT' < 'MATIN' < 'AM' < 'NUIT2']"
      ]
     },
     "execution_count": 28,
     "metadata": {},
     "output_type": "execute_result"
    }
   ],
   "source": [
    "jour = pd.cut(colonneTemporaire, \n",
    "      bins=bins ,\n",
    "      labels=['NUIT','MATIN','AM','NUIT2'])\n",
    "\n",
    "jour.head()"
   ]
  },
  {
   "cell_type": "code",
   "execution_count": 29,
   "metadata": {},
   "outputs": [],
   "source": [
    "jour = jour.str.replace('2','')"
   ]
  },
  {
   "cell_type": "code",
   "execution_count": 30,
   "metadata": {},
   "outputs": [
    {
     "data": {
      "text/plain": [
       "array(['MATIN', 'NUIT', 'AM'], dtype=object)"
      ]
     },
     "execution_count": 30,
     "metadata": {},
     "output_type": "execute_result"
    }
   ],
   "source": [
    "jour.unique()"
   ]
  },
  {
   "cell_type": "code",
   "execution_count": 31,
   "metadata": {},
   "outputs": [
    {
     "data": {
      "text/plain": [
       "0    MATIN\n",
       "1     NUIT\n",
       "2    MATIN\n",
       "3    MATIN\n",
       "4    MATIN\n",
       "Name: DoA, dtype: object"
      ]
     },
     "execution_count": 31,
     "metadata": {},
     "output_type": "execute_result"
    }
   ],
   "source": [
    "jour.head()"
   ]
  },
  {
   "cell_type": "code",
   "execution_count": 33,
   "metadata": {},
   "outputs": [],
   "source": [
    "jour = (jour.astype('category').cat.reorder_categories(['MATIN','AM','NUIT']).cat.as_ordered())"
   ]
  },
  {
   "cell_type": "code",
   "execution_count": 35,
   "metadata": {},
   "outputs": [
    {
     "data": {
      "text/plain": [
       "0    MATIN\n",
       "1     NUIT\n",
       "2    MATIN\n",
       "3    MATIN\n",
       "4    MATIN\n",
       "5    MATIN\n",
       "6     NUIT\n",
       "7    MATIN\n",
       "8    MATIN\n",
       "9     NUIT\n",
       "Name: DoA, dtype: category\n",
       "Categories (3, object): ['MATIN' < 'AM' < 'NUIT']"
      ]
     },
     "execution_count": 35,
     "metadata": {},
     "output_type": "execute_result"
    }
   ],
   "source": [
    "jour.head(10)"
   ]
  },
  {
   "cell_type": "code",
   "execution_count": null,
   "metadata": {},
   "outputs": [],
   "source": [
    " import matplotlib.py"
   ]
  }
 ],
 "metadata": {
  "kernelspec": {
   "display_name": "Python 3",
   "language": "python",
   "name": "python3"
  },
  "language_info": {
   "codemirror_mode": {
    "name": "ipython",
    "version": 3
   },
   "file_extension": ".py",
   "mimetype": "text/x-python",
   "name": "python",
   "nbconvert_exporter": "python",
   "pygments_lexer": "ipython3",
   "version": "3.8.5"
  },
  "toc": {
   "base_numbering": 1,
   "nav_menu": {},
   "number_sections": true,
   "sideBar": true,
   "skip_h1_title": false,
   "title_cell": "Table of Contents",
   "title_sidebar": "Contents",
   "toc_cell": false,
   "toc_position": {},
   "toc_section_display": true,
   "toc_window_display": false
  },
  "varInspector": {
   "cols": {
    "lenName": 16,
    "lenType": 16,
    "lenVar": 40
   },
   "kernels_config": {
    "python": {
     "delete_cmd_postfix": "",
     "delete_cmd_prefix": "del ",
     "library": "var_list.py",
     "varRefreshCmd": "print(var_dic_list())"
    },
    "r": {
     "delete_cmd_postfix": ") ",
     "delete_cmd_prefix": "rm(",
     "library": "var_list.r",
     "varRefreshCmd": "cat(var_dic_list()) "
    }
   },
   "types_to_exclude": [
    "module",
    "function",
    "builtin_function_or_method",
    "instance",
    "_Feature"
   ],
   "window_display": false
  }
 },
 "nbformat": 4,
 "nbformat_minor": 4
}
