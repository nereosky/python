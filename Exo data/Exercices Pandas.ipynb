{
 "cells": [
  {
   "cell_type": "markdown",
   "metadata": {},
   "source": [
    "# Exercices Pandas\n",
    "## Importer un fichier"
   ]
  },
  {
   "cell_type": "code",
   "execution_count": 3,
   "metadata": {
    "scrolled": true
   },
   "outputs": [
    {
     "data": {
      "text/html": [
       "<div>\n",
       "<style scoped>\n",
       "    .dataframe tbody tr th:only-of-type {\n",
       "        vertical-align: middle;\n",
       "    }\n",
       "\n",
       "    .dataframe tbody tr th {\n",
       "        vertical-align: top;\n",
       "    }\n",
       "\n",
       "    .dataframe thead th {\n",
       "        text-align: right;\n",
       "    }\n",
       "</style>\n",
       "<table border=\"1\" class=\"dataframe\">\n",
       "  <thead>\n",
       "    <tr style=\"text-align: right;\">\n",
       "      <th></th>\n",
       "      <th>name</th>\n",
       "      <th>country</th>\n",
       "      <th>subcountry</th>\n",
       "      <th>geonameid</th>\n",
       "    </tr>\n",
       "  </thead>\n",
       "  <tbody>\n",
       "    <tr>\n",
       "      <th>0</th>\n",
       "      <td>les Escaldes</td>\n",
       "      <td>Andorra</td>\n",
       "      <td>Escaldes-Engordany</td>\n",
       "      <td>3040051</td>\n",
       "    </tr>\n",
       "    <tr>\n",
       "      <th>1</th>\n",
       "      <td>Andorra la Vella</td>\n",
       "      <td>Andorra</td>\n",
       "      <td>Andorra la Vella</td>\n",
       "      <td>3041563</td>\n",
       "    </tr>\n",
       "    <tr>\n",
       "      <th>2</th>\n",
       "      <td>Umm al Qaywayn</td>\n",
       "      <td>United Arab Emirates</td>\n",
       "      <td>Umm al Qaywayn</td>\n",
       "      <td>290594</td>\n",
       "    </tr>\n",
       "    <tr>\n",
       "      <th>3</th>\n",
       "      <td>Ras al-Khaimah</td>\n",
       "      <td>United Arab Emirates</td>\n",
       "      <td>Raʼs al Khaymah</td>\n",
       "      <td>291074</td>\n",
       "    </tr>\n",
       "    <tr>\n",
       "      <th>4</th>\n",
       "      <td>Khawr Fakkān</td>\n",
       "      <td>United Arab Emirates</td>\n",
       "      <td>Ash Shāriqah</td>\n",
       "      <td>291696</td>\n",
       "    </tr>\n",
       "  </tbody>\n",
       "</table>\n",
       "</div>"
      ],
      "text/plain": [
       "               name               country          subcountry  geonameid\n",
       "0      les Escaldes               Andorra  Escaldes-Engordany    3040051\n",
       "1  Andorra la Vella               Andorra    Andorra la Vella    3041563\n",
       "2    Umm al Qaywayn  United Arab Emirates      Umm al Qaywayn     290594\n",
       "3    Ras al-Khaimah  United Arab Emirates     Raʼs al Khaymah     291074\n",
       "4      Khawr Fakkān  United Arab Emirates        Ash Shāriqah     291696"
      ]
     },
     "execution_count": 3,
     "metadata": {},
     "output_type": "execute_result"
    }
   ],
   "source": [
    "import pandas as pd #importer librairie\n",
    "\n",
    "base=\"https://bit.ly/world-cities-clean\"\n",
    "base=pd.read_csv(base)\n",
    "\n",
    "base.head(5) #lecture des 5 premières lignes"
   ]
  },
  {
   "cell_type": "markdown",
   "metadata": {},
   "source": [
    "## Comprendre les erreurs"
   ]
  },
  {
   "cell_type": "markdown",
   "metadata": {},
   "source": [
    "### Erreurs liées au fichier\n",
    "#### Accès par un chemin d'accès inexistant"
   ]
  },
  {
   "cell_type": "code",
   "execution_count": 4,
   "metadata": {
    "scrolled": true
   },
   "outputs": [
    {
     "ename": "FileNotFoundError",
     "evalue": "[Errno 2] No such file or directory: \"chemin/qui/n'existe pas\"",
     "output_type": "error",
     "traceback": [
      "\u001b[1;31m---------------------------------------------------------------------------\u001b[0m",
      "\u001b[1;31mFileNotFoundError\u001b[0m                         Traceback (most recent call last)",
      "\u001b[1;32m<ipython-input-4-7b7b21b8fea4>\u001b[0m in \u001b[0;36m<module>\u001b[1;34m\u001b[0m\n\u001b[0;32m      1\u001b[0m \u001b[0mpath\u001b[0m \u001b[1;33m=\u001b[0m \u001b[1;34m\"chemin/qui/n'existe pas\"\u001b[0m\u001b[1;33m\u001b[0m\u001b[1;33m\u001b[0m\u001b[0m\n\u001b[1;32m----> 2\u001b[1;33m \u001b[0mpd\u001b[0m\u001b[1;33m.\u001b[0m\u001b[0mread_csv\u001b[0m\u001b[1;33m(\u001b[0m\u001b[0mpath\u001b[0m\u001b[1;33m)\u001b[0m\u001b[1;33m\u001b[0m\u001b[1;33m\u001b[0m\u001b[0m\n\u001b[0m",
      "\u001b[1;32mc:\\users\\elisa\\appdata\\local\\programs\\python\\python38\\lib\\site-packages\\pandas\\io\\parsers.py\u001b[0m in \u001b[0;36mread_csv\u001b[1;34m(filepath_or_buffer, sep, delimiter, header, names, index_col, usecols, squeeze, prefix, mangle_dupe_cols, dtype, engine, converters, true_values, false_values, skipinitialspace, skiprows, skipfooter, nrows, na_values, keep_default_na, na_filter, verbose, skip_blank_lines, parse_dates, infer_datetime_format, keep_date_col, date_parser, dayfirst, cache_dates, iterator, chunksize, compression, thousands, decimal, lineterminator, quotechar, quoting, doublequote, escapechar, comment, encoding, dialect, error_bad_lines, warn_bad_lines, delim_whitespace, low_memory, memory_map, float_precision)\u001b[0m\n\u001b[0;32m    684\u001b[0m     )\n\u001b[0;32m    685\u001b[0m \u001b[1;33m\u001b[0m\u001b[0m\n\u001b[1;32m--> 686\u001b[1;33m     \u001b[1;32mreturn\u001b[0m \u001b[0m_read\u001b[0m\u001b[1;33m(\u001b[0m\u001b[0mfilepath_or_buffer\u001b[0m\u001b[1;33m,\u001b[0m \u001b[0mkwds\u001b[0m\u001b[1;33m)\u001b[0m\u001b[1;33m\u001b[0m\u001b[1;33m\u001b[0m\u001b[0m\n\u001b[0m\u001b[0;32m    687\u001b[0m \u001b[1;33m\u001b[0m\u001b[0m\n\u001b[0;32m    688\u001b[0m \u001b[1;33m\u001b[0m\u001b[0m\n",
      "\u001b[1;32mc:\\users\\elisa\\appdata\\local\\programs\\python\\python38\\lib\\site-packages\\pandas\\io\\parsers.py\u001b[0m in \u001b[0;36m_read\u001b[1;34m(filepath_or_buffer, kwds)\u001b[0m\n\u001b[0;32m    450\u001b[0m \u001b[1;33m\u001b[0m\u001b[0m\n\u001b[0;32m    451\u001b[0m     \u001b[1;31m# Create the parser.\u001b[0m\u001b[1;33m\u001b[0m\u001b[1;33m\u001b[0m\u001b[1;33m\u001b[0m\u001b[0m\n\u001b[1;32m--> 452\u001b[1;33m     \u001b[0mparser\u001b[0m \u001b[1;33m=\u001b[0m \u001b[0mTextFileReader\u001b[0m\u001b[1;33m(\u001b[0m\u001b[0mfp_or_buf\u001b[0m\u001b[1;33m,\u001b[0m \u001b[1;33m**\u001b[0m\u001b[0mkwds\u001b[0m\u001b[1;33m)\u001b[0m\u001b[1;33m\u001b[0m\u001b[1;33m\u001b[0m\u001b[0m\n\u001b[0m\u001b[0;32m    453\u001b[0m \u001b[1;33m\u001b[0m\u001b[0m\n\u001b[0;32m    454\u001b[0m     \u001b[1;32mif\u001b[0m \u001b[0mchunksize\u001b[0m \u001b[1;32mor\u001b[0m \u001b[0miterator\u001b[0m\u001b[1;33m:\u001b[0m\u001b[1;33m\u001b[0m\u001b[1;33m\u001b[0m\u001b[0m\n",
      "\u001b[1;32mc:\\users\\elisa\\appdata\\local\\programs\\python\\python38\\lib\\site-packages\\pandas\\io\\parsers.py\u001b[0m in \u001b[0;36m__init__\u001b[1;34m(self, f, engine, **kwds)\u001b[0m\n\u001b[0;32m    934\u001b[0m             \u001b[0mself\u001b[0m\u001b[1;33m.\u001b[0m\u001b[0moptions\u001b[0m\u001b[1;33m[\u001b[0m\u001b[1;34m\"has_index_names\"\u001b[0m\u001b[1;33m]\u001b[0m \u001b[1;33m=\u001b[0m \u001b[0mkwds\u001b[0m\u001b[1;33m[\u001b[0m\u001b[1;34m\"has_index_names\"\u001b[0m\u001b[1;33m]\u001b[0m\u001b[1;33m\u001b[0m\u001b[1;33m\u001b[0m\u001b[0m\n\u001b[0;32m    935\u001b[0m \u001b[1;33m\u001b[0m\u001b[0m\n\u001b[1;32m--> 936\u001b[1;33m         \u001b[0mself\u001b[0m\u001b[1;33m.\u001b[0m\u001b[0m_make_engine\u001b[0m\u001b[1;33m(\u001b[0m\u001b[0mself\u001b[0m\u001b[1;33m.\u001b[0m\u001b[0mengine\u001b[0m\u001b[1;33m)\u001b[0m\u001b[1;33m\u001b[0m\u001b[1;33m\u001b[0m\u001b[0m\n\u001b[0m\u001b[0;32m    937\u001b[0m \u001b[1;33m\u001b[0m\u001b[0m\n\u001b[0;32m    938\u001b[0m     \u001b[1;32mdef\u001b[0m \u001b[0mclose\u001b[0m\u001b[1;33m(\u001b[0m\u001b[0mself\u001b[0m\u001b[1;33m)\u001b[0m\u001b[1;33m:\u001b[0m\u001b[1;33m\u001b[0m\u001b[1;33m\u001b[0m\u001b[0m\n",
      "\u001b[1;32mc:\\users\\elisa\\appdata\\local\\programs\\python\\python38\\lib\\site-packages\\pandas\\io\\parsers.py\u001b[0m in \u001b[0;36m_make_engine\u001b[1;34m(self, engine)\u001b[0m\n\u001b[0;32m   1166\u001b[0m     \u001b[1;32mdef\u001b[0m \u001b[0m_make_engine\u001b[0m\u001b[1;33m(\u001b[0m\u001b[0mself\u001b[0m\u001b[1;33m,\u001b[0m \u001b[0mengine\u001b[0m\u001b[1;33m=\u001b[0m\u001b[1;34m\"c\"\u001b[0m\u001b[1;33m)\u001b[0m\u001b[1;33m:\u001b[0m\u001b[1;33m\u001b[0m\u001b[1;33m\u001b[0m\u001b[0m\n\u001b[0;32m   1167\u001b[0m         \u001b[1;32mif\u001b[0m \u001b[0mengine\u001b[0m \u001b[1;33m==\u001b[0m \u001b[1;34m\"c\"\u001b[0m\u001b[1;33m:\u001b[0m\u001b[1;33m\u001b[0m\u001b[1;33m\u001b[0m\u001b[0m\n\u001b[1;32m-> 1168\u001b[1;33m             \u001b[0mself\u001b[0m\u001b[1;33m.\u001b[0m\u001b[0m_engine\u001b[0m \u001b[1;33m=\u001b[0m \u001b[0mCParserWrapper\u001b[0m\u001b[1;33m(\u001b[0m\u001b[0mself\u001b[0m\u001b[1;33m.\u001b[0m\u001b[0mf\u001b[0m\u001b[1;33m,\u001b[0m \u001b[1;33m**\u001b[0m\u001b[0mself\u001b[0m\u001b[1;33m.\u001b[0m\u001b[0moptions\u001b[0m\u001b[1;33m)\u001b[0m\u001b[1;33m\u001b[0m\u001b[1;33m\u001b[0m\u001b[0m\n\u001b[0m\u001b[0;32m   1169\u001b[0m         \u001b[1;32melse\u001b[0m\u001b[1;33m:\u001b[0m\u001b[1;33m\u001b[0m\u001b[1;33m\u001b[0m\u001b[0m\n\u001b[0;32m   1170\u001b[0m             \u001b[1;32mif\u001b[0m \u001b[0mengine\u001b[0m \u001b[1;33m==\u001b[0m \u001b[1;34m\"python\"\u001b[0m\u001b[1;33m:\u001b[0m\u001b[1;33m\u001b[0m\u001b[1;33m\u001b[0m\u001b[0m\n",
      "\u001b[1;32mc:\\users\\elisa\\appdata\\local\\programs\\python\\python38\\lib\\site-packages\\pandas\\io\\parsers.py\u001b[0m in \u001b[0;36m__init__\u001b[1;34m(self, src, **kwds)\u001b[0m\n\u001b[0;32m   1996\u001b[0m         \u001b[0mkwds\u001b[0m\u001b[1;33m[\u001b[0m\u001b[1;34m\"usecols\"\u001b[0m\u001b[1;33m]\u001b[0m \u001b[1;33m=\u001b[0m \u001b[0mself\u001b[0m\u001b[1;33m.\u001b[0m\u001b[0musecols\u001b[0m\u001b[1;33m\u001b[0m\u001b[1;33m\u001b[0m\u001b[0m\n\u001b[0;32m   1997\u001b[0m \u001b[1;33m\u001b[0m\u001b[0m\n\u001b[1;32m-> 1998\u001b[1;33m         \u001b[0mself\u001b[0m\u001b[1;33m.\u001b[0m\u001b[0m_reader\u001b[0m \u001b[1;33m=\u001b[0m \u001b[0mparsers\u001b[0m\u001b[1;33m.\u001b[0m\u001b[0mTextReader\u001b[0m\u001b[1;33m(\u001b[0m\u001b[0msrc\u001b[0m\u001b[1;33m,\u001b[0m \u001b[1;33m**\u001b[0m\u001b[0mkwds\u001b[0m\u001b[1;33m)\u001b[0m\u001b[1;33m\u001b[0m\u001b[1;33m\u001b[0m\u001b[0m\n\u001b[0m\u001b[0;32m   1999\u001b[0m         \u001b[0mself\u001b[0m\u001b[1;33m.\u001b[0m\u001b[0munnamed_cols\u001b[0m \u001b[1;33m=\u001b[0m \u001b[0mself\u001b[0m\u001b[1;33m.\u001b[0m\u001b[0m_reader\u001b[0m\u001b[1;33m.\u001b[0m\u001b[0munnamed_cols\u001b[0m\u001b[1;33m\u001b[0m\u001b[1;33m\u001b[0m\u001b[0m\n\u001b[0;32m   2000\u001b[0m \u001b[1;33m\u001b[0m\u001b[0m\n",
      "\u001b[1;32mpandas\\_libs\\parsers.pyx\u001b[0m in \u001b[0;36mpandas._libs.parsers.TextReader.__cinit__\u001b[1;34m()\u001b[0m\n",
      "\u001b[1;32mpandas\\_libs\\parsers.pyx\u001b[0m in \u001b[0;36mpandas._libs.parsers.TextReader._setup_parser_source\u001b[1;34m()\u001b[0m\n",
      "\u001b[1;31mFileNotFoundError\u001b[0m: [Errno 2] No such file or directory: \"chemin/qui/n'existe pas\""
     ]
    }
   ],
   "source": [
    "path = \"chemin/qui/n'existe pas\"\n",
    "pd.read_csv(path)"
   ]
  },
  {
   "cell_type": "markdown",
   "metadata": {},
   "source": [
    "**Rapport d'erreur :**```FileNotFoundError: [Errno 2] No such file or directory: \"chemin/qui/n'existe pas\"```\n",
    "\n",
    "Il n'y a pas de fichier ou de dossier dont le chemin d'accès est celui indiqué\n",
    "\n",
    "**Solution :** Corriger le chemin d'accès"
   ]
  },
  {
   "cell_type": "markdown",
   "metadata": {},
   "source": [
    "#### Accès depuis une URL, fichier sans ligne d'en-tête"
   ]
  },
  {
   "cell_type": "code",
   "execution_count": 12,
   "metadata": {
    "scrolled": false
   },
   "outputs": [
    {
     "data": {
      "text/html": [
       "<div>\n",
       "<style scoped>\n",
       "    .dataframe tbody tr th:only-of-type {\n",
       "        vertical-align: middle;\n",
       "    }\n",
       "\n",
       "    .dataframe tbody tr th {\n",
       "        vertical-align: top;\n",
       "    }\n",
       "\n",
       "    .dataframe thead th {\n",
       "        text-align: right;\n",
       "    }\n",
       "</style>\n",
       "<table border=\"1\" class=\"dataframe\">\n",
       "  <thead>\n",
       "    <tr style=\"text-align: right;\">\n",
       "      <th></th>\n",
       "      <th>name</th>\n",
       "      <th>country</th>\n",
       "      <th>subcountry</th>\n",
       "      <th>geonameid</th>\n",
       "    </tr>\n",
       "  </thead>\n",
       "  <tbody>\n",
       "    <tr>\n",
       "      <th>0</th>\n",
       "      <td>les Escaldes</td>\n",
       "      <td>Andorra</td>\n",
       "      <td>Escaldes-Engordany</td>\n",
       "      <td>3040051</td>\n",
       "    </tr>\n",
       "    <tr>\n",
       "      <th>1</th>\n",
       "      <td>Andorra la Vella</td>\n",
       "      <td>Andorra</td>\n",
       "      <td>Andorra la Vella</td>\n",
       "      <td>3041563</td>\n",
       "    </tr>\n",
       "    <tr>\n",
       "      <th>2</th>\n",
       "      <td>Umm al Qaywayn</td>\n",
       "      <td>United Arab Emirates</td>\n",
       "      <td>Umm al Qaywayn</td>\n",
       "      <td>290594</td>\n",
       "    </tr>\n",
       "    <tr>\n",
       "      <th>3</th>\n",
       "      <td>Ras al-Khaimah</td>\n",
       "      <td>United Arab Emirates</td>\n",
       "      <td>Raʼs al Khaymah</td>\n",
       "      <td>291074</td>\n",
       "    </tr>\n",
       "    <tr>\n",
       "      <th>4</th>\n",
       "      <td>Khawr Fakkān</td>\n",
       "      <td>United Arab Emirates</td>\n",
       "      <td>Ash Shāriqah</td>\n",
       "      <td>291696</td>\n",
       "    </tr>\n",
       "  </tbody>\n",
       "</table>\n",
       "</div>"
      ],
      "text/plain": [
       "               name               country          subcountry  geonameid\n",
       "0      les Escaldes               Andorra  Escaldes-Engordany    3040051\n",
       "1  Andorra la Vella               Andorra    Andorra la Vella    3041563\n",
       "2    Umm al Qaywayn  United Arab Emirates      Umm al Qaywayn     290594\n",
       "3    Ras al-Khaimah  United Arab Emirates     Raʼs al Khaymah     291074\n",
       "4      Khawr Fakkān  United Arab Emirates        Ash Shāriqah     291696"
      ]
     },
     "execution_count": 12,
     "metadata": {},
     "output_type": "execute_result"
    }
   ],
   "source": [
    "url=\"https://bit.ly/world-cities-dirty-v1\"\n",
    "data=pd.read_csv(url, names=[\"name\",\"country\",\"subcountry\", \"geonameid\"])\n",
    "data.head()"
   ]
  },
  {
   "cell_type": "markdown",
   "metadata": {},
   "source": [
    "**Problème :** Le fichier ne contient pas de ligne d'en-tête de colonnes.\n",
    "\n",
    "**Solution :** L'argument ```name=[\"\"] ``` de la fonction ```read_csv()``` permet d'imputer à la main le nom des colonnes."
   ]
  },
  {
   "cell_type": "markdown",
   "metadata": {},
   "source": [
    "#### Accès à un fichier avec du texte au début et à la fin"
   ]
  },
  {
   "cell_type": "code",
   "execution_count": 34,
   "metadata": {
    "scrolled": true
   },
   "outputs": [
    {
     "name": "stderr",
     "output_type": "stream",
     "text": [
      "<ipython-input-34-9d0693eeb21d>:2: ParserWarning: Falling back to the 'python' engine because the 'c' engine does not support skipfooter; you can avoid this warning by specifying engine='python'.\n",
      "  data=pd.read_csv(url, skiprows=2, skipfooter=1,encoding='utf8')\n"
     ]
    },
    {
     "data": {
      "text/html": [
       "<div>\n",
       "<style scoped>\n",
       "    .dataframe tbody tr th:only-of-type {\n",
       "        vertical-align: middle;\n",
       "    }\n",
       "\n",
       "    .dataframe tbody tr th {\n",
       "        vertical-align: top;\n",
       "    }\n",
       "\n",
       "    .dataframe thead th {\n",
       "        text-align: right;\n",
       "    }\n",
       "</style>\n",
       "<table border=\"1\" class=\"dataframe\">\n",
       "  <thead>\n",
       "    <tr style=\"text-align: right;\">\n",
       "      <th></th>\n",
       "      <th>name</th>\n",
       "      <th>country</th>\n",
       "      <th>subcountry</th>\n",
       "      <th>geonameid</th>\n",
       "    </tr>\n",
       "  </thead>\n",
       "  <tbody>\n",
       "    <tr>\n",
       "      <th>0</th>\n",
       "      <td>les Escaldes</td>\n",
       "      <td>Andorra</td>\n",
       "      <td>Escaldes-Engordany</td>\n",
       "      <td>3040051</td>\n",
       "    </tr>\n",
       "    <tr>\n",
       "      <th>1</th>\n",
       "      <td>Andorra la Vella</td>\n",
       "      <td>Andorra</td>\n",
       "      <td>Andorra la Vella</td>\n",
       "      <td>3041563</td>\n",
       "    </tr>\n",
       "    <tr>\n",
       "      <th>2</th>\n",
       "      <td>Umm al Qaywayn</td>\n",
       "      <td>United Arab Emirates</td>\n",
       "      <td>Umm al Qaywayn</td>\n",
       "      <td>290594</td>\n",
       "    </tr>\n",
       "    <tr>\n",
       "      <th>3</th>\n",
       "      <td>Ras al-Khaimah</td>\n",
       "      <td>United Arab Emirates</td>\n",
       "      <td>Raʼs al Khaymah</td>\n",
       "      <td>291074</td>\n",
       "    </tr>\n",
       "    <tr>\n",
       "      <th>4</th>\n",
       "      <td>Khawr Fakkān</td>\n",
       "      <td>United Arab Emirates</td>\n",
       "      <td>Ash Shāriqah</td>\n",
       "      <td>291696</td>\n",
       "    </tr>\n",
       "  </tbody>\n",
       "</table>\n",
       "</div>"
      ],
      "text/plain": [
       "               name               country          subcountry  geonameid\n",
       "0      les Escaldes               Andorra  Escaldes-Engordany    3040051\n",
       "1  Andorra la Vella               Andorra    Andorra la Vella    3041563\n",
       "2    Umm al Qaywayn  United Arab Emirates      Umm al Qaywayn     290594\n",
       "3    Ras al-Khaimah  United Arab Emirates     Raʼs al Khaymah     291074\n",
       "4      Khawr Fakkān  United Arab Emirates        Ash Shāriqah     291696"
      ]
     },
     "execution_count": 34,
     "metadata": {},
     "output_type": "execute_result"
    }
   ],
   "source": [
    "url=\"https://bit.ly/world-cities-dirty-v2\"\n",
    "data=pd.read_csv(url, skiprows=2, skipfooter=1, encoding='utf8')\n",
    "data.head()"
   ]
  },
  {
   "cell_type": "markdown",
   "metadata": {},
   "source": [
    "**Problème :** Du texte est inséré au début et à la fin du fichier à importer.\n",
    "\n",
    "**Rapport d'erreur :* ```ParserError: Error tokenizing data. C error: Expected 4 fields in line 23022, saw 7```\n",
    "\n",
    "Erreur dans l'importation des données. 4 champs attendus, 7 champs à la ligne 23022.\n",
    "\n",
    "**Solution :** L'argument ```skiprows=n``` de la fonction read_csv() permet de défini **n** lignes à ignorer au début du fichier.\n",
    "\n",
    "L'argument ```skipfooter=n``` de la fonction read_csv() permet de défini **n** lignes à ignorer à la fin du fichier.\n",
    "\n",
    "**Erreur Bonus :** \n",
    "\n",
    "Erreur d'encodage :```UnicodeDecodeError: 'charmap' codec can't decode byte 0x81 in position 1580: character maps to <undefined>```\n",
    "\n",
    "Corriger avec l'argument : ```encoding='utf8'```"
   ]
  },
  {
   "cell_type": "markdown",
   "metadata": {},
   "source": [
    "#### Accès à un fichier avec un séparateur différent"
   ]
  },
  {
   "cell_type": "code",
   "execution_count": 37,
   "metadata": {},
   "outputs": [
    {
     "data": {
      "text/html": [
       "<div>\n",
       "<style scoped>\n",
       "    .dataframe tbody tr th:only-of-type {\n",
       "        vertical-align: middle;\n",
       "    }\n",
       "\n",
       "    .dataframe tbody tr th {\n",
       "        vertical-align: top;\n",
       "    }\n",
       "\n",
       "    .dataframe thead th {\n",
       "        text-align: right;\n",
       "    }\n",
       "</style>\n",
       "<table border=\"1\" class=\"dataframe\">\n",
       "  <thead>\n",
       "    <tr style=\"text-align: right;\">\n",
       "      <th></th>\n",
       "      <th>name</th>\n",
       "      <th>country</th>\n",
       "      <th>subcountry</th>\n",
       "      <th>geonameid</th>\n",
       "    </tr>\n",
       "  </thead>\n",
       "  <tbody>\n",
       "    <tr>\n",
       "      <th>0</th>\n",
       "      <td>les Escaldes</td>\n",
       "      <td>Andorra</td>\n",
       "      <td>Escaldes-Engordany</td>\n",
       "      <td>3040051</td>\n",
       "    </tr>\n",
       "    <tr>\n",
       "      <th>1</th>\n",
       "      <td>Andorra la Vella</td>\n",
       "      <td>Andorra</td>\n",
       "      <td>Andorra la Vella</td>\n",
       "      <td>3041563</td>\n",
       "    </tr>\n",
       "    <tr>\n",
       "      <th>2</th>\n",
       "      <td>Umm al Qaywayn</td>\n",
       "      <td>United Arab Emirates</td>\n",
       "      <td>Umm al Qaywayn</td>\n",
       "      <td>290594</td>\n",
       "    </tr>\n",
       "    <tr>\n",
       "      <th>3</th>\n",
       "      <td>Ras al-Khaimah</td>\n",
       "      <td>United Arab Emirates</td>\n",
       "      <td>Raʼs al Khaymah</td>\n",
       "      <td>291074</td>\n",
       "    </tr>\n",
       "    <tr>\n",
       "      <th>4</th>\n",
       "      <td>Khawr Fakkān</td>\n",
       "      <td>United Arab Emirates</td>\n",
       "      <td>Ash Shāriqah</td>\n",
       "      <td>291696</td>\n",
       "    </tr>\n",
       "  </tbody>\n",
       "</table>\n",
       "</div>"
      ],
      "text/plain": [
       "               name               country          subcountry  geonameid\n",
       "0      les Escaldes               Andorra  Escaldes-Engordany    3040051\n",
       "1  Andorra la Vella               Andorra    Andorra la Vella    3041563\n",
       "2    Umm al Qaywayn  United Arab Emirates      Umm al Qaywayn     290594\n",
       "3    Ras al-Khaimah  United Arab Emirates     Raʼs al Khaymah     291074\n",
       "4      Khawr Fakkān  United Arab Emirates        Ash Shāriqah     291696"
      ]
     },
     "execution_count": 37,
     "metadata": {},
     "output_type": "execute_result"
    }
   ],
   "source": [
    "url=\"https://bit.ly/world-cities-dirty-v3\"\n",
    "data=pd.read_csv(url, sep='|', names=[\"name\",\"country\",\"subcountry\", \"geonameid\"])\n",
    "data.head()"
   ]
  },
  {
   "cell_type": "markdown",
   "metadata": {},
   "source": [
    "**Problème :** Le tableau importé n'est composé que d'une colonne car le séparateur utilisé dans le fichier brut n'est pas la virgule et les colonnes n'ont pas d'en-tête.\n",
    "\n",
    "**Solution :** L'argument ```sep=''``` de la fonction read_csv() permet de définir à la main le séparateur du fichier brut.\n",
    "\n",
    "L'argument ```name=[\"\"]``` de la fonction read_csv() permet d'imputer à la main le nom des colonnes."
   ]
  },
  {
   "cell_type": "markdown",
   "metadata": {},
   "source": [
    "## Bonnes pratiques à l'ouverture d'un fichier CSV\n",
    "\n",
    "**df.shape** pour regarder le nombres de ligne et de colonnes\n",
    "<br/>**df.dtypes** pour regarder le nom des colonnes et leur type d'un seul coup (j'en profite pour repérer d'éventuel conversion de types qu'il faudra effectuer)\n",
    "<br/>**df.head()** pour regarder à quoi ressemble les premières lignes du dataset.\n",
    "<br/>**df.tail()** pour regarder les dernières lignes du dataset. J'en profite pour comparer le résultat de head avec celui de tail, y-a-t'il une quelconque différence? Parfois les anomalies sont rangées à la fin du dataset.\n",
    "<br/>**df.isna().sum()** pour vérifier la présence de valeurs manquantes par colonnes.\n",
    "\n",
    "### Application"
   ]
  },
  {
   "cell_type": "code",
   "execution_count": 70,
   "metadata": {},
   "outputs": [],
   "source": [
    "base1=pd.read_csv(\"https://bit.ly/world-cities-clean\")\n",
    "base2=pd.read_csv(\"https://bit.ly/bitcoin-data\")"
   ]
  },
  {
   "cell_type": "markdown",
   "metadata": {},
   "source": [
    "#### Dimensions de la table de données"
   ]
  },
  {
   "cell_type": "code",
   "execution_count": 48,
   "metadata": {},
   "outputs": [
    {
     "name": "stdout",
     "output_type": "stream",
     "text": [
      "(23018, 4) (33, 7)\n"
     ]
    }
   ],
   "source": [
    "print(base1.shape, base2.shape)"
   ]
  },
  {
   "cell_type": "markdown",
   "metadata": {},
   "source": [
    "La base de donnée 1 est composée de 23 018 lignes et de 4 colonnes.<br/>\n",
    "La base de donnée 2 est composée de 33 lignes et de 7 colonnes."
   ]
  },
  {
   "cell_type": "markdown",
   "metadata": {},
   "source": [
    "#### Prévisualisation des données\n",
    "**Premières lignes**"
   ]
  },
  {
   "cell_type": "code",
   "execution_count": 49,
   "metadata": {},
   "outputs": [
    {
     "data": {
      "text/html": [
       "<div>\n",
       "<style scoped>\n",
       "    .dataframe tbody tr th:only-of-type {\n",
       "        vertical-align: middle;\n",
       "    }\n",
       "\n",
       "    .dataframe tbody tr th {\n",
       "        vertical-align: top;\n",
       "    }\n",
       "\n",
       "    .dataframe thead th {\n",
       "        text-align: right;\n",
       "    }\n",
       "</style>\n",
       "<table border=\"1\" class=\"dataframe\">\n",
       "  <thead>\n",
       "    <tr style=\"text-align: right;\">\n",
       "      <th></th>\n",
       "      <th>name</th>\n",
       "      <th>country</th>\n",
       "      <th>subcountry</th>\n",
       "      <th>geonameid</th>\n",
       "    </tr>\n",
       "  </thead>\n",
       "  <tbody>\n",
       "    <tr>\n",
       "      <th>0</th>\n",
       "      <td>les Escaldes</td>\n",
       "      <td>Andorra</td>\n",
       "      <td>Escaldes-Engordany</td>\n",
       "      <td>3040051</td>\n",
       "    </tr>\n",
       "    <tr>\n",
       "      <th>1</th>\n",
       "      <td>Andorra la Vella</td>\n",
       "      <td>Andorra</td>\n",
       "      <td>Andorra la Vella</td>\n",
       "      <td>3041563</td>\n",
       "    </tr>\n",
       "    <tr>\n",
       "      <th>2</th>\n",
       "      <td>Umm al Qaywayn</td>\n",
       "      <td>United Arab Emirates</td>\n",
       "      <td>Umm al Qaywayn</td>\n",
       "      <td>290594</td>\n",
       "    </tr>\n",
       "    <tr>\n",
       "      <th>3</th>\n",
       "      <td>Ras al-Khaimah</td>\n",
       "      <td>United Arab Emirates</td>\n",
       "      <td>Raʼs al Khaymah</td>\n",
       "      <td>291074</td>\n",
       "    </tr>\n",
       "    <tr>\n",
       "      <th>4</th>\n",
       "      <td>Khawr Fakkān</td>\n",
       "      <td>United Arab Emirates</td>\n",
       "      <td>Ash Shāriqah</td>\n",
       "      <td>291696</td>\n",
       "    </tr>\n",
       "  </tbody>\n",
       "</table>\n",
       "</div>"
      ],
      "text/plain": [
       "               name               country          subcountry  geonameid\n",
       "0      les Escaldes               Andorra  Escaldes-Engordany    3040051\n",
       "1  Andorra la Vella               Andorra    Andorra la Vella    3041563\n",
       "2    Umm al Qaywayn  United Arab Emirates      Umm al Qaywayn     290594\n",
       "3    Ras al-Khaimah  United Arab Emirates     Raʼs al Khaymah     291074\n",
       "4      Khawr Fakkān  United Arab Emirates        Ash Shāriqah     291696"
      ]
     },
     "execution_count": 49,
     "metadata": {},
     "output_type": "execute_result"
    }
   ],
   "source": [
    "base1.head()"
   ]
  },
  {
   "cell_type": "markdown",
   "metadata": {},
   "source": [
    "**Dernières lignes**"
   ]
  },
  {
   "cell_type": "code",
   "execution_count": 51,
   "metadata": {},
   "outputs": [
    {
     "data": {
      "text/html": [
       "<div>\n",
       "<style scoped>\n",
       "    .dataframe tbody tr th:only-of-type {\n",
       "        vertical-align: middle;\n",
       "    }\n",
       "\n",
       "    .dataframe tbody tr th {\n",
       "        vertical-align: top;\n",
       "    }\n",
       "\n",
       "    .dataframe thead th {\n",
       "        text-align: right;\n",
       "    }\n",
       "</style>\n",
       "<table border=\"1\" class=\"dataframe\">\n",
       "  <thead>\n",
       "    <tr style=\"text-align: right;\">\n",
       "      <th></th>\n",
       "      <th>name</th>\n",
       "      <th>country</th>\n",
       "      <th>subcountry</th>\n",
       "      <th>geonameid</th>\n",
       "    </tr>\n",
       "  </thead>\n",
       "  <tbody>\n",
       "    <tr>\n",
       "      <th>23013</th>\n",
       "      <td>Bulawayo</td>\n",
       "      <td>Zimbabwe</td>\n",
       "      <td>Bulawayo</td>\n",
       "      <td>894701</td>\n",
       "    </tr>\n",
       "    <tr>\n",
       "      <th>23014</th>\n",
       "      <td>Bindura</td>\n",
       "      <td>Zimbabwe</td>\n",
       "      <td>Mashonaland Central</td>\n",
       "      <td>895061</td>\n",
       "    </tr>\n",
       "    <tr>\n",
       "      <th>23015</th>\n",
       "      <td>Beitbridge</td>\n",
       "      <td>Zimbabwe</td>\n",
       "      <td>Matabeleland South</td>\n",
       "      <td>895269</td>\n",
       "    </tr>\n",
       "    <tr>\n",
       "      <th>23016</th>\n",
       "      <td>Epworth</td>\n",
       "      <td>Zimbabwe</td>\n",
       "      <td>Harare</td>\n",
       "      <td>1085510</td>\n",
       "    </tr>\n",
       "    <tr>\n",
       "      <th>23017</th>\n",
       "      <td>Chitungwiza</td>\n",
       "      <td>Zimbabwe</td>\n",
       "      <td>Harare</td>\n",
       "      <td>1106542</td>\n",
       "    </tr>\n",
       "  </tbody>\n",
       "</table>\n",
       "</div>"
      ],
      "text/plain": [
       "              name   country           subcountry  geonameid\n",
       "23013     Bulawayo  Zimbabwe             Bulawayo     894701\n",
       "23014      Bindura  Zimbabwe  Mashonaland Central     895061\n",
       "23015   Beitbridge  Zimbabwe   Matabeleland South     895269\n",
       "23016      Epworth  Zimbabwe               Harare    1085510\n",
       "23017  Chitungwiza  Zimbabwe               Harare    1106542"
      ]
     },
     "execution_count": 51,
     "metadata": {},
     "output_type": "execute_result"
    }
   ],
   "source": [
    "base1.tail()"
   ]
  },
  {
   "cell_type": "markdown",
   "metadata": {},
   "source": [
    "Les données ont l'air d'être triées dans l'ordre croissant selon le Pays. <br/>\n",
    "Pas de déchet au début ou à la fin du fichier."
   ]
  },
  {
   "cell_type": "markdown",
   "metadata": {},
   "source": [
    "**Premières lignes**"
   ]
  },
  {
   "cell_type": "code",
   "execution_count": 52,
   "metadata": {
    "scrolled": true
   },
   "outputs": [
    {
     "data": {
      "text/html": [
       "<div>\n",
       "<style scoped>\n",
       "    .dataframe tbody tr th:only-of-type {\n",
       "        vertical-align: middle;\n",
       "    }\n",
       "\n",
       "    .dataframe tbody tr th {\n",
       "        vertical-align: top;\n",
       "    }\n",
       "\n",
       "    .dataframe thead th {\n",
       "        text-align: right;\n",
       "    }\n",
       "</style>\n",
       "<table border=\"1\" class=\"dataframe\">\n",
       "  <thead>\n",
       "    <tr style=\"text-align: right;\">\n",
       "      <th></th>\n",
       "      <th>Date</th>\n",
       "      <th>Open*</th>\n",
       "      <th>High</th>\n",
       "      <th>Low</th>\n",
       "      <th>Close**</th>\n",
       "      <th>Volume</th>\n",
       "      <th>Market Cap</th>\n",
       "    </tr>\n",
       "  </thead>\n",
       "  <tbody>\n",
       "    <tr>\n",
       "      <th>0</th>\n",
       "      <td>Jan 14 2020</td>\n",
       "      <td>8140.93</td>\n",
       "      <td>8879.51</td>\n",
       "      <td>8140.93</td>\n",
       "      <td>8827.76</td>\n",
       "      <td>4.484178e+10</td>\n",
       "      <td>1.603195e+11</td>\n",
       "    </tr>\n",
       "    <tr>\n",
       "      <th>1</th>\n",
       "      <td>Jan 13 2020</td>\n",
       "      <td>8189.77</td>\n",
       "      <td>8197.79</td>\n",
       "      <td>8079.70</td>\n",
       "      <td>8144.19</td>\n",
       "      <td>2.248291e+10</td>\n",
       "      <td>1.478905e+11</td>\n",
       "    </tr>\n",
       "    <tr>\n",
       "      <th>2</th>\n",
       "      <td>Jan 12 2020</td>\n",
       "      <td>8033.26</td>\n",
       "      <td>8200.06</td>\n",
       "      <td>8009.06</td>\n",
       "      <td>8192.49</td>\n",
       "      <td>2.290344e+10</td>\n",
       "      <td>1.487530e+11</td>\n",
       "    </tr>\n",
       "    <tr>\n",
       "      <th>3</th>\n",
       "      <td>Jan 11 2020</td>\n",
       "      <td>8162.19</td>\n",
       "      <td>8218.36</td>\n",
       "      <td>8029.64</td>\n",
       "      <td>8037.54</td>\n",
       "      <td>2.552117e+10</td>\n",
       "      <td>1.459242e+11</td>\n",
       "    </tr>\n",
       "    <tr>\n",
       "      <th>4</th>\n",
       "      <td>Jan 10 2020</td>\n",
       "      <td>7878.31</td>\n",
       "      <td>8166.55</td>\n",
       "      <td>7726.77</td>\n",
       "      <td>8166.55</td>\n",
       "      <td>2.871458e+10</td>\n",
       "      <td>1.482499e+11</td>\n",
       "    </tr>\n",
       "  </tbody>\n",
       "</table>\n",
       "</div>"
      ],
      "text/plain": [
       "          Date    Open*     High      Low  Close**        Volume    Market Cap\n",
       "0  Jan 14 2020  8140.93  8879.51  8140.93  8827.76  4.484178e+10  1.603195e+11\n",
       "1  Jan 13 2020  8189.77  8197.79  8079.70  8144.19  2.248291e+10  1.478905e+11\n",
       "2  Jan 12 2020  8033.26  8200.06  8009.06  8192.49  2.290344e+10  1.487530e+11\n",
       "3  Jan 11 2020  8162.19  8218.36  8029.64  8037.54  2.552117e+10  1.459242e+11\n",
       "4  Jan 10 2020  7878.31  8166.55  7726.77  8166.55  2.871458e+10  1.482499e+11"
      ]
     },
     "execution_count": 52,
     "metadata": {},
     "output_type": "execute_result"
    }
   ],
   "source": [
    "base2.head()"
   ]
  },
  {
   "cell_type": "markdown",
   "metadata": {},
   "source": [
    "**Dernières lignes**"
   ]
  },
  {
   "cell_type": "code",
   "execution_count": 53,
   "metadata": {},
   "outputs": [
    {
     "data": {
      "text/html": [
       "<div>\n",
       "<style scoped>\n",
       "    .dataframe tbody tr th:only-of-type {\n",
       "        vertical-align: middle;\n",
       "    }\n",
       "\n",
       "    .dataframe tbody tr th {\n",
       "        vertical-align: top;\n",
       "    }\n",
       "\n",
       "    .dataframe thead th {\n",
       "        text-align: right;\n",
       "    }\n",
       "</style>\n",
       "<table border=\"1\" class=\"dataframe\">\n",
       "  <thead>\n",
       "    <tr style=\"text-align: right;\">\n",
       "      <th></th>\n",
       "      <th>Date</th>\n",
       "      <th>Open*</th>\n",
       "      <th>High</th>\n",
       "      <th>Low</th>\n",
       "      <th>Close**</th>\n",
       "      <th>Volume</th>\n",
       "      <th>Market Cap</th>\n",
       "    </tr>\n",
       "  </thead>\n",
       "  <tbody>\n",
       "    <tr>\n",
       "      <th>28</th>\n",
       "      <td>Dec 17 2019</td>\n",
       "      <td>6931.32</td>\n",
       "      <td>6964.07</td>\n",
       "      <td>6587.97</td>\n",
       "      <td>6640.52</td>\n",
       "      <td>2.236380e+10</td>\n",
       "      <td>1.202342e+11</td>\n",
       "    </tr>\n",
       "    <tr>\n",
       "      <th>29</th>\n",
       "      <td>Dec 16 2019</td>\n",
       "      <td>7153.66</td>\n",
       "      <td>7171.17</td>\n",
       "      <td>6903.68</td>\n",
       "      <td>6932.48</td>\n",
       "      <td>2.021327e+10</td>\n",
       "      <td>1.255156e+11</td>\n",
       "    </tr>\n",
       "    <tr>\n",
       "      <th>30</th>\n",
       "      <td>Dec 15 2019</td>\n",
       "      <td>7124.24</td>\n",
       "      <td>7181.08</td>\n",
       "      <td>6924.38</td>\n",
       "      <td>7152.30</td>\n",
       "      <td>1.688113e+10</td>\n",
       "      <td>1.294814e+11</td>\n",
       "    </tr>\n",
       "    <tr>\n",
       "      <th>31</th>\n",
       "      <td>* Earliest data in range (UTC time)</td>\n",
       "      <td>NaN</td>\n",
       "      <td>NaN</td>\n",
       "      <td>NaN</td>\n",
       "      <td>NaN</td>\n",
       "      <td>NaN</td>\n",
       "      <td>NaN</td>\n",
       "    </tr>\n",
       "    <tr>\n",
       "      <th>32</th>\n",
       "      <td>** Latest data in range (UTC time)</td>\n",
       "      <td>NaN</td>\n",
       "      <td>NaN</td>\n",
       "      <td>NaN</td>\n",
       "      <td>NaN</td>\n",
       "      <td>NaN</td>\n",
       "      <td>NaN</td>\n",
       "    </tr>\n",
       "  </tbody>\n",
       "</table>\n",
       "</div>"
      ],
      "text/plain": [
       "                                   Date    Open*     High      Low  Close**  \\\n",
       "28                          Dec 17 2019  6931.32  6964.07  6587.97  6640.52   \n",
       "29                          Dec 16 2019  7153.66  7171.17  6903.68  6932.48   \n",
       "30                          Dec 15 2019  7124.24  7181.08  6924.38  7152.30   \n",
       "31  * Earliest data in range (UTC time)      NaN      NaN      NaN      NaN   \n",
       "32   ** Latest data in range (UTC time)      NaN      NaN      NaN      NaN   \n",
       "\n",
       "          Volume    Market Cap  \n",
       "28  2.236380e+10  1.202342e+11  \n",
       "29  2.021327e+10  1.255156e+11  \n",
       "30  1.688113e+10  1.294814e+11  \n",
       "31           NaN           NaN  \n",
       "32           NaN           NaN  "
      ]
     },
     "execution_count": 53,
     "metadata": {},
     "output_type": "execute_result"
    }
   ],
   "source": [
    "base2.tail()"
   ]
  },
  {
   "cell_type": "markdown",
   "metadata": {},
   "source": [
    "Les données ont l'air d'être triées dans l'ordre décroissant selon la Date.<br/>\n",
    "Déchets à la fin du fichier."
   ]
  },
  {
   "cell_type": "markdown",
   "metadata": {},
   "source": [
    "#### Recherche de valeurs manquantes"
   ]
  },
  {
   "cell_type": "code",
   "execution_count": 54,
   "metadata": {},
   "outputs": [
    {
     "data": {
      "text/plain": [
       "name           0\n",
       "country        0\n",
       "subcountry    26\n",
       "geonameid      0\n",
       "dtype: int64"
      ]
     },
     "execution_count": 54,
     "metadata": {},
     "output_type": "execute_result"
    }
   ],
   "source": [
    "base1.isna().sum()"
   ]
  },
  {
   "cell_type": "markdown",
   "metadata": {},
   "source": [
    "26 Données manquantes dans la colonne ```subcountry```."
   ]
  },
  {
   "cell_type": "code",
   "execution_count": 55,
   "metadata": {},
   "outputs": [
    {
     "data": {
      "text/plain": [
       "Date          0\n",
       "Open*         2\n",
       "High          2\n",
       "Low           2\n",
       "Close**       2\n",
       "Volume        2\n",
       "Market Cap    2\n",
       "dtype: int64"
      ]
     },
     "execution_count": 55,
     "metadata": {},
     "output_type": "execute_result"
    }
   ],
   "source": [
    "base2.isna().sum()"
   ]
  },
  {
   "cell_type": "markdown",
   "metadata": {},
   "source": [
    "Données manquantes correspondant aux lignes issues des déchets."
   ]
  },
  {
   "cell_type": "markdown",
   "metadata": {},
   "source": [
    "## Modifier une base de données \n",
    "### Modifier le nom d'une colonne\n",
    "**Par la fonction rename**"
   ]
  },
  {
   "cell_type": "code",
   "execution_count": 72,
   "metadata": {},
   "outputs": [
    {
     "data": {
      "text/html": [
       "<div>\n",
       "<style scoped>\n",
       "    .dataframe tbody tr th:only-of-type {\n",
       "        vertical-align: middle;\n",
       "    }\n",
       "\n",
       "    .dataframe tbody tr th {\n",
       "        vertical-align: top;\n",
       "    }\n",
       "\n",
       "    .dataframe thead th {\n",
       "        text-align: right;\n",
       "    }\n",
       "</style>\n",
       "<table border=\"1\" class=\"dataframe\">\n",
       "  <thead>\n",
       "    <tr style=\"text-align: right;\">\n",
       "      <th></th>\n",
       "      <th>Date</th>\n",
       "      <th>Open</th>\n",
       "      <th>High</th>\n",
       "      <th>Low</th>\n",
       "      <th>Close</th>\n",
       "      <th>Volume</th>\n",
       "      <th>Market Cap</th>\n",
       "    </tr>\n",
       "  </thead>\n",
       "  <tbody>\n",
       "    <tr>\n",
       "      <th>0</th>\n",
       "      <td>Jan 14 2020</td>\n",
       "      <td>8140.93</td>\n",
       "      <td>8879.51</td>\n",
       "      <td>8140.93</td>\n",
       "      <td>8827.76</td>\n",
       "      <td>4.484178e+10</td>\n",
       "      <td>1.603195e+11</td>\n",
       "    </tr>\n",
       "    <tr>\n",
       "      <th>1</th>\n",
       "      <td>Jan 13 2020</td>\n",
       "      <td>8189.77</td>\n",
       "      <td>8197.79</td>\n",
       "      <td>8079.70</td>\n",
       "      <td>8144.19</td>\n",
       "      <td>2.248291e+10</td>\n",
       "      <td>1.478905e+11</td>\n",
       "    </tr>\n",
       "    <tr>\n",
       "      <th>2</th>\n",
       "      <td>Jan 12 2020</td>\n",
       "      <td>8033.26</td>\n",
       "      <td>8200.06</td>\n",
       "      <td>8009.06</td>\n",
       "      <td>8192.49</td>\n",
       "      <td>2.290344e+10</td>\n",
       "      <td>1.487530e+11</td>\n",
       "    </tr>\n",
       "    <tr>\n",
       "      <th>3</th>\n",
       "      <td>Jan 11 2020</td>\n",
       "      <td>8162.19</td>\n",
       "      <td>8218.36</td>\n",
       "      <td>8029.64</td>\n",
       "      <td>8037.54</td>\n",
       "      <td>2.552117e+10</td>\n",
       "      <td>1.459242e+11</td>\n",
       "    </tr>\n",
       "    <tr>\n",
       "      <th>4</th>\n",
       "      <td>Jan 10 2020</td>\n",
       "      <td>7878.31</td>\n",
       "      <td>8166.55</td>\n",
       "      <td>7726.77</td>\n",
       "      <td>8166.55</td>\n",
       "      <td>2.871458e+10</td>\n",
       "      <td>1.482499e+11</td>\n",
       "    </tr>\n",
       "  </tbody>\n",
       "</table>\n",
       "</div>"
      ],
      "text/plain": [
       "          Date     Open     High      Low    Close        Volume    Market Cap\n",
       "0  Jan 14 2020  8140.93  8879.51  8140.93  8827.76  4.484178e+10  1.603195e+11\n",
       "1  Jan 13 2020  8189.77  8197.79  8079.70  8144.19  2.248291e+10  1.478905e+11\n",
       "2  Jan 12 2020  8033.26  8200.06  8009.06  8192.49  2.290344e+10  1.487530e+11\n",
       "3  Jan 11 2020  8162.19  8218.36  8029.64  8037.54  2.552117e+10  1.459242e+11\n",
       "4  Jan 10 2020  7878.31  8166.55  7726.77  8166.55  2.871458e+10  1.482499e+11"
      ]
     },
     "execution_count": 72,
     "metadata": {},
     "output_type": "execute_result"
    }
   ],
   "source": [
    "base_rename=base2.copy()\n",
    "base_rename.rename(columns={\"Open*\": \"Open\", \"Close**\":\"Close\"}, inplace=True)\n",
    "base_rename.head()"
   ]
  },
  {
   "cell_type": "markdown",
   "metadata": {},
   "source": [
    "**Par duplication de la colonne puis supression de l'ancienne colonne**"
   ]
  },
  {
   "cell_type": "code",
   "execution_count": 84,
   "metadata": {},
   "outputs": [
    {
     "data": {
      "text/html": [
       "<div>\n",
       "<style scoped>\n",
       "    .dataframe tbody tr th:only-of-type {\n",
       "        vertical-align: middle;\n",
       "    }\n",
       "\n",
       "    .dataframe tbody tr th {\n",
       "        vertical-align: top;\n",
       "    }\n",
       "\n",
       "    .dataframe thead th {\n",
       "        text-align: right;\n",
       "    }\n",
       "</style>\n",
       "<table border=\"1\" class=\"dataframe\">\n",
       "  <thead>\n",
       "    <tr style=\"text-align: right;\">\n",
       "      <th></th>\n",
       "      <th>Date</th>\n",
       "      <th>High</th>\n",
       "      <th>Low</th>\n",
       "      <th>Close**</th>\n",
       "      <th>Volume</th>\n",
       "      <th>Market Cap</th>\n",
       "      <th>Open</th>\n",
       "    </tr>\n",
       "  </thead>\n",
       "  <tbody>\n",
       "    <tr>\n",
       "      <th>0</th>\n",
       "      <td>Jan 14 2020</td>\n",
       "      <td>8879.51</td>\n",
       "      <td>8140.93</td>\n",
       "      <td>8827.76</td>\n",
       "      <td>4.484178e+10</td>\n",
       "      <td>1.603195e+11</td>\n",
       "      <td>8140.93</td>\n",
       "    </tr>\n",
       "    <tr>\n",
       "      <th>1</th>\n",
       "      <td>Jan 13 2020</td>\n",
       "      <td>8197.79</td>\n",
       "      <td>8079.70</td>\n",
       "      <td>8144.19</td>\n",
       "      <td>2.248291e+10</td>\n",
       "      <td>1.478905e+11</td>\n",
       "      <td>8189.77</td>\n",
       "    </tr>\n",
       "    <tr>\n",
       "      <th>2</th>\n",
       "      <td>Jan 12 2020</td>\n",
       "      <td>8200.06</td>\n",
       "      <td>8009.06</td>\n",
       "      <td>8192.49</td>\n",
       "      <td>2.290344e+10</td>\n",
       "      <td>1.487530e+11</td>\n",
       "      <td>8033.26</td>\n",
       "    </tr>\n",
       "    <tr>\n",
       "      <th>3</th>\n",
       "      <td>Jan 11 2020</td>\n",
       "      <td>8218.36</td>\n",
       "      <td>8029.64</td>\n",
       "      <td>8037.54</td>\n",
       "      <td>2.552117e+10</td>\n",
       "      <td>1.459242e+11</td>\n",
       "      <td>8162.19</td>\n",
       "    </tr>\n",
       "    <tr>\n",
       "      <th>4</th>\n",
       "      <td>Jan 10 2020</td>\n",
       "      <td>8166.55</td>\n",
       "      <td>7726.77</td>\n",
       "      <td>8166.55</td>\n",
       "      <td>2.871458e+10</td>\n",
       "      <td>1.482499e+11</td>\n",
       "      <td>7878.31</td>\n",
       "    </tr>\n",
       "  </tbody>\n",
       "</table>\n",
       "</div>"
      ],
      "text/plain": [
       "          Date     High      Low  Close**        Volume    Market Cap     Open\n",
       "0  Jan 14 2020  8879.51  8140.93  8827.76  4.484178e+10  1.603195e+11  8140.93\n",
       "1  Jan 13 2020  8197.79  8079.70  8144.19  2.248291e+10  1.478905e+11  8189.77\n",
       "2  Jan 12 2020  8200.06  8009.06  8192.49  2.290344e+10  1.487530e+11  8033.26\n",
       "3  Jan 11 2020  8218.36  8029.64  8037.54  2.552117e+10  1.459242e+11  8162.19\n",
       "4  Jan 10 2020  8166.55  7726.77  8166.55  2.871458e+10  1.482499e+11  7878.31"
      ]
     },
     "execution_count": 84,
     "metadata": {},
     "output_type": "execute_result"
    }
   ],
   "source": [
    "base_dupli=base2.copy()\n",
    "base_dupli['Open']=base_dupli['Open*']\n",
    "base_dupli.drop(['Open*'], axis='columns',inplace=True)\n",
    "base_dupli.head()"
   ]
  },
  {
   "cell_type": "markdown",
   "metadata": {},
   "source": [
    "**Par modification de la chaîne de caractères du nom de la colonne**"
   ]
  },
  {
   "cell_type": "code",
   "execution_count": 90,
   "metadata": {},
   "outputs": [],
   "source": [
    "def modif_adhoc(s):\n",
    "    s=s.replace('*','')\n",
    "    s=s.replace(' ','_')\n",
    "    return s"
   ]
  },
  {
   "cell_type": "code",
   "execution_count": 92,
   "metadata": {
    "scrolled": true
   },
   "outputs": [
    {
     "data": {
      "text/html": [
       "<div>\n",
       "<style scoped>\n",
       "    .dataframe tbody tr th:only-of-type {\n",
       "        vertical-align: middle;\n",
       "    }\n",
       "\n",
       "    .dataframe tbody tr th {\n",
       "        vertical-align: top;\n",
       "    }\n",
       "\n",
       "    .dataframe thead th {\n",
       "        text-align: right;\n",
       "    }\n",
       "</style>\n",
       "<table border=\"1\" class=\"dataframe\">\n",
       "  <thead>\n",
       "    <tr style=\"text-align: right;\">\n",
       "      <th></th>\n",
       "      <th>Date</th>\n",
       "      <th>Open</th>\n",
       "      <th>High</th>\n",
       "      <th>Low</th>\n",
       "      <th>Close</th>\n",
       "      <th>Volume</th>\n",
       "      <th>Market_Cap</th>\n",
       "    </tr>\n",
       "  </thead>\n",
       "  <tbody>\n",
       "    <tr>\n",
       "      <th>0</th>\n",
       "      <td>Jan 14 2020</td>\n",
       "      <td>8140.93</td>\n",
       "      <td>8879.51</td>\n",
       "      <td>8140.93</td>\n",
       "      <td>8827.76</td>\n",
       "      <td>4.484178e+10</td>\n",
       "      <td>1.603195e+11</td>\n",
       "    </tr>\n",
       "    <tr>\n",
       "      <th>1</th>\n",
       "      <td>Jan 13 2020</td>\n",
       "      <td>8189.77</td>\n",
       "      <td>8197.79</td>\n",
       "      <td>8079.70</td>\n",
       "      <td>8144.19</td>\n",
       "      <td>2.248291e+10</td>\n",
       "      <td>1.478905e+11</td>\n",
       "    </tr>\n",
       "    <tr>\n",
       "      <th>2</th>\n",
       "      <td>Jan 12 2020</td>\n",
       "      <td>8033.26</td>\n",
       "      <td>8200.06</td>\n",
       "      <td>8009.06</td>\n",
       "      <td>8192.49</td>\n",
       "      <td>2.290344e+10</td>\n",
       "      <td>1.487530e+11</td>\n",
       "    </tr>\n",
       "    <tr>\n",
       "      <th>3</th>\n",
       "      <td>Jan 11 2020</td>\n",
       "      <td>8162.19</td>\n",
       "      <td>8218.36</td>\n",
       "      <td>8029.64</td>\n",
       "      <td>8037.54</td>\n",
       "      <td>2.552117e+10</td>\n",
       "      <td>1.459242e+11</td>\n",
       "    </tr>\n",
       "    <tr>\n",
       "      <th>4</th>\n",
       "      <td>Jan 10 2020</td>\n",
       "      <td>7878.31</td>\n",
       "      <td>8166.55</td>\n",
       "      <td>7726.77</td>\n",
       "      <td>8166.55</td>\n",
       "      <td>2.871458e+10</td>\n",
       "      <td>1.482499e+11</td>\n",
       "    </tr>\n",
       "  </tbody>\n",
       "</table>\n",
       "</div>"
      ],
      "text/plain": [
       "          Date     Open     High      Low    Close        Volume    Market_Cap\n",
       "0  Jan 14 2020  8140.93  8879.51  8140.93  8827.76  4.484178e+10  1.603195e+11\n",
       "1  Jan 13 2020  8189.77  8197.79  8079.70  8144.19  2.248291e+10  1.478905e+11\n",
       "2  Jan 12 2020  8033.26  8200.06  8009.06  8192.49  2.290344e+10  1.487530e+11\n",
       "3  Jan 11 2020  8162.19  8218.36  8029.64  8037.54  2.552117e+10  1.459242e+11\n",
       "4  Jan 10 2020  7878.31  8166.55  7726.77  8166.55  2.871458e+10  1.482499e+11"
      ]
     },
     "execution_count": 92,
     "metadata": {},
     "output_type": "execute_result"
    }
   ],
   "source": [
    "base_function=base2.copy()\n",
    "base_function.rename(modif_adhoc, axis='columns',inplace=True)\n",
    "base_function.head()"
   ]
  },
  {
   "cell_type": "markdown",
   "metadata": {},
   "source": [
    "**Par utilisation du module**"
   ]
  },
  {
   "cell_type": "code",
   "execution_count": 99,
   "metadata": {},
   "outputs": [
    {
     "data": {
      "text/html": [
       "<div>\n",
       "<style scoped>\n",
       "    .dataframe tbody tr th:only-of-type {\n",
       "        vertical-align: middle;\n",
       "    }\n",
       "\n",
       "    .dataframe tbody tr th {\n",
       "        vertical-align: top;\n",
       "    }\n",
       "\n",
       "    .dataframe thead th {\n",
       "        text-align: right;\n",
       "    }\n",
       "</style>\n",
       "<table border=\"1\" class=\"dataframe\">\n",
       "  <thead>\n",
       "    <tr style=\"text-align: right;\">\n",
       "      <th></th>\n",
       "      <th>Date</th>\n",
       "      <th>Open</th>\n",
       "      <th>High</th>\n",
       "      <th>Low</th>\n",
       "      <th>Close</th>\n",
       "      <th>Volume</th>\n",
       "      <th>Market Cap</th>\n",
       "    </tr>\n",
       "  </thead>\n",
       "  <tbody>\n",
       "    <tr>\n",
       "      <th>0</th>\n",
       "      <td>Jan 14 2020</td>\n",
       "      <td>8140.93</td>\n",
       "      <td>8879.51</td>\n",
       "      <td>8140.93</td>\n",
       "      <td>8827.76</td>\n",
       "      <td>4.484178e+10</td>\n",
       "      <td>1.603195e+11</td>\n",
       "    </tr>\n",
       "    <tr>\n",
       "      <th>1</th>\n",
       "      <td>Jan 13 2020</td>\n",
       "      <td>8189.77</td>\n",
       "      <td>8197.79</td>\n",
       "      <td>8079.70</td>\n",
       "      <td>8144.19</td>\n",
       "      <td>2.248291e+10</td>\n",
       "      <td>1.478905e+11</td>\n",
       "    </tr>\n",
       "    <tr>\n",
       "      <th>2</th>\n",
       "      <td>Jan 12 2020</td>\n",
       "      <td>8033.26</td>\n",
       "      <td>8200.06</td>\n",
       "      <td>8009.06</td>\n",
       "      <td>8192.49</td>\n",
       "      <td>2.290344e+10</td>\n",
       "      <td>1.487530e+11</td>\n",
       "    </tr>\n",
       "    <tr>\n",
       "      <th>3</th>\n",
       "      <td>Jan 11 2020</td>\n",
       "      <td>8162.19</td>\n",
       "      <td>8218.36</td>\n",
       "      <td>8029.64</td>\n",
       "      <td>8037.54</td>\n",
       "      <td>2.552117e+10</td>\n",
       "      <td>1.459242e+11</td>\n",
       "    </tr>\n",
       "    <tr>\n",
       "      <th>4</th>\n",
       "      <td>Jan 10 2020</td>\n",
       "      <td>7878.31</td>\n",
       "      <td>8166.55</td>\n",
       "      <td>7726.77</td>\n",
       "      <td>8166.55</td>\n",
       "      <td>2.871458e+10</td>\n",
       "      <td>1.482499e+11</td>\n",
       "    </tr>\n",
       "  </tbody>\n",
       "</table>\n",
       "</div>"
      ],
      "text/plain": [
       "          Date     Open     High      Low    Close        Volume    Market Cap\n",
       "0  Jan 14 2020  8140.93  8879.51  8140.93  8827.76  4.484178e+10  1.603195e+11\n",
       "1  Jan 13 2020  8189.77  8197.79  8079.70  8144.19  2.248291e+10  1.478905e+11\n",
       "2  Jan 12 2020  8033.26  8200.06  8009.06  8192.49  2.290344e+10  1.487530e+11\n",
       "3  Jan 11 2020  8162.19  8218.36  8029.64  8037.54  2.552117e+10  1.459242e+11\n",
       "4  Jan 10 2020  7878.31  8166.55  7726.77  8166.55  2.871458e+10  1.482499e+11"
      ]
     },
     "execution_count": 99,
     "metadata": {},
     "output_type": "execute_result"
    }
   ],
   "source": [
    "base_method=base2.copy()\n",
    "base_method.columns=base_method.columns.str.replace('*','')\n",
    "base_method.head()"
   ]
  },
  {
   "cell_type": "markdown",
   "metadata": {},
   "source": [
    "***Application***\n",
    "Passer le nom des colonnes en majuscule."
   ]
  },
  {
   "cell_type": "code",
   "execution_count": 106,
   "metadata": {},
   "outputs": [
    {
     "data": {
      "text/html": [
       "<div>\n",
       "<style scoped>\n",
       "    .dataframe tbody tr th:only-of-type {\n",
       "        vertical-align: middle;\n",
       "    }\n",
       "\n",
       "    .dataframe tbody tr th {\n",
       "        vertical-align: top;\n",
       "    }\n",
       "\n",
       "    .dataframe thead th {\n",
       "        text-align: right;\n",
       "    }\n",
       "</style>\n",
       "<table border=\"1\" class=\"dataframe\">\n",
       "  <thead>\n",
       "    <tr style=\"text-align: right;\">\n",
       "      <th></th>\n",
       "      <th>a</th>\n",
       "      <th>b</th>\n",
       "    </tr>\n",
       "  </thead>\n",
       "  <tbody>\n",
       "    <tr>\n",
       "      <th>0</th>\n",
       "      <td>1</td>\n",
       "      <td>3</td>\n",
       "    </tr>\n",
       "    <tr>\n",
       "      <th>1</th>\n",
       "      <td>2</td>\n",
       "      <td>3</td>\n",
       "    </tr>\n",
       "  </tbody>\n",
       "</table>\n",
       "</div>"
      ],
      "text/plain": [
       "   a  b\n",
       "0  1  3\n",
       "1  2  3"
      ]
     },
     "execution_count": 106,
     "metadata": {},
     "output_type": "execute_result"
    }
   ],
   "source": [
    "test = pd.DataFrame(data={'a':[1,2],\n",
    "                         'b':[3,3]})\n",
    "test"
   ]
  },
  {
   "cell_type": "code",
   "execution_count": 107,
   "metadata": {},
   "outputs": [
    {
     "data": {
      "text/html": [
       "<div>\n",
       "<style scoped>\n",
       "    .dataframe tbody tr th:only-of-type {\n",
       "        vertical-align: middle;\n",
       "    }\n",
       "\n",
       "    .dataframe tbody tr th {\n",
       "        vertical-align: top;\n",
       "    }\n",
       "\n",
       "    .dataframe thead th {\n",
       "        text-align: right;\n",
       "    }\n",
       "</style>\n",
       "<table border=\"1\" class=\"dataframe\">\n",
       "  <thead>\n",
       "    <tr style=\"text-align: right;\">\n",
       "      <th></th>\n",
       "      <th>A</th>\n",
       "      <th>B</th>\n",
       "    </tr>\n",
       "  </thead>\n",
       "  <tbody>\n",
       "    <tr>\n",
       "      <th>0</th>\n",
       "      <td>1</td>\n",
       "      <td>3</td>\n",
       "    </tr>\n",
       "    <tr>\n",
       "      <th>1</th>\n",
       "      <td>2</td>\n",
       "      <td>3</td>\n",
       "    </tr>\n",
       "  </tbody>\n",
       "</table>\n",
       "</div>"
      ],
      "text/plain": [
       "   A  B\n",
       "0  1  3\n",
       "1  2  3"
      ]
     },
     "execution_count": 107,
     "metadata": {},
     "output_type": "execute_result"
    }
   ],
   "source": [
    "#Methode 1 : Rename\n",
    "test.rename(str.upper, axis='columns', inplace=True)\n",
    "test"
   ]
  },
  {
   "cell_type": "code",
   "execution_count": 111,
   "metadata": {},
   "outputs": [
    {
     "data": {
      "text/html": [
       "<div>\n",
       "<style scoped>\n",
       "    .dataframe tbody tr th:only-of-type {\n",
       "        vertical-align: middle;\n",
       "    }\n",
       "\n",
       "    .dataframe tbody tr th {\n",
       "        vertical-align: top;\n",
       "    }\n",
       "\n",
       "    .dataframe thead th {\n",
       "        text-align: right;\n",
       "    }\n",
       "</style>\n",
       "<table border=\"1\" class=\"dataframe\">\n",
       "  <thead>\n",
       "    <tr style=\"text-align: right;\">\n",
       "      <th></th>\n",
       "      <th>A</th>\n",
       "      <th>B</th>\n",
       "    </tr>\n",
       "  </thead>\n",
       "  <tbody>\n",
       "    <tr>\n",
       "      <th>0</th>\n",
       "      <td>1</td>\n",
       "      <td>3</td>\n",
       "    </tr>\n",
       "    <tr>\n",
       "      <th>1</th>\n",
       "      <td>2</td>\n",
       "      <td>3</td>\n",
       "    </tr>\n",
       "  </tbody>\n",
       "</table>\n",
       "</div>"
      ],
      "text/plain": [
       "   A  B\n",
       "0  1  3\n",
       "1  2  3"
      ]
     },
     "execution_count": 111,
     "metadata": {},
     "output_type": "execute_result"
    }
   ],
   "source": [
    "#Methode 2 : Module\n",
    "test.columns = test.columns.str.upper()\n",
    "test"
   ]
  },
  {
   "cell_type": "markdown",
   "metadata": {},
   "source": [
    "## Nettoyer des données\n",
    "Les données sont classées en deux catégories : les données sales et les données clean.\n",
    "\n",
    "| Sale | Clean : int/flt |\n",
    "|:-:|:-:|\n",
    "| object | numérique |\n",
    "| str | catégorielle |\n",
    "| int/flt | ordinale |\n",
    "\n",
    "### Transformation des données sales en clean\n",
    "\n",
    "a/ Extraire 'str'-> numérique int/flt<br/>\n",
    "b/ Extraires numérique -> ordinale<br/>\n",
    "c/ Extraire date -> numérique<br/>\n",
    "d/ Extraire date -> ordinale\n",
    "\n",
    "Traitement des valeurs manquantes (NaN)\n",
    "\n",
    "e/ Extraire tout type de variable -> catégorielle"
   ]
  },
  {
   "cell_type": "markdown",
   "metadata": {},
   "source": [
    "### Application"
   ]
  },
  {
   "cell_type": "code",
   "execution_count": 122,
   "metadata": {},
   "outputs": [
    {
     "data": {
      "text/html": [
       "<div>\n",
       "<style scoped>\n",
       "    .dataframe tbody tr th:only-of-type {\n",
       "        vertical-align: middle;\n",
       "    }\n",
       "\n",
       "    .dataframe tbody tr th {\n",
       "        vertical-align: top;\n",
       "    }\n",
       "\n",
       "    .dataframe thead th {\n",
       "        text-align: right;\n",
       "    }\n",
       "</style>\n",
       "<table border=\"1\" class=\"dataframe\">\n",
       "  <thead>\n",
       "    <tr style=\"text-align: right;\">\n",
       "      <th></th>\n",
       "      <th>bitcoin address</th>\n",
       "      <th>wire amount</th>\n",
       "      <th>credit card</th>\n",
       "    </tr>\n",
       "  </thead>\n",
       "  <tbody>\n",
       "    <tr>\n",
       "      <th>0</th>\n",
       "      <td>1J9DVMtgvnPv4KGHL2XSzoTSt5cBBL1DXe</td>\n",
       "      <td>£8356.92</td>\n",
       "      <td>3543456448666398</td>\n",
       "    </tr>\n",
       "    <tr>\n",
       "      <th>1</th>\n",
       "      <td>1HaiVQbzCTs7t1K1fckYEUi9t8ERBFRR7Q</td>\n",
       "      <td>€311,06</td>\n",
       "      <td>3584615208479876</td>\n",
       "    </tr>\n",
       "    <tr>\n",
       "      <th>2</th>\n",
       "      <td>1NGPjXfDScEUSZYajAzCkxaVApTbBHC7jP</td>\n",
       "      <td>€2032,44</td>\n",
       "      <td>6370577480710876</td>\n",
       "    </tr>\n",
       "    <tr>\n",
       "      <th>3</th>\n",
       "      <td>15cSYRTbcrxYinxNxk7VbkPLZG8nypdjy6</td>\n",
       "      <td>¥8155.74</td>\n",
       "      <td>4508652385157398</td>\n",
       "    </tr>\n",
       "    <tr>\n",
       "      <th>4</th>\n",
       "      <td>18j2qG1DH9YduJiBiccAq8Ak897G3E4JyZ</td>\n",
       "      <td>£3265.44</td>\n",
       "      <td>374622922103592</td>\n",
       "    </tr>\n",
       "  </tbody>\n",
       "</table>\n",
       "</div>"
      ],
      "text/plain": [
       "                      bitcoin address wire amount       credit card\n",
       "0  1J9DVMtgvnPv4KGHL2XSzoTSt5cBBL1DXe    £8356.92  3543456448666398\n",
       "1  1HaiVQbzCTs7t1K1fckYEUi9t8ERBFRR7Q     €311,06  3584615208479876\n",
       "2  1NGPjXfDScEUSZYajAzCkxaVApTbBHC7jP    €2032,44  6370577480710876\n",
       "3  15cSYRTbcrxYinxNxk7VbkPLZG8nypdjy6    ¥8155.74  4508652385157398\n",
       "4  18j2qG1DH9YduJiBiccAq8Ak897G3E4JyZ    £3265.44   374622922103592"
      ]
     },
     "execution_count": 122,
     "metadata": {},
     "output_type": "execute_result"
    }
   ],
   "source": [
    "base_sale=pd.read_csv(\"https://bit.ly/bitcoin-purchases2\")\n",
    "base_sale.head()"
   ]
  },
  {
   "cell_type": "markdown",
   "metadata": {},
   "source": [
    "**transformer les , en .**"
   ]
  },
  {
   "cell_type": "code",
   "execution_count": 125,
   "metadata": {},
   "outputs": [
    {
     "data": {
      "text/html": [
       "<div>\n",
       "<style scoped>\n",
       "    .dataframe tbody tr th:only-of-type {\n",
       "        vertical-align: middle;\n",
       "    }\n",
       "\n",
       "    .dataframe tbody tr th {\n",
       "        vertical-align: top;\n",
       "    }\n",
       "\n",
       "    .dataframe thead th {\n",
       "        text-align: right;\n",
       "    }\n",
       "</style>\n",
       "<table border=\"1\" class=\"dataframe\">\n",
       "  <thead>\n",
       "    <tr style=\"text-align: right;\">\n",
       "      <th></th>\n",
       "      <th>bitcoin address</th>\n",
       "      <th>wire amount</th>\n",
       "      <th>credit card</th>\n",
       "    </tr>\n",
       "  </thead>\n",
       "  <tbody>\n",
       "    <tr>\n",
       "      <th>0</th>\n",
       "      <td>1J9DVMtgvnPv4KGHL2XSzoTSt5cBBL1DXe</td>\n",
       "      <td>£8356.92</td>\n",
       "      <td>3543456448666398</td>\n",
       "    </tr>\n",
       "    <tr>\n",
       "      <th>1</th>\n",
       "      <td>1HaiVQbzCTs7t1K1fckYEUi9t8ERBFRR7Q</td>\n",
       "      <td>€311.06</td>\n",
       "      <td>3584615208479876</td>\n",
       "    </tr>\n",
       "    <tr>\n",
       "      <th>2</th>\n",
       "      <td>1NGPjXfDScEUSZYajAzCkxaVApTbBHC7jP</td>\n",
       "      <td>€2032.44</td>\n",
       "      <td>6370577480710876</td>\n",
       "    </tr>\n",
       "    <tr>\n",
       "      <th>3</th>\n",
       "      <td>15cSYRTbcrxYinxNxk7VbkPLZG8nypdjy6</td>\n",
       "      <td>¥8155.74</td>\n",
       "      <td>4508652385157398</td>\n",
       "    </tr>\n",
       "    <tr>\n",
       "      <th>4</th>\n",
       "      <td>18j2qG1DH9YduJiBiccAq8Ak897G3E4JyZ</td>\n",
       "      <td>£3265.44</td>\n",
       "      <td>374622922103592</td>\n",
       "    </tr>\n",
       "  </tbody>\n",
       "</table>\n",
       "</div>"
      ],
      "text/plain": [
       "                      bitcoin address wire amount       credit card\n",
       "0  1J9DVMtgvnPv4KGHL2XSzoTSt5cBBL1DXe    £8356.92  3543456448666398\n",
       "1  1HaiVQbzCTs7t1K1fckYEUi9t8ERBFRR7Q     €311.06  3584615208479876\n",
       "2  1NGPjXfDScEUSZYajAzCkxaVApTbBHC7jP    €2032.44  6370577480710876\n",
       "3  15cSYRTbcrxYinxNxk7VbkPLZG8nypdjy6    ¥8155.74  4508652385157398\n",
       "4  18j2qG1DH9YduJiBiccAq8Ak897G3E4JyZ    £3265.44   374622922103592"
      ]
     },
     "execution_count": 125,
     "metadata": {},
     "output_type": "execute_result"
    }
   ],
   "source": [
    "base_sale['wire amount']=base_sale['wire amount'].str.replace(',','.')\n",
    "base_sale.head()"
   ]
  },
  {
   "cell_type": "markdown",
   "metadata": {},
   "source": [
    "**Extraire les Devises dans une nouvelles colonne**"
   ]
  },
  {
   "cell_type": "code",
   "execution_count": 127,
   "metadata": {},
   "outputs": [
    {
     "data": {
      "text/html": [
       "<div>\n",
       "<style scoped>\n",
       "    .dataframe tbody tr th:only-of-type {\n",
       "        vertical-align: middle;\n",
       "    }\n",
       "\n",
       "    .dataframe tbody tr th {\n",
       "        vertical-align: top;\n",
       "    }\n",
       "\n",
       "    .dataframe thead th {\n",
       "        text-align: right;\n",
       "    }\n",
       "</style>\n",
       "<table border=\"1\" class=\"dataframe\">\n",
       "  <thead>\n",
       "    <tr style=\"text-align: right;\">\n",
       "      <th></th>\n",
       "      <th>bitcoin address</th>\n",
       "      <th>wire amount</th>\n",
       "      <th>credit card</th>\n",
       "      <th>devise</th>\n",
       "    </tr>\n",
       "  </thead>\n",
       "  <tbody>\n",
       "    <tr>\n",
       "      <th>0</th>\n",
       "      <td>1J9DVMtgvnPv4KGHL2XSzoTSt5cBBL1DXe</td>\n",
       "      <td>£8356.92</td>\n",
       "      <td>3543456448666398</td>\n",
       "      <td>£</td>\n",
       "    </tr>\n",
       "    <tr>\n",
       "      <th>1</th>\n",
       "      <td>1HaiVQbzCTs7t1K1fckYEUi9t8ERBFRR7Q</td>\n",
       "      <td>€311.06</td>\n",
       "      <td>3584615208479876</td>\n",
       "      <td>€</td>\n",
       "    </tr>\n",
       "    <tr>\n",
       "      <th>2</th>\n",
       "      <td>1NGPjXfDScEUSZYajAzCkxaVApTbBHC7jP</td>\n",
       "      <td>€2032.44</td>\n",
       "      <td>6370577480710876</td>\n",
       "      <td>€</td>\n",
       "    </tr>\n",
       "    <tr>\n",
       "      <th>3</th>\n",
       "      <td>15cSYRTbcrxYinxNxk7VbkPLZG8nypdjy6</td>\n",
       "      <td>¥8155.74</td>\n",
       "      <td>4508652385157398</td>\n",
       "      <td>¥</td>\n",
       "    </tr>\n",
       "    <tr>\n",
       "      <th>4</th>\n",
       "      <td>18j2qG1DH9YduJiBiccAq8Ak897G3E4JyZ</td>\n",
       "      <td>£3265.44</td>\n",
       "      <td>374622922103592</td>\n",
       "      <td>£</td>\n",
       "    </tr>\n",
       "  </tbody>\n",
       "</table>\n",
       "</div>"
      ],
      "text/plain": [
       "                      bitcoin address wire amount       credit card devise\n",
       "0  1J9DVMtgvnPv4KGHL2XSzoTSt5cBBL1DXe    £8356.92  3543456448666398      £\n",
       "1  1HaiVQbzCTs7t1K1fckYEUi9t8ERBFRR7Q     €311.06  3584615208479876      €\n",
       "2  1NGPjXfDScEUSZYajAzCkxaVApTbBHC7jP    €2032.44  6370577480710876      €\n",
       "3  15cSYRTbcrxYinxNxk7VbkPLZG8nypdjy6    ¥8155.74  4508652385157398      ¥\n",
       "4  18j2qG1DH9YduJiBiccAq8Ak897G3E4JyZ    £3265.44   374622922103592      £"
      ]
     },
     "execution_count": 127,
     "metadata": {},
     "output_type": "execute_result"
    }
   ],
   "source": [
    "base_sale['devise']=base_sale['wire amount'].str.get(0)\n",
    "base_sale.head()"
   ]
  },
  {
   "cell_type": "code",
   "execution_count": 129,
   "metadata": {},
   "outputs": [
    {
     "data": {
      "text/html": [
       "<div>\n",
       "<style scoped>\n",
       "    .dataframe tbody tr th:only-of-type {\n",
       "        vertical-align: middle;\n",
       "    }\n",
       "\n",
       "    .dataframe tbody tr th {\n",
       "        vertical-align: top;\n",
       "    }\n",
       "\n",
       "    .dataframe thead th {\n",
       "        text-align: right;\n",
       "    }\n",
       "</style>\n",
       "<table border=\"1\" class=\"dataframe\">\n",
       "  <thead>\n",
       "    <tr style=\"text-align: right;\">\n",
       "      <th></th>\n",
       "      <th>bitcoin address</th>\n",
       "      <th>wire amount</th>\n",
       "      <th>credit card</th>\n",
       "      <th>devise</th>\n",
       "    </tr>\n",
       "  </thead>\n",
       "  <tbody>\n",
       "    <tr>\n",
       "      <th>0</th>\n",
       "      <td>1J9DVMtgvnPv4KGHL2XSzoTSt5cBBL1DXe</td>\n",
       "      <td>8356.92</td>\n",
       "      <td>3543456448666398</td>\n",
       "      <td>£</td>\n",
       "    </tr>\n",
       "    <tr>\n",
       "      <th>1</th>\n",
       "      <td>1HaiVQbzCTs7t1K1fckYEUi9t8ERBFRR7Q</td>\n",
       "      <td>311.06</td>\n",
       "      <td>3584615208479876</td>\n",
       "      <td>€</td>\n",
       "    </tr>\n",
       "    <tr>\n",
       "      <th>2</th>\n",
       "      <td>1NGPjXfDScEUSZYajAzCkxaVApTbBHC7jP</td>\n",
       "      <td>2032.44</td>\n",
       "      <td>6370577480710876</td>\n",
       "      <td>€</td>\n",
       "    </tr>\n",
       "    <tr>\n",
       "      <th>3</th>\n",
       "      <td>15cSYRTbcrxYinxNxk7VbkPLZG8nypdjy6</td>\n",
       "      <td>8155.74</td>\n",
       "      <td>4508652385157398</td>\n",
       "      <td>¥</td>\n",
       "    </tr>\n",
       "    <tr>\n",
       "      <th>4</th>\n",
       "      <td>18j2qG1DH9YduJiBiccAq8Ak897G3E4JyZ</td>\n",
       "      <td>3265.44</td>\n",
       "      <td>374622922103592</td>\n",
       "      <td>£</td>\n",
       "    </tr>\n",
       "  </tbody>\n",
       "</table>\n",
       "</div>"
      ],
      "text/plain": [
       "                      bitcoin address wire amount       credit card devise\n",
       "0  1J9DVMtgvnPv4KGHL2XSzoTSt5cBBL1DXe     8356.92  3543456448666398      £\n",
       "1  1HaiVQbzCTs7t1K1fckYEUi9t8ERBFRR7Q      311.06  3584615208479876      €\n",
       "2  1NGPjXfDScEUSZYajAzCkxaVApTbBHC7jP     2032.44  6370577480710876      €\n",
       "3  15cSYRTbcrxYinxNxk7VbkPLZG8nypdjy6     8155.74  4508652385157398      ¥\n",
       "4  18j2qG1DH9YduJiBiccAq8Ak897G3E4JyZ     3265.44   374622922103592      £"
      ]
     },
     "execution_count": 129,
     "metadata": {},
     "output_type": "execute_result"
    }
   ],
   "source": [
    "base_sale['wire amount']=base_sale['wire amount'].str[1:]\n",
    "base_sale.head()"
   ]
  },
  {
   "cell_type": "markdown",
   "metadata": {},
   "source": [
    "**Pour extraire des valeurs numériques depuis des chaînes de caractères, il faut:**\n",
    "\n",
    "1/ Retravailler la colonne pour que toutes les entrées soient *castable* en **in** ou **float**.\n",
    "\n",
    "2/ Effectuer la conversion de votre choix avec ```astype(int)```ou ```astype(float)```\n",
    "\n",
    "**Exercice 1 :**"
   ]
  },
  {
   "cell_type": "code",
   "execution_count": 144,
   "metadata": {},
   "outputs": [
    {
     "data": {
      "text/html": [
       "<div>\n",
       "<style scoped>\n",
       "    .dataframe tbody tr th:only-of-type {\n",
       "        vertical-align: middle;\n",
       "    }\n",
       "\n",
       "    .dataframe tbody tr th {\n",
       "        vertical-align: top;\n",
       "    }\n",
       "\n",
       "    .dataframe thead th {\n",
       "        text-align: right;\n",
       "    }\n",
       "</style>\n",
       "<table border=\"1\" class=\"dataframe\">\n",
       "  <thead>\n",
       "    <tr style=\"text-align: right;\">\n",
       "      <th></th>\n",
       "      <th>col1</th>\n",
       "      <th>col2</th>\n",
       "    </tr>\n",
       "  </thead>\n",
       "  <tbody>\n",
       "    <tr>\n",
       "      <th>0</th>\n",
       "      <td>420,79</td>\n",
       "      <td>939.81</td>\n",
       "    </tr>\n",
       "    <tr>\n",
       "      <th>1</th>\n",
       "      <td>164,68</td>\n",
       "      <td>983,41</td>\n",
       "    </tr>\n",
       "    <tr>\n",
       "      <th>2</th>\n",
       "      <td>193,20</td>\n",
       "      <td>517.42</td>\n",
       "    </tr>\n",
       "    <tr>\n",
       "      <th>3</th>\n",
       "      <td>904,72</td>\n",
       "      <td>332.33</td>\n",
       "    </tr>\n",
       "    <tr>\n",
       "      <th>4</th>\n",
       "      <td>343,53</td>\n",
       "      <td>308,18</td>\n",
       "    </tr>\n",
       "  </tbody>\n",
       "</table>\n",
       "</div>"
      ],
      "text/plain": [
       "     col1    col2\n",
       "0  420,79  939.81\n",
       "1  164,68  983,41\n",
       "2  193,20  517.42\n",
       "3  904,72  332.33\n",
       "4  343,53  308,18"
      ]
     },
     "execution_count": 144,
     "metadata": {},
     "output_type": "execute_result"
    }
   ],
   "source": [
    "import random\n",
    "def makeNumberStr(sep=[',']):\n",
    "    avantVirgule=str(random.randint(1,1000))\n",
    "    aprèsVirgule='{:02}'.format(random.randint(0,99))\n",
    "    sep=random.choice(sep)\n",
    "    return avantVirgule + sep + aprèsVirgule\n",
    "\n",
    "col1 = [makeNumberStr() for _ in range(200)]\n",
    "col2 = [makeNumberStr(['.',',']) for _ in range (200)]\n",
    "\n",
    "exo1 = pd.DataFrame(data={\"col1\":col1,\n",
    "                         \"col2\":col2})\n",
    "exo1.head()"
   ]
  },
  {
   "cell_type": "code",
   "execution_count": 141,
   "metadata": {},
   "outputs": [
    {
     "data": {
      "text/html": [
       "<div>\n",
       "<style scoped>\n",
       "    .dataframe tbody tr th:only-of-type {\n",
       "        vertical-align: middle;\n",
       "    }\n",
       "\n",
       "    .dataframe tbody tr th {\n",
       "        vertical-align: top;\n",
       "    }\n",
       "\n",
       "    .dataframe thead th {\n",
       "        text-align: right;\n",
       "    }\n",
       "</style>\n",
       "<table border=\"1\" class=\"dataframe\">\n",
       "  <thead>\n",
       "    <tr style=\"text-align: right;\">\n",
       "      <th></th>\n",
       "      <th>col1</th>\n",
       "      <th>col2</th>\n",
       "    </tr>\n",
       "  </thead>\n",
       "  <tbody>\n",
       "    <tr>\n",
       "      <th>0</th>\n",
       "      <td>239.27</td>\n",
       "      <td>780.32</td>\n",
       "    </tr>\n",
       "    <tr>\n",
       "      <th>1</th>\n",
       "      <td>404.71</td>\n",
       "      <td>104.93</td>\n",
       "    </tr>\n",
       "    <tr>\n",
       "      <th>2</th>\n",
       "      <td>507.44</td>\n",
       "      <td>407.27</td>\n",
       "    </tr>\n",
       "    <tr>\n",
       "      <th>3</th>\n",
       "      <td>669.94</td>\n",
       "      <td>152.39</td>\n",
       "    </tr>\n",
       "    <tr>\n",
       "      <th>4</th>\n",
       "      <td>854.97</td>\n",
       "      <td>909.84</td>\n",
       "    </tr>\n",
       "  </tbody>\n",
       "</table>\n",
       "</div>"
      ],
      "text/plain": [
       "     col1    col2\n",
       "0  239.27  780.32\n",
       "1  404.71  104.93\n",
       "2  507.44  407.27\n",
       "3  669.94  152.39\n",
       "4  854.97  909.84"
      ]
     },
     "execution_count": 141,
     "metadata": {},
     "output_type": "execute_result"
    }
   ],
   "source": [
    "exo1['col1']=exo1['col1'].str.replace(',','.')\n",
    "exo1['col2']=exo1['col2'].str.replace(',','.')\n",
    "exo1 = exo1.astype({'col1': 'float', 'col2': 'float'})\n",
    "exo1.head()"
   ]
  },
  {
   "cell_type": "markdown",
   "metadata": {},
   "source": [
    "**Exercice 2 :**"
   ]
  },
  {
   "cell_type": "code",
   "execution_count": 145,
   "metadata": {},
   "outputs": [
    {
     "data": {
      "text/html": [
       "<div>\n",
       "<style scoped>\n",
       "    .dataframe tbody tr th:only-of-type {\n",
       "        vertical-align: middle;\n",
       "    }\n",
       "\n",
       "    .dataframe tbody tr th {\n",
       "        vertical-align: top;\n",
       "    }\n",
       "\n",
       "    .dataframe thead th {\n",
       "        text-align: right;\n",
       "    }\n",
       "</style>\n",
       "<table border=\"1\" class=\"dataframe\">\n",
       "  <thead>\n",
       "    <tr style=\"text-align: right;\">\n",
       "      <th></th>\n",
       "      <th>col1</th>\n",
       "      <th>col2</th>\n",
       "    </tr>\n",
       "  </thead>\n",
       "  <tbody>\n",
       "    <tr>\n",
       "      <th>0</th>\n",
       "      <td>933,93$</td>\n",
       "      <td>65.20€</td>\n",
       "    </tr>\n",
       "    <tr>\n",
       "      <th>1</th>\n",
       "      <td>254,70$</td>\n",
       "      <td>22.74$</td>\n",
       "    </tr>\n",
       "    <tr>\n",
       "      <th>2</th>\n",
       "      <td>78,77€</td>\n",
       "      <td>203.66€</td>\n",
       "    </tr>\n",
       "    <tr>\n",
       "      <th>3</th>\n",
       "      <td>549,96$</td>\n",
       "      <td>298.29€</td>\n",
       "    </tr>\n",
       "    <tr>\n",
       "      <th>4</th>\n",
       "      <td>574,18$</td>\n",
       "      <td>55,67$</td>\n",
       "    </tr>\n",
       "  </tbody>\n",
       "</table>\n",
       "</div>"
      ],
      "text/plain": [
       "      col1     col2\n",
       "0  933,93$   65.20€\n",
       "1  254,70$   22.74$\n",
       "2   78,77€  203.66€\n",
       "3  549,96$  298.29€\n",
       "4  574,18$   55,67$"
      ]
     },
     "execution_count": 145,
     "metadata": {},
     "output_type": "execute_result"
    }
   ],
   "source": [
    "def makeNumberStrRandSign(sep=[','], signs=['€','$']):\n",
    "    avantVirgule=str(random.randint(1,1000))\n",
    "    aprèsVirgule='{:02}'.format(random.randint(0,99))\n",
    "    sep=random.choice(sep)\n",
    "    sign=random.choice(signs)\n",
    "    return avantVirgule + sep + aprèsVirgule + sign\n",
    "\n",
    "col1 = [makeNumberStrRandSign() for _ in range(200)]\n",
    "col2 = [makeNumberStrRandSign(['.',',']) for _ in range (200)]\n",
    "\n",
    "exo2 = pd.DataFrame(data={\"col1\":col1,\n",
    "                         \"col2\":col2})\n",
    "exo2.head()"
   ]
  },
  {
   "cell_type": "code",
   "execution_count": 152,
   "metadata": {},
   "outputs": [
    {
     "data": {
      "text/html": [
       "<div>\n",
       "<style scoped>\n",
       "    .dataframe tbody tr th:only-of-type {\n",
       "        vertical-align: middle;\n",
       "    }\n",
       "\n",
       "    .dataframe tbody tr th {\n",
       "        vertical-align: top;\n",
       "    }\n",
       "\n",
       "    .dataframe thead th {\n",
       "        text-align: right;\n",
       "    }\n",
       "</style>\n",
       "<table border=\"1\" class=\"dataframe\">\n",
       "  <thead>\n",
       "    <tr style=\"text-align: right;\">\n",
       "      <th></th>\n",
       "      <th>col1</th>\n",
       "      <th>col2</th>\n",
       "      <th>devise1</th>\n",
       "      <th>devise2</th>\n",
       "    </tr>\n",
       "  </thead>\n",
       "  <tbody>\n",
       "    <tr>\n",
       "      <th>0</th>\n",
       "      <td>933.93</td>\n",
       "      <td>65.20</td>\n",
       "      <td>$</td>\n",
       "      <td>€</td>\n",
       "    </tr>\n",
       "    <tr>\n",
       "      <th>1</th>\n",
       "      <td>254.70</td>\n",
       "      <td>22.74</td>\n",
       "      <td>$</td>\n",
       "      <td>$</td>\n",
       "    </tr>\n",
       "    <tr>\n",
       "      <th>2</th>\n",
       "      <td>78.77</td>\n",
       "      <td>203.66</td>\n",
       "      <td>€</td>\n",
       "      <td>€</td>\n",
       "    </tr>\n",
       "    <tr>\n",
       "      <th>3</th>\n",
       "      <td>549.96</td>\n",
       "      <td>298.29</td>\n",
       "      <td>$</td>\n",
       "      <td>€</td>\n",
       "    </tr>\n",
       "    <tr>\n",
       "      <th>4</th>\n",
       "      <td>574.18</td>\n",
       "      <td>55.67</td>\n",
       "      <td>$</td>\n",
       "      <td>$</td>\n",
       "    </tr>\n",
       "  </tbody>\n",
       "</table>\n",
       "</div>"
      ],
      "text/plain": [
       "     col1    col2 devise1 devise2\n",
       "0  933.93   65.20       $       €\n",
       "1  254.70   22.74       $       $\n",
       "2   78.77  203.66       €       €\n",
       "3  549.96  298.29       $       €\n",
       "4  574.18   55.67       $       $"
      ]
     },
     "execution_count": 152,
     "metadata": {},
     "output_type": "execute_result"
    }
   ],
   "source": [
    "exo2['col1']=exo2['col1'].str.replace(',','.')\n",
    "exo2['col2']=exo2['col2'].str.replace(',','.')\n",
    "exo2['devise1']=exo2['col1'].str[-1]\n",
    "exo2['devise2']=exo2['col2'].str[-1]\n",
    "exo2['col1']=exo2['col1'].str[:-1]\n",
    "exo2['col2']=exo2['col2'].str[:-1]\n",
    "\n",
    "exo2 = exo2.astype({'col1': 'float', 'col2': 'float'})\n",
    "exo2.head()"
   ]
  },
  {
   "cell_type": "markdown",
   "metadata": {},
   "source": [
    "**Transformer un jeu de données en données ordinales**"
   ]
  },
  {
   "cell_type": "code",
   "execution_count": 155,
   "metadata": {},
   "outputs": [
    {
     "data": {
      "text/html": [
       "<div>\n",
       "<style scoped>\n",
       "    .dataframe tbody tr th:only-of-type {\n",
       "        vertical-align: middle;\n",
       "    }\n",
       "\n",
       "    .dataframe tbody tr th {\n",
       "        vertical-align: top;\n",
       "    }\n",
       "\n",
       "    .dataframe thead th {\n",
       "        text-align: right;\n",
       "    }\n",
       "</style>\n",
       "<table border=\"1\" class=\"dataframe\">\n",
       "  <thead>\n",
       "    <tr style=\"text-align: right;\">\n",
       "      <th></th>\n",
       "      <th>Date of Arrest</th>\n",
       "      <th>Age</th>\n",
       "      <th>Convicted</th>\n",
       "    </tr>\n",
       "  </thead>\n",
       "  <tbody>\n",
       "    <tr>\n",
       "      <th>0</th>\n",
       "      <td>2014-07-16 14:59:18</td>\n",
       "      <td>77</td>\n",
       "      <td>Yes</td>\n",
       "    </tr>\n",
       "    <tr>\n",
       "      <th>1</th>\n",
       "      <td>2002-12-19 22:17:59</td>\n",
       "      <td>28</td>\n",
       "      <td>Yes</td>\n",
       "    </tr>\n",
       "    <tr>\n",
       "      <th>2</th>\n",
       "      <td>1994-06-28 09:31:40</td>\n",
       "      <td>21</td>\n",
       "      <td>No</td>\n",
       "    </tr>\n",
       "    <tr>\n",
       "      <th>3</th>\n",
       "      <td>1985-05-14 09:52:17</td>\n",
       "      <td>45</td>\n",
       "      <td>Yes</td>\n",
       "    </tr>\n",
       "    <tr>\n",
       "      <th>4</th>\n",
       "      <td>1985-05-25 14:06:28</td>\n",
       "      <td>39</td>\n",
       "      <td>Yes</td>\n",
       "    </tr>\n",
       "  </tbody>\n",
       "</table>\n",
       "</div>"
      ],
      "text/plain": [
       "        Date of Arrest  Age Convicted\n",
       "0  2014-07-16 14:59:18   77       Yes\n",
       "1  2002-12-19 22:17:59   28       Yes\n",
       "2  1994-06-28 09:31:40   21        No\n",
       "3  1985-05-14 09:52:17   45       Yes\n",
       "4  1985-05-25 14:06:28   39       Yes"
      ]
     },
     "execution_count": 155,
     "metadata": {},
     "output_type": "execute_result"
    }
   ],
   "source": [
    "data=pd.read_csv(\"https://bit.ly/felonies-dataset\")\n",
    "data.head()"
   ]
  },
  {
   "cell_type": "code",
   "execution_count": 156,
   "metadata": {},
   "outputs": [
    {
     "data": {
      "text/plain": [
       "count    1000.000000\n",
       "mean       54.605000\n",
       "std        25.225172\n",
       "min        10.000000\n",
       "25%        33.000000\n",
       "50%        53.000000\n",
       "75%        76.000000\n",
       "max        99.000000\n",
       "Name: Age, dtype: float64"
      ]
     },
     "execution_count": 156,
     "metadata": {},
     "output_type": "execute_result"
    }
   ],
   "source": [
    "data['Age'].describe()"
   ]
  },
  {
   "cell_type": "markdown",
   "metadata": {},
   "source": [
    "Comment transformer une valeur numérique en catégorie ?"
   ]
  },
  {
   "cell_type": "code",
   "execution_count": 157,
   "metadata": {},
   "outputs": [],
   "source": [
    "o=pd.cut(data['Age'],\n",
    "      bins=[10,14,20,65,100],\n",
    "      labels=['Enfant','Ado','Adult','Senior'])"
   ]
  },
  {
   "cell_type": "code",
   "execution_count": 158,
   "metadata": {},
   "outputs": [
    {
     "data": {
      "text/plain": [
       "13"
      ]
     },
     "execution_count": 158,
     "metadata": {},
     "output_type": "execute_result"
    }
   ],
   "source": [
    "o.isna().sum()"
   ]
  },
  {
   "cell_type": "markdown",
   "metadata": {},
   "source": [
    "Des cas n'ont pas été pris en compte dans le choix des bornes ce qui a créé des NaN."
   ]
  },
  {
   "cell_type": "markdown",
   "metadata": {},
   "source": [
    "**Utiliser la fonction ```.cut()```**"
   ]
  },
  {
   "cell_type": "code",
   "execution_count": 168,
   "metadata": {},
   "outputs": [],
   "source": [
    "exo1=pd.Series(data=[0,1,2,3])"
   ]
  },
  {
   "cell_type": "code",
   "execution_count": 171,
   "metadata": {},
   "outputs": [
    {
     "data": {
      "text/plain": [
       "0    A\n",
       "1    A\n",
       "2    A\n",
       "3    B\n",
       "dtype: category\n",
       "Categories (2, object): ['A' < 'B']"
      ]
     },
     "execution_count": 171,
     "metadata": {},
     "output_type": "execute_result"
    }
   ],
   "source": [
    "pd.cut(exo1,\n",
    "      bins=[0,2,3],\n",
    "      labels=[\"A\",\"B\"],include_lowest=True)"
   ]
  },
  {
   "cell_type": "code",
   "execution_count": 172,
   "metadata": {},
   "outputs": [
    {
     "data": {
      "text/plain": [
       "['tenties',\n",
       " 'twenties',\n",
       " 'thirties',\n",
       " 'fourties',\n",
       " 'fifties',\n",
       " 'sixties',\n",
       " 'seventies',\n",
       " 'eightties',\n",
       " 'nineties']"
      ]
     },
     "execution_count": 172,
     "metadata": {},
     "output_type": "execute_result"
    }
   ],
   "source": [
    "prefix = ['ten','twen','thir','four','fif','six','seven', 'eight','nine']\n",
    "labels = [p+'ties' for p in prefix]\n",
    "labels"
   ]
  },
  {
   "cell_type": "code",
   "execution_count": 187,
   "metadata": {},
   "outputs": [
    {
     "data": {
      "text/html": [
       "<div>\n",
       "<style scoped>\n",
       "    .dataframe tbody tr th:only-of-type {\n",
       "        vertical-align: middle;\n",
       "    }\n",
       "\n",
       "    .dataframe tbody tr th {\n",
       "        vertical-align: top;\n",
       "    }\n",
       "\n",
       "    .dataframe thead th {\n",
       "        text-align: right;\n",
       "    }\n",
       "</style>\n",
       "<table border=\"1\" class=\"dataframe\">\n",
       "  <thead>\n",
       "    <tr style=\"text-align: right;\">\n",
       "      <th></th>\n",
       "      <th>Date of Arrest</th>\n",
       "      <th>Age</th>\n",
       "      <th>Convicted</th>\n",
       "      <th>decade</th>\n",
       "    </tr>\n",
       "  </thead>\n",
       "  <tbody>\n",
       "    <tr>\n",
       "      <th>0</th>\n",
       "      <td>2014-07-16 14:59:18</td>\n",
       "      <td>77</td>\n",
       "      <td>Yes</td>\n",
       "      <td>seventies</td>\n",
       "    </tr>\n",
       "    <tr>\n",
       "      <th>1</th>\n",
       "      <td>2002-12-19 22:17:59</td>\n",
       "      <td>28</td>\n",
       "      <td>Yes</td>\n",
       "      <td>twenties</td>\n",
       "    </tr>\n",
       "    <tr>\n",
       "      <th>2</th>\n",
       "      <td>1994-06-28 09:31:40</td>\n",
       "      <td>21</td>\n",
       "      <td>No</td>\n",
       "      <td>twenties</td>\n",
       "    </tr>\n",
       "    <tr>\n",
       "      <th>3</th>\n",
       "      <td>1985-05-14 09:52:17</td>\n",
       "      <td>45</td>\n",
       "      <td>Yes</td>\n",
       "      <td>fourties</td>\n",
       "    </tr>\n",
       "    <tr>\n",
       "      <th>4</th>\n",
       "      <td>1985-05-25 14:06:28</td>\n",
       "      <td>39</td>\n",
       "      <td>Yes</td>\n",
       "      <td>thirties</td>\n",
       "    </tr>\n",
       "  </tbody>\n",
       "</table>\n",
       "</div>"
      ],
      "text/plain": [
       "        Date of Arrest  Age Convicted     decade\n",
       "0  2014-07-16 14:59:18   77       Yes  seventies\n",
       "1  2002-12-19 22:17:59   28       Yes   twenties\n",
       "2  1994-06-28 09:31:40   21        No   twenties\n",
       "3  1985-05-14 09:52:17   45       Yes   fourties\n",
       "4  1985-05-25 14:06:28   39       Yes   thirties"
      ]
     },
     "execution_count": 187,
     "metadata": {},
     "output_type": "execute_result"
    }
   ],
   "source": [
    "data['decade']=pd.cut(data['Age'],      \n",
    "         bins=[i*10-1 for i in range (1,11)],      \n",
    "         labels=labels)\n",
    "data.head()"
   ]
  },
  {
   "cell_type": "code",
   "execution_count": 191,
   "metadata": {},
   "outputs": [
    {
     "data": {
      "text/plain": [
       "Date of Arrest      object\n",
       "Age                  int64\n",
       "Convicted           object\n",
       "decade            category\n",
       "dtype: object"
      ]
     },
     "execution_count": 191,
     "metadata": {},
     "output_type": "execute_result"
    }
   ],
   "source": [
    "data.dtypes"
   ]
  },
  {
   "cell_type": "code",
   "execution_count": 192,
   "metadata": {},
   "outputs": [],
   "source": [
    "data.rename(columns={\"Date of Arrest\":\"DoA\"},inplace=True)"
   ]
  },
  {
   "cell_type": "code",
   "execution_count": 203,
   "metadata": {},
   "outputs": [
    {
     "data": {
      "text/html": [
       "<div>\n",
       "<style scoped>\n",
       "    .dataframe tbody tr th:only-of-type {\n",
       "        vertical-align: middle;\n",
       "    }\n",
       "\n",
       "    .dataframe tbody tr th {\n",
       "        vertical-align: top;\n",
       "    }\n",
       "\n",
       "    .dataframe thead th {\n",
       "        text-align: right;\n",
       "    }\n",
       "</style>\n",
       "<table border=\"1\" class=\"dataframe\">\n",
       "  <thead>\n",
       "    <tr style=\"text-align: right;\">\n",
       "      <th></th>\n",
       "      <th>DoA</th>\n",
       "      <th>Age</th>\n",
       "      <th>Convicted</th>\n",
       "      <th>decade</th>\n",
       "      <th>YoA</th>\n",
       "    </tr>\n",
       "  </thead>\n",
       "  <tbody>\n",
       "    <tr>\n",
       "      <th>0</th>\n",
       "      <td>2014-07-16 14:59:18</td>\n",
       "      <td>77</td>\n",
       "      <td>Yes</td>\n",
       "      <td>seventies</td>\n",
       "      <td>-</td>\n",
       "    </tr>\n",
       "    <tr>\n",
       "      <th>1</th>\n",
       "      <td>2002-12-19 22:17:59</td>\n",
       "      <td>28</td>\n",
       "      <td>Yes</td>\n",
       "      <td>twenties</td>\n",
       "      <td>-</td>\n",
       "    </tr>\n",
       "    <tr>\n",
       "      <th>2</th>\n",
       "      <td>1994-06-28 09:31:40</td>\n",
       "      <td>21</td>\n",
       "      <td>No</td>\n",
       "      <td>twenties</td>\n",
       "      <td>-</td>\n",
       "    </tr>\n",
       "    <tr>\n",
       "      <th>3</th>\n",
       "      <td>1985-05-14 09:52:17</td>\n",
       "      <td>45</td>\n",
       "      <td>Yes</td>\n",
       "      <td>fourties</td>\n",
       "      <td>-</td>\n",
       "    </tr>\n",
       "    <tr>\n",
       "      <th>4</th>\n",
       "      <td>1985-05-25 14:06:28</td>\n",
       "      <td>39</td>\n",
       "      <td>Yes</td>\n",
       "      <td>thirties</td>\n",
       "      <td>-</td>\n",
       "    </tr>\n",
       "  </tbody>\n",
       "</table>\n",
       "</div>"
      ],
      "text/plain": [
       "                  DoA  Age Convicted     decade YoA\n",
       "0 2014-07-16 14:59:18   77       Yes  seventies   -\n",
       "1 2002-12-19 22:17:59   28       Yes   twenties   -\n",
       "2 1994-06-28 09:31:40   21        No   twenties   -\n",
       "3 1985-05-14 09:52:17   45       Yes   fourties   -\n",
       "4 1985-05-25 14:06:28   39       Yes   thirties   -"
      ]
     },
     "execution_count": 203,
     "metadata": {},
     "output_type": "execute_result"
    }
   ],
   "source": [
    "data['DoA']=pd.to_datetime(data['DoA'])\n",
    "data.head()"
   ]
  },
  {
   "cell_type": "code",
   "execution_count": 205,
   "metadata": {},
   "outputs": [
    {
     "data": {
      "text/html": [
       "<div>\n",
       "<style scoped>\n",
       "    .dataframe tbody tr th:only-of-type {\n",
       "        vertical-align: middle;\n",
       "    }\n",
       "\n",
       "    .dataframe tbody tr th {\n",
       "        vertical-align: top;\n",
       "    }\n",
       "\n",
       "    .dataframe thead th {\n",
       "        text-align: right;\n",
       "    }\n",
       "</style>\n",
       "<table border=\"1\" class=\"dataframe\">\n",
       "  <thead>\n",
       "    <tr style=\"text-align: right;\">\n",
       "      <th></th>\n",
       "      <th>DoA</th>\n",
       "      <th>Age</th>\n",
       "      <th>Convicted</th>\n",
       "      <th>decade</th>\n",
       "      <th>YoA</th>\n",
       "    </tr>\n",
       "  </thead>\n",
       "  <tbody>\n",
       "    <tr>\n",
       "      <th>0</th>\n",
       "      <td>2014-07-16 14:59:18</td>\n",
       "      <td>77</td>\n",
       "      <td>Yes</td>\n",
       "      <td>seventies</td>\n",
       "      <td>2014</td>\n",
       "    </tr>\n",
       "    <tr>\n",
       "      <th>1</th>\n",
       "      <td>2002-12-19 22:17:59</td>\n",
       "      <td>28</td>\n",
       "      <td>Yes</td>\n",
       "      <td>twenties</td>\n",
       "      <td>2002</td>\n",
       "    </tr>\n",
       "    <tr>\n",
       "      <th>2</th>\n",
       "      <td>1994-06-28 09:31:40</td>\n",
       "      <td>21</td>\n",
       "      <td>No</td>\n",
       "      <td>twenties</td>\n",
       "      <td>1994</td>\n",
       "    </tr>\n",
       "    <tr>\n",
       "      <th>3</th>\n",
       "      <td>1985-05-14 09:52:17</td>\n",
       "      <td>45</td>\n",
       "      <td>Yes</td>\n",
       "      <td>fourties</td>\n",
       "      <td>1985</td>\n",
       "    </tr>\n",
       "    <tr>\n",
       "      <th>4</th>\n",
       "      <td>1985-05-25 14:06:28</td>\n",
       "      <td>39</td>\n",
       "      <td>Yes</td>\n",
       "      <td>thirties</td>\n",
       "      <td>1985</td>\n",
       "    </tr>\n",
       "  </tbody>\n",
       "</table>\n",
       "</div>"
      ],
      "text/plain": [
       "                  DoA  Age Convicted     decade   YoA\n",
       "0 2014-07-16 14:59:18   77       Yes  seventies  2014\n",
       "1 2002-12-19 22:17:59   28       Yes   twenties  2002\n",
       "2 1994-06-28 09:31:40   21        No   twenties  1994\n",
       "3 1985-05-14 09:52:17   45       Yes   fourties  1985\n",
       "4 1985-05-25 14:06:28   39       Yes   thirties  1985"
      ]
     },
     "execution_count": 205,
     "metadata": {},
     "output_type": "execute_result"
    }
   ],
   "source": [
    "data['YoA']=data['DoA'].dt.year\n",
    "data.head()"
   ]
  },
  {
   "cell_type": "code",
   "execution_count": 207,
   "metadata": {},
   "outputs": [
    {
     "data": {
      "text/plain": [
       "0        tenties\n",
       "1       zeroties\n",
       "2       nineties\n",
       "3      eightties\n",
       "4      eightties\n",
       "         ...    \n",
       "995     nineties\n",
       "996     nineties\n",
       "997    eightties\n",
       "998     nineties\n",
       "999     nineties\n",
       "Name: DoA, Length: 1000, dtype: category\n",
       "Categories (7, object): ['sixties' < 'seventies' < 'eightties' < 'nineties' < 'zeroties' < 'tenties' < 'twenties']"
      ]
     },
     "execution_count": 207,
     "metadata": {},
     "output_type": "execute_result"
    }
   ],
   "source": [
    "from datetime import datetime\n",
    "\n",
    "bins=list(range(1959,2039,10))\n",
    "prefix = ['six','seven', 'eight','nine','zero','ten','twen']\n",
    "labels = [p+'ties' for p in prefix]\n",
    "\n",
    "pd.cut(data['DoA'].dt.year, bins=bins, labels=labels)"
   ]
  }
 ],
 "metadata": {
  "kernelspec": {
   "display_name": "Python 3",
   "language": "python",
   "name": "python3"
  },
  "language_info": {
   "codemirror_mode": {
    "name": "ipython",
    "version": 3
   },
   "file_extension": ".py",
   "mimetype": "text/x-python",
   "name": "python",
   "nbconvert_exporter": "python",
   "pygments_lexer": "ipython3",
   "version": "3.8.0"
  },
  "toc": {
   "base_numbering": 1,
   "nav_menu": {},
   "number_sections": true,
   "sideBar": true,
   "skip_h1_title": true,
   "title_cell": "Table of Contents",
   "title_sidebar": "Contents",
   "toc_cell": false,
   "toc_position": {},
   "toc_section_display": true,
   "toc_window_display": false
  },
  "varInspector": {
   "cols": {
    "lenName": 16,
    "lenType": 16,
    "lenVar": 40
   },
   "kernels_config": {
    "python": {
     "delete_cmd_postfix": "",
     "delete_cmd_prefix": "del ",
     "library": "var_list.py",
     "varRefreshCmd": "print(var_dic_list())"
    },
    "r": {
     "delete_cmd_postfix": ") ",
     "delete_cmd_prefix": "rm(",
     "library": "var_list.r",
     "varRefreshCmd": "cat(var_dic_list()) "
    }
   },
   "types_to_exclude": [
    "module",
    "function",
    "builtin_function_or_method",
    "instance",
    "_Feature"
   ],
   "window_display": false
  }
 },
 "nbformat": 4,
 "nbformat_minor": 4
}
