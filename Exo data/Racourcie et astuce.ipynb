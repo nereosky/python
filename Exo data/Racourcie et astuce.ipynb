{
 "cells": [
  {
   "cell_type": "markdown",
   "metadata": {},
   "source": [
    "Commandes en mode édition (cellule bleue) :\n",
    "\n",
    "r : Passer la cellule en mode Raw (ignoré par l'exécution)\n",
    "y : Passer la cellule en mode Code\n",
    "m : Passer la cellule en mode Markdown\n",
    "a : Créer une nouvelle cellule au dessus\n",
    "b : Créer une nouvelle cellule en dessous\n",
    "dd : Supprimer la cellule (irréversible)\n",
    "shift + enter : Passer à la cellule suivante"
   ]
  },
  {
   "cell_type": "markdown",
   "metadata": {},
   "source": [
    "A faire après le read_csv d'un CSV\n",
    "\n",
    "df.shape \n",
    "Pour regarder le nombres de ligne et de colonnes\n",
    "\n",
    "df.dtypes \n",
    "Pour regarder le nom des colonnes et leur type d'un seul coup (j'en profite pour repérer d'éventuel conversion de types qu'il faudra effectuer)\n",
    "\n",
    "df.head()\n",
    "Pour regarder à quoi ressemble les premières lignes du dataset.\n",
    "\n",
    "df.tail() \n",
    "Pour regarder les dernières lignes du dataset. J'en profite pour comparer le résultat de head avec celui de tail, y-a-t'il une quelconque différence? Parfois les anomalies sont rangées à la fin du dataset.\n",
    "\n",
    "df.isna().sum()\n",
    "pour vérifier la présence de valeurs manquantes par colonnes"
   ]
  }
 ],
 "metadata": {
  "kernelspec": {
   "display_name": "Python 3",
   "language": "python",
   "name": "python3"
  },
  "language_info": {
   "codemirror_mode": {
    "name": "ipython",
    "version": 3
   },
   "file_extension": ".py",
   "mimetype": "text/x-python",
   "name": "python",
   "nbconvert_exporter": "python",
   "pygments_lexer": "ipython3",
   "version": "3.8.5"
  },
  "toc": {
   "base_numbering": 1,
   "nav_menu": {},
   "number_sections": true,
   "sideBar": true,
   "skip_h1_title": false,
   "title_cell": "Table of Contents",
   "title_sidebar": "Contents",
   "toc_cell": false,
   "toc_position": {},
   "toc_section_display": true,
   "toc_window_display": false
  },
  "varInspector": {
   "cols": {
    "lenName": 16,
    "lenType": 16,
    "lenVar": 40
   },
   "kernels_config": {
    "python": {
     "delete_cmd_postfix": "",
     "delete_cmd_prefix": "del ",
     "library": "var_list.py",
     "varRefreshCmd": "print(var_dic_list())"
    },
    "r": {
     "delete_cmd_postfix": ") ",
     "delete_cmd_prefix": "rm(",
     "library": "var_list.r",
     "varRefreshCmd": "cat(var_dic_list()) "
    }
   },
   "types_to_exclude": [
    "module",
    "function",
    "builtin_function_or_method",
    "instance",
    "_Feature"
   ],
   "window_display": false
  }
 },
 "nbformat": 4,
 "nbformat_minor": 4
}
