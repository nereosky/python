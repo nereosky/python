{
 "cells": [
  {
   "cell_type": "code",
   "execution_count": 1,
   "metadata": {},
   "outputs": [],
   "source": [
    "import numpy as np\n",
    "import pandas as pd\n",
    "import seaborn as sns\n",
    "import sklearn as skn\n",
    "import matplotlib as plt\n",
    "sns.set()"
   ]
  },
  {
   "cell_type": "code",
   "execution_count": 6,
   "metadata": {},
   "outputs": [
    {
     "data": {
      "text/html": [
       "<div>\n",
       "<style scoped>\n",
       "    .dataframe tbody tr th:only-of-type {\n",
       "        vertical-align: middle;\n",
       "    }\n",
       "\n",
       "    .dataframe tbody tr th {\n",
       "        vertical-align: top;\n",
       "    }\n",
       "\n",
       "    .dataframe thead th {\n",
       "        text-align: right;\n",
       "    }\n",
       "</style>\n",
       "<table border=\"1\" class=\"dataframe\">\n",
       "  <thead>\n",
       "    <tr style=\"text-align: right;\">\n",
       "      <th></th>\n",
       "      <th>rank</th>\n",
       "      <th>country_rank</th>\n",
       "      <th>player_name</th>\n",
       "      <th>country</th>\n",
       "      <th>accuracy</th>\n",
       "      <th>play_count</th>\n",
       "      <th>level</th>\n",
       "      <th>hours</th>\n",
       "      <th>performance_points</th>\n",
       "      <th>ranked_score</th>\n",
       "      <th>ss</th>\n",
       "      <th>s</th>\n",
       "      <th>a</th>\n",
       "      <th>watched_by</th>\n",
       "      <th>total_hits</th>\n",
       "      <th>device</th>\n",
       "    </tr>\n",
       "  </thead>\n",
       "  <tbody>\n",
       "    <tr>\n",
       "      <th>0</th>\n",
       "      <td>1</td>\n",
       "      <td>1</td>\n",
       "      <td>Cookiezi</td>\n",
       "      <td>South Korea</td>\n",
       "      <td>98.86</td>\n",
       "      <td>15245</td>\n",
       "      <td>101</td>\n",
       "      <td>324</td>\n",
       "      <td>13450</td>\n",
       "      <td>22401473154</td>\n",
       "      <td>55</td>\n",
       "      <td>454</td>\n",
       "      <td>325</td>\n",
       "      <td>3057421</td>\n",
       "      <td>6372761</td>\n",
       "      <td>tablet</td>\n",
       "    </tr>\n",
       "    <tr>\n",
       "      <th>1</th>\n",
       "      <td>2</td>\n",
       "      <td>2</td>\n",
       "      <td>Angelsim</td>\n",
       "      <td>South Korea</td>\n",
       "      <td>98.87</td>\n",
       "      <td>124726</td>\n",
       "      <td>103</td>\n",
       "      <td>1457</td>\n",
       "      <td>12950</td>\n",
       "      <td>35481061465</td>\n",
       "      <td>159</td>\n",
       "      <td>1369</td>\n",
       "      <td>679</td>\n",
       "      <td>498548</td>\n",
       "      <td>29845228</td>\n",
       "      <td>mouse</td>\n",
       "    </tr>\n",
       "    <tr>\n",
       "      <th>2</th>\n",
       "      <td>3</td>\n",
       "      <td>1</td>\n",
       "      <td>Rafis</td>\n",
       "      <td>Poland</td>\n",
       "      <td>99.03</td>\n",
       "      <td>208066</td>\n",
       "      <td>103</td>\n",
       "      <td>2229</td>\n",
       "      <td>12942</td>\n",
       "      <td>36343320002</td>\n",
       "      <td>170</td>\n",
       "      <td>1654</td>\n",
       "      <td>785</td>\n",
       "      <td>1170973</td>\n",
       "      <td>35760655</td>\n",
       "      <td>tablet</td>\n",
       "    </tr>\n",
       "    <tr>\n",
       "      <th>3</th>\n",
       "      <td>4</td>\n",
       "      <td>1</td>\n",
       "      <td>Vaxei</td>\n",
       "      <td>United States</td>\n",
       "      <td>98.03</td>\n",
       "      <td>93012</td>\n",
       "      <td>101</td>\n",
       "      <td>1034</td>\n",
       "      <td>12735</td>\n",
       "      <td>18096595619</td>\n",
       "      <td>34</td>\n",
       "      <td>541</td>\n",
       "      <td>563</td>\n",
       "      <td>152551</td>\n",
       "      <td>15601281</td>\n",
       "      <td>tablet</td>\n",
       "    </tr>\n",
       "    <tr>\n",
       "      <th>4</th>\n",
       "      <td>5</td>\n",
       "      <td>1</td>\n",
       "      <td>hvick225</td>\n",
       "      <td>Taiwan</td>\n",
       "      <td>98.93</td>\n",
       "      <td>134052</td>\n",
       "      <td>102</td>\n",
       "      <td>1970</td>\n",
       "      <td>12421</td>\n",
       "      <td>47072997400</td>\n",
       "      <td>826</td>\n",
       "      <td>3466</td>\n",
       "      <td>701</td>\n",
       "      <td>2015824</td>\n",
       "      <td>22576332</td>\n",
       "      <td>tablet</td>\n",
       "    </tr>\n",
       "  </tbody>\n",
       "</table>\n",
       "</div>"
      ],
      "text/plain": [
       "   rank  country_rank player_name        country  accuracy  play_count  level  \\\n",
       "0     1             1    Cookiezi    South Korea     98.86       15245    101   \n",
       "1     2             2    Angelsim    South Korea     98.87      124726    103   \n",
       "2     3             1       Rafis         Poland     99.03      208066    103   \n",
       "3     4             1       Vaxei  United States     98.03       93012    101   \n",
       "4     5             1    hvick225         Taiwan     98.93      134052    102   \n",
       "\n",
       "   hours  performance_points  ranked_score   ss     s    a  watched_by  \\\n",
       "0    324               13450   22401473154   55   454  325     3057421   \n",
       "1   1457               12950   35481061465  159  1369  679      498548   \n",
       "2   2229               12942   36343320002  170  1654  785     1170973   \n",
       "3   1034               12735   18096595619   34   541  563      152551   \n",
       "4   1970               12421   47072997400  826  3466  701     2015824   \n",
       "\n",
       "   total_hits  device  \n",
       "0     6372761  tablet  \n",
       "1    29845228   mouse  \n",
       "2    35760655  tablet  \n",
       "3    15601281  tablet  \n",
       "4    22576332  tablet  "
      ]
     },
     "execution_count": 6,
     "metadata": {},
     "output_type": "execute_result"
    }
   ],
   "source": [
    "ranking = pd.read_csv(\"ranking.csv\")\n",
    "ranking.head()"
   ]
  },
  {
   "cell_type": "code",
   "execution_count": 8,
   "metadata": {},
   "outputs": [],
   "source": []
  },
  {
   "cell_type": "code",
   "execution_count": 51,
   "metadata": {},
   "outputs": [
    {
     "data": {
      "text/plain": [
       "<matplotlib.collections.PathCollection at 0x5836328>"
      ]
     },
     "execution_count": 51,
     "metadata": {},
     "output_type": "execute_result"
    },
    {
     "data": {
      "image/png": "[encoded data removed]",
      "text/plain": [
       "<Figure size 432x288 with 1 Axes>"
      ]
     },
     "metadata": {},
     "output_type": "display_data"
    }
   ],
   "source": [
    "plt.pyplot.scatter(ranking['ranked_score'],ranking['ss'],ranking['s'],ranking['a'])"
   ]
  },
  {
   "cell_type": "code",
   "execution_count": 52,
   "metadata": {},
   "outputs": [
    {
     "data": {
      "text/plain": [
       "<matplotlib.collections.PathCollection at 0x1ee52928>"
      ]
     },
     "execution_count": 52,
     "metadata": {},
     "output_type": "execute_result"
    },
    {
     "data": {
      "image/png": "[encoded data removed]",
      "text/plain": [
       "<Figure size 432x288 with 1 Axes>"
      ]
     },
     "metadata": {},
     "output_type": "display_data"
    }
   ],
   "source": [
    "plt.pyplot.scatter(ranking['ranked_score'],ranking['total_hits'])"
   ]
  },
  {
   "cell_type": "code",
   "execution_count": 53,
   "metadata": {},
   "outputs": [
    {
     "data": {
      "text/plain": [
       "<matplotlib.collections.PathCollection at 0x1ee901a8>"
      ]
     },
     "execution_count": 53,
     "metadata": {},
     "output_type": "execute_result"
    },
    {
     "data": {
      "image/png": "[encoded data removed]",
      "text/plain": [
       "<Figure size 432x288 with 1 Axes>"
      ]
     },
     "metadata": {},
     "output_type": "display_data"
    }
   ],
   "source": [
    "plt.pyplot.scatter(ranking['ranked_score'],ranking['hours'])"
   ]
  },
  {
   "cell_type": "code",
   "execution_count": 47,
   "metadata": {},
   "outputs": [
    {
     "data": {
      "text/plain": [
       "LinearRegression()"
      ]
     },
     "execution_count": 47,
     "metadata": {},
     "output_type": "execute_result"
    }
   ],
   "source": [
    "X = ranking[['hours','ss','s','a','total_hits']]\n",
    "Y = ranking[\"ranked_score\"]\n",
    "X_train, X_test, y_train, y_test = train_test_split(X, Y, test_size=0.30, random_state=42)\n",
    "modelrank = LinearRegression()\n",
    "modelrank.fit(X_train,y_train)"
   ]
  },
  {
   "cell_type": "code",
   "execution_count": 48,
   "metadata": {},
   "outputs": [
    {
     "data": {
      "text/plain": [
       "array([3.11292387e+10, 3.06944676e+10, 2.30493532e+10, 3.61273620e+10,\n",
       "       3.07947473e+10, 4.26766106e+10, 4.18595833e+10, 2.49175891e+10,\n",
       "       4.99081098e+10, 1.86568296e+10, 3.15735262e+10, 4.19856696e+10,\n",
       "       4.28228656e+10, 4.84765969e+10, 2.96548043e+10, 3.16839833e+10,\n",
       "       3.05969547e+10, 2.00050430e+10, 1.74314369e+10, 2.19787202e+10,\n",
       "       4.93001387e+10, 2.39925406e+10, 5.23992681e+10, 1.84027639e+10,\n",
       "       3.67328385e+10, 4.55951117e+10, 2.30193084e+10, 2.15508489e+10,\n",
       "       3.39518630e+10, 2.71351930e+10])"
      ]
     },
     "execution_count": 48,
     "metadata": {},
     "output_type": "execute_result"
    }
   ],
   "source": [
    "modelrank.predict(X_test)"
   ]
  },
  {
   "cell_type": "code",
   "execution_count": 49,
   "metadata": {},
   "outputs": [
    {
     "data": {
      "text/plain": [
       "67.43575937101077"
      ]
     },
     "execution_count": 49,
     "metadata": {},
     "output_type": "execute_result"
    }
   ],
   "source": [
    "modelrank.score(X_test,y_test)*100"
   ]
  }
 ],
 "metadata": {
  "kernelspec": {
   "display_name": "Python 3",
   "language": "python",
   "name": "python3"
  },
  "language_info": {
   "codemirror_mode": {
    "name": "ipython",
    "version": 3
   },
   "file_extension": ".py",
   "mimetype": "text/x-python",
   "name": "python",
   "nbconvert_exporter": "python",
   "pygments_lexer": "ipython3",
   "version": "3.8.5"
  },
  "toc": {
   "base_numbering": 1,
   "nav_menu": {},
   "number_sections": true,
   "sideBar": true,
   "skip_h1_title": false,
   "title_cell": "Table of Contents",
   "title_sidebar": "Contents",
   "toc_cell": false,
   "toc_position": {},
   "toc_section_display": true,
   "toc_window_display": false
  },
  "varInspector": {
   "cols": {
    "lenName": 16,
    "lenType": 16,
    "lenVar": 40
   },
   "kernels_config": {
    "python": {
     "delete_cmd_postfix": "",
     "delete_cmd_prefix": "del ",
     "library": "var_list.py",
     "varRefreshCmd": "print(var_dic_list())"
    },
    "r": {
     "delete_cmd_postfix": ") ",
     "delete_cmd_prefix": "rm(",
     "library": "var_list.r",
     "varRefreshCmd": "cat(var_dic_list()) "
    }
   },
   "types_to_exclude": [
    "module",
    "function",
    "builtin_function_or_method",
    "instance",
    "_Feature"
   ],
   "window_display": false
  }
 },
 "nbformat": 4,
 "nbformat_minor": 4
}
