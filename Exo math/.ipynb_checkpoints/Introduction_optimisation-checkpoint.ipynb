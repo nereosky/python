{
 "cells": [
  {
   "cell_type": "markdown",
   "metadata": {},
   "source": [
    "# Exercice 1 : Tracage de fonction et détermination analytique de points critiques\n",
    "\n",
    "Déterminer _analytiquement_ les coordonnées et la nature des points critiques des fonctions suivantes :\n",
    "\n",
    "- $f_1(x,y) = x^3 + y^3 -3x -12y$\n",
    "- $f_2(x,y) = x^3 -12xy + 8y^3$\n",
    "- $f_3(x,y) = {(x-1)}^2 + 10 {(x^2-y)}^2$\n",
    "\n",
    "**_Vocabulaire :_** _Une détermination \"analytique\" signifie que le calcul est fait \"à la main\", sans utilisation d'outil numérique ou de calcul formel."
   ]
  },
  {
   "cell_type": "code",
   "execution_count": 1,
   "metadata": {},
   "outputs": [],
   "source": [
    "# Importation des bibliothèques numpy et pyplot\n",
    "import numpy as np\n",
    "import math \n",
    "import matplotlib.pyplot as plt"
   ]
  },
  {
   "cell_type": "code",
   "execution_count": 2,
   "metadata": {},
   "outputs": [],
   "source": [
    "def f1(x,y) :\n",
    "    pass\n",
    "def f2(x,y) :\n",
    "    pass\n",
    "def f3(x,y) :\n",
    "    pass"
   ]
  },
  {
   "cell_type": "markdown",
   "metadata": {},
   "source": [
    "# Exercice 2 : Tracé du graphe de fonctions \n",
    "\n",
    "**2.1** Les blocs d'instructions ci-dessous permettent de tracer le graphe de la fonction $f_1(x,y)$ pour $x \\in [-4,4]$ et différentes valeurs fixes de y. \n",
    "\n",
    "Exécuter les différents blocs d'instructions, puis analyser ce que fait chaque ligne. \n",
    "\n",
    "Par la suite, vous vous appuyerez sur cet exemple pour tracer des graphes de fonction."
   ]
  },
  {
   "cell_type": "code",
   "execution_count": 3,
   "metadata": {},
   "outputs": [
    {
     "ename": "TypeError",
     "evalue": "Input z must be 2D, not 0D",
     "output_type": "error",
     "traceback": [
      "\u001b[1;31m---------------------------------------------------------------------------\u001b[0m",
      "\u001b[1;31mTypeError\u001b[0m                                 Traceback (most recent call last)",
      "\u001b[1;32m<ipython-input-3-381f5bed4e72>\u001b[0m in \u001b[0;36m<module>\u001b[1;34m\u001b[0m\n\u001b[0;32m      9\u001b[0m \u001b[1;31m# Tracé des isovaleurs de f1\u001b[0m\u001b[1;33m\u001b[0m\u001b[1;33m\u001b[0m\u001b[1;33m\u001b[0m\u001b[0m\n\u001b[0;32m     10\u001b[0m \u001b[0mnIso\u001b[0m \u001b[1;33m=\u001b[0m \u001b[1;36m21\u001b[0m\u001b[1;33m\u001b[0m\u001b[1;33m\u001b[0m\u001b[0m\n\u001b[1;32m---> 11\u001b[1;33m \u001b[0mplt\u001b[0m\u001b[1;33m.\u001b[0m\u001b[0mcontour\u001b[0m\u001b[1;33m(\u001b[0m\u001b[0mx2d\u001b[0m\u001b[1;33m,\u001b[0m\u001b[0my2d\u001b[0m\u001b[1;33m,\u001b[0m\u001b[0mf2\u001b[0m\u001b[1;33m(\u001b[0m\u001b[0mx2d\u001b[0m\u001b[1;33m,\u001b[0m\u001b[0my2d\u001b[0m\u001b[1;33m)\u001b[0m\u001b[1;33m,\u001b[0m\u001b[0mnIso\u001b[0m\u001b[1;33m)\u001b[0m\u001b[1;33m\u001b[0m\u001b[1;33m\u001b[0m\u001b[0m\n\u001b[0m\u001b[0;32m     12\u001b[0m \u001b[0mplt\u001b[0m\u001b[1;33m.\u001b[0m\u001b[0mtitle\u001b[0m\u001b[1;33m(\u001b[0m\u001b[1;34m'Isovaleurs'\u001b[0m\u001b[1;33m)\u001b[0m\u001b[1;33m\u001b[0m\u001b[1;33m\u001b[0m\u001b[0m\n\u001b[0;32m     13\u001b[0m \u001b[0mplt\u001b[0m\u001b[1;33m.\u001b[0m\u001b[0mxlabel\u001b[0m\u001b[1;33m(\u001b[0m\u001b[1;34m'Valeurs de x'\u001b[0m\u001b[1;33m)\u001b[0m\u001b[1;33m\u001b[0m\u001b[1;33m\u001b[0m\u001b[0m\n",
      "\u001b[1;32mc:\\users\\kilia\\appdata\\local\\programs\\python\\python38-32\\lib\\site-packages\\matplotlib\\pyplot.py\u001b[0m in \u001b[0;36mcontour\u001b[1;34m(data, *args, **kwargs)\u001b[0m\n\u001b[0;32m   2565\u001b[0m \u001b[1;33m@\u001b[0m\u001b[0m_copy_docstring_and_deprecators\u001b[0m\u001b[1;33m(\u001b[0m\u001b[0mAxes\u001b[0m\u001b[1;33m.\u001b[0m\u001b[0mcontour\u001b[0m\u001b[1;33m)\u001b[0m\u001b[1;33m\u001b[0m\u001b[1;33m\u001b[0m\u001b[0m\n\u001b[0;32m   2566\u001b[0m \u001b[1;32mdef\u001b[0m \u001b[0mcontour\u001b[0m\u001b[1;33m(\u001b[0m\u001b[1;33m*\u001b[0m\u001b[0margs\u001b[0m\u001b[1;33m,\u001b[0m \u001b[0mdata\u001b[0m\u001b[1;33m=\u001b[0m\u001b[1;32mNone\u001b[0m\u001b[1;33m,\u001b[0m \u001b[1;33m**\u001b[0m\u001b[0mkwargs\u001b[0m\u001b[1;33m)\u001b[0m\u001b[1;33m:\u001b[0m\u001b[1;33m\u001b[0m\u001b[1;33m\u001b[0m\u001b[0m\n\u001b[1;32m-> 2567\u001b[1;33m     __ret = gca().contour(\n\u001b[0m\u001b[0;32m   2568\u001b[0m         \u001b[1;33m*\u001b[0m\u001b[0margs\u001b[0m\u001b[1;33m,\u001b[0m \u001b[1;33m**\u001b[0m\u001b[1;33m(\u001b[0m\u001b[1;33m{\u001b[0m\u001b[1;34m\"data\"\u001b[0m\u001b[1;33m:\u001b[0m \u001b[0mdata\u001b[0m\u001b[1;33m}\u001b[0m \u001b[1;32mif\u001b[0m \u001b[0mdata\u001b[0m \u001b[1;32mis\u001b[0m \u001b[1;32mnot\u001b[0m \u001b[1;32mNone\u001b[0m \u001b[1;32melse\u001b[0m \u001b[1;33m{\u001b[0m\u001b[1;33m}\u001b[0m\u001b[1;33m)\u001b[0m\u001b[1;33m,\u001b[0m\u001b[1;33m\u001b[0m\u001b[1;33m\u001b[0m\u001b[0m\n\u001b[0;32m   2569\u001b[0m         **kwargs)\n",
      "\u001b[1;32mc:\\users\\kilia\\appdata\\local\\programs\\python\\python38-32\\lib\\site-packages\\matplotlib\\__init__.py\u001b[0m in \u001b[0;36minner\u001b[1;34m(ax, data, *args, **kwargs)\u001b[0m\n\u001b[0;32m   1436\u001b[0m     \u001b[1;32mdef\u001b[0m \u001b[0minner\u001b[0m\u001b[1;33m(\u001b[0m\u001b[0max\u001b[0m\u001b[1;33m,\u001b[0m \u001b[1;33m*\u001b[0m\u001b[0margs\u001b[0m\u001b[1;33m,\u001b[0m \u001b[0mdata\u001b[0m\u001b[1;33m=\u001b[0m\u001b[1;32mNone\u001b[0m\u001b[1;33m,\u001b[0m \u001b[1;33m**\u001b[0m\u001b[0mkwargs\u001b[0m\u001b[1;33m)\u001b[0m\u001b[1;33m:\u001b[0m\u001b[1;33m\u001b[0m\u001b[1;33m\u001b[0m\u001b[0m\n\u001b[0;32m   1437\u001b[0m         \u001b[1;32mif\u001b[0m \u001b[0mdata\u001b[0m \u001b[1;32mis\u001b[0m \u001b[1;32mNone\u001b[0m\u001b[1;33m:\u001b[0m\u001b[1;33m\u001b[0m\u001b[1;33m\u001b[0m\u001b[0m\n\u001b[1;32m-> 1438\u001b[1;33m             \u001b[1;32mreturn\u001b[0m \u001b[0mfunc\u001b[0m\u001b[1;33m(\u001b[0m\u001b[0max\u001b[0m\u001b[1;33m,\u001b[0m \u001b[1;33m*\u001b[0m\u001b[0mmap\u001b[0m\u001b[1;33m(\u001b[0m\u001b[0msanitize_sequence\u001b[0m\u001b[1;33m,\u001b[0m \u001b[0margs\u001b[0m\u001b[1;33m)\u001b[0m\u001b[1;33m,\u001b[0m \u001b[1;33m**\u001b[0m\u001b[0mkwargs\u001b[0m\u001b[1;33m)\u001b[0m\u001b[1;33m\u001b[0m\u001b[1;33m\u001b[0m\u001b[0m\n\u001b[0m\u001b[0;32m   1439\u001b[0m \u001b[1;33m\u001b[0m\u001b[0m\n\u001b[0;32m   1440\u001b[0m         \u001b[0mbound\u001b[0m \u001b[1;33m=\u001b[0m \u001b[0mnew_sig\u001b[0m\u001b[1;33m.\u001b[0m\u001b[0mbind\u001b[0m\u001b[1;33m(\u001b[0m\u001b[0max\u001b[0m\u001b[1;33m,\u001b[0m \u001b[1;33m*\u001b[0m\u001b[0margs\u001b[0m\u001b[1;33m,\u001b[0m \u001b[1;33m**\u001b[0m\u001b[0mkwargs\u001b[0m\u001b[1;33m)\u001b[0m\u001b[1;33m\u001b[0m\u001b[1;33m\u001b[0m\u001b[0m\n",
      "\u001b[1;32mc:\\users\\kilia\\appdata\\local\\programs\\python\\python38-32\\lib\\site-packages\\matplotlib\\axes\\_axes.py\u001b[0m in \u001b[0;36mcontour\u001b[1;34m(self, *args, **kwargs)\u001b[0m\n\u001b[0;32m   6330\u001b[0m     \u001b[1;32mdef\u001b[0m \u001b[0mcontour\u001b[0m\u001b[1;33m(\u001b[0m\u001b[0mself\u001b[0m\u001b[1;33m,\u001b[0m \u001b[1;33m*\u001b[0m\u001b[0margs\u001b[0m\u001b[1;33m,\u001b[0m \u001b[1;33m**\u001b[0m\u001b[0mkwargs\u001b[0m\u001b[1;33m)\u001b[0m\u001b[1;33m:\u001b[0m\u001b[1;33m\u001b[0m\u001b[1;33m\u001b[0m\u001b[0m\n\u001b[0;32m   6331\u001b[0m         \u001b[0mkwargs\u001b[0m\u001b[1;33m[\u001b[0m\u001b[1;34m'filled'\u001b[0m\u001b[1;33m]\u001b[0m \u001b[1;33m=\u001b[0m \u001b[1;32mFalse\u001b[0m\u001b[1;33m\u001b[0m\u001b[1;33m\u001b[0m\u001b[0m\n\u001b[1;32m-> 6332\u001b[1;33m         \u001b[0mcontours\u001b[0m \u001b[1;33m=\u001b[0m \u001b[0mmcontour\u001b[0m\u001b[1;33m.\u001b[0m\u001b[0mQuadContourSet\u001b[0m\u001b[1;33m(\u001b[0m\u001b[0mself\u001b[0m\u001b[1;33m,\u001b[0m \u001b[1;33m*\u001b[0m\u001b[0margs\u001b[0m\u001b[1;33m,\u001b[0m \u001b[1;33m**\u001b[0m\u001b[0mkwargs\u001b[0m\u001b[1;33m)\u001b[0m\u001b[1;33m\u001b[0m\u001b[1;33m\u001b[0m\u001b[0m\n\u001b[0m\u001b[0;32m   6333\u001b[0m         \u001b[0mself\u001b[0m\u001b[1;33m.\u001b[0m\u001b[0m_request_autoscale_view\u001b[0m\u001b[1;33m(\u001b[0m\u001b[1;33m)\u001b[0m\u001b[1;33m\u001b[0m\u001b[1;33m\u001b[0m\u001b[0m\n\u001b[0;32m   6334\u001b[0m         \u001b[1;32mreturn\u001b[0m \u001b[0mcontours\u001b[0m\u001b[1;33m\u001b[0m\u001b[1;33m\u001b[0m\u001b[0m\n",
      "\u001b[1;32mc:\\users\\kilia\\appdata\\local\\programs\\python\\python38-32\\lib\\site-packages\\matplotlib\\contour.py\u001b[0m in \u001b[0;36m__init__\u001b[1;34m(self, ax, levels, filled, linewidths, linestyles, hatches, alpha, origin, extent, cmap, colors, norm, vmin, vmax, extend, antialiased, nchunk, locator, transform, *args, **kwargs)\u001b[0m\n\u001b[0;32m    814\u001b[0m         \u001b[0mself\u001b[0m\u001b[1;33m.\u001b[0m\u001b[0m_transform\u001b[0m \u001b[1;33m=\u001b[0m \u001b[0mtransform\u001b[0m\u001b[1;33m\u001b[0m\u001b[1;33m\u001b[0m\u001b[0m\n\u001b[0;32m    815\u001b[0m \u001b[1;33m\u001b[0m\u001b[0m\n\u001b[1;32m--> 816\u001b[1;33m         \u001b[0mkwargs\u001b[0m \u001b[1;33m=\u001b[0m \u001b[0mself\u001b[0m\u001b[1;33m.\u001b[0m\u001b[0m_process_args\u001b[0m\u001b[1;33m(\u001b[0m\u001b[1;33m*\u001b[0m\u001b[0margs\u001b[0m\u001b[1;33m,\u001b[0m \u001b[1;33m**\u001b[0m\u001b[0mkwargs\u001b[0m\u001b[1;33m)\u001b[0m\u001b[1;33m\u001b[0m\u001b[1;33m\u001b[0m\u001b[0m\n\u001b[0m\u001b[0;32m    817\u001b[0m         \u001b[0mself\u001b[0m\u001b[1;33m.\u001b[0m\u001b[0m_process_levels\u001b[0m\u001b[1;33m(\u001b[0m\u001b[1;33m)\u001b[0m\u001b[1;33m\u001b[0m\u001b[1;33m\u001b[0m\u001b[0m\n\u001b[0;32m    818\u001b[0m \u001b[1;33m\u001b[0m\u001b[0m\n",
      "\u001b[1;32mc:\\users\\kilia\\appdata\\local\\programs\\python\\python38-32\\lib\\site-packages\\matplotlib\\contour.py\u001b[0m in \u001b[0;36m_process_args\u001b[1;34m(self, corner_mask, *args, **kwargs)\u001b[0m\n\u001b[0;32m   1428\u001b[0m             \u001b[0mself\u001b[0m\u001b[1;33m.\u001b[0m\u001b[0m_corner_mask\u001b[0m \u001b[1;33m=\u001b[0m \u001b[0mcorner_mask\u001b[0m\u001b[1;33m\u001b[0m\u001b[1;33m\u001b[0m\u001b[0m\n\u001b[0;32m   1429\u001b[0m \u001b[1;33m\u001b[0m\u001b[0m\n\u001b[1;32m-> 1430\u001b[1;33m             \u001b[0mx\u001b[0m\u001b[1;33m,\u001b[0m \u001b[0my\u001b[0m\u001b[1;33m,\u001b[0m \u001b[0mz\u001b[0m \u001b[1;33m=\u001b[0m \u001b[0mself\u001b[0m\u001b[1;33m.\u001b[0m\u001b[0m_contour_args\u001b[0m\u001b[1;33m(\u001b[0m\u001b[0margs\u001b[0m\u001b[1;33m,\u001b[0m \u001b[0mkwargs\u001b[0m\u001b[1;33m)\u001b[0m\u001b[1;33m\u001b[0m\u001b[1;33m\u001b[0m\u001b[0m\n\u001b[0m\u001b[0;32m   1431\u001b[0m \u001b[1;33m\u001b[0m\u001b[0m\n\u001b[0;32m   1432\u001b[0m             \u001b[0m_mask\u001b[0m \u001b[1;33m=\u001b[0m \u001b[0mma\u001b[0m\u001b[1;33m.\u001b[0m\u001b[0mgetmask\u001b[0m\u001b[1;33m(\u001b[0m\u001b[0mz\u001b[0m\u001b[1;33m)\u001b[0m\u001b[1;33m\u001b[0m\u001b[1;33m\u001b[0m\u001b[0m\n",
      "\u001b[1;32mc:\\users\\kilia\\appdata\\local\\programs\\python\\python38-32\\lib\\site-packages\\matplotlib\\contour.py\u001b[0m in \u001b[0;36m_contour_args\u001b[1;34m(self, args, kwargs)\u001b[0m\n\u001b[0;32m   1486\u001b[0m             \u001b[0margs\u001b[0m \u001b[1;33m=\u001b[0m \u001b[0margs\u001b[0m\u001b[1;33m[\u001b[0m\u001b[1;36m1\u001b[0m\u001b[1;33m:\u001b[0m\u001b[1;33m]\u001b[0m\u001b[1;33m\u001b[0m\u001b[1;33m\u001b[0m\u001b[0m\n\u001b[0;32m   1487\u001b[0m         \u001b[1;32melif\u001b[0m \u001b[0mNargs\u001b[0m \u001b[1;33m<=\u001b[0m \u001b[1;36m4\u001b[0m\u001b[1;33m:\u001b[0m\u001b[1;33m\u001b[0m\u001b[1;33m\u001b[0m\u001b[0m\n\u001b[1;32m-> 1488\u001b[1;33m             \u001b[0mx\u001b[0m\u001b[1;33m,\u001b[0m \u001b[0my\u001b[0m\u001b[1;33m,\u001b[0m \u001b[0mz\u001b[0m \u001b[1;33m=\u001b[0m \u001b[0mself\u001b[0m\u001b[1;33m.\u001b[0m\u001b[0m_check_xyz\u001b[0m\u001b[1;33m(\u001b[0m\u001b[0margs\u001b[0m\u001b[1;33m[\u001b[0m\u001b[1;33m:\u001b[0m\u001b[1;36m3\u001b[0m\u001b[1;33m]\u001b[0m\u001b[1;33m,\u001b[0m \u001b[0mkwargs\u001b[0m\u001b[1;33m)\u001b[0m\u001b[1;33m\u001b[0m\u001b[1;33m\u001b[0m\u001b[0m\n\u001b[0m\u001b[0;32m   1489\u001b[0m             \u001b[0margs\u001b[0m \u001b[1;33m=\u001b[0m \u001b[0margs\u001b[0m\u001b[1;33m[\u001b[0m\u001b[1;36m3\u001b[0m\u001b[1;33m:\u001b[0m\u001b[1;33m]\u001b[0m\u001b[1;33m\u001b[0m\u001b[1;33m\u001b[0m\u001b[0m\n\u001b[0;32m   1490\u001b[0m         \u001b[1;32melse\u001b[0m\u001b[1;33m:\u001b[0m\u001b[1;33m\u001b[0m\u001b[1;33m\u001b[0m\u001b[0m\n",
      "\u001b[1;32mc:\\users\\kilia\\appdata\\local\\programs\\python\\python38-32\\lib\\site-packages\\matplotlib\\contour.py\u001b[0m in \u001b[0;36m_check_xyz\u001b[1;34m(self, args, kwargs)\u001b[0m\n\u001b[0;32m   1517\u001b[0m \u001b[1;33m\u001b[0m\u001b[0m\n\u001b[0;32m   1518\u001b[0m         \u001b[1;32mif\u001b[0m \u001b[0mz\u001b[0m\u001b[1;33m.\u001b[0m\u001b[0mndim\u001b[0m \u001b[1;33m!=\u001b[0m \u001b[1;36m2\u001b[0m\u001b[1;33m:\u001b[0m\u001b[1;33m\u001b[0m\u001b[1;33m\u001b[0m\u001b[0m\n\u001b[1;32m-> 1519\u001b[1;33m             \u001b[1;32mraise\u001b[0m \u001b[0mTypeError\u001b[0m\u001b[1;33m(\u001b[0m\u001b[1;34mf\"Input z must be 2D, not {z.ndim}D\"\u001b[0m\u001b[1;33m)\u001b[0m\u001b[1;33m\u001b[0m\u001b[1;33m\u001b[0m\u001b[0m\n\u001b[0m\u001b[0;32m   1520\u001b[0m         \u001b[1;32mif\u001b[0m \u001b[0mz\u001b[0m\u001b[1;33m.\u001b[0m\u001b[0mshape\u001b[0m\u001b[1;33m[\u001b[0m\u001b[1;36m0\u001b[0m\u001b[1;33m]\u001b[0m \u001b[1;33m<\u001b[0m \u001b[1;36m2\u001b[0m \u001b[1;32mor\u001b[0m \u001b[0mz\u001b[0m\u001b[1;33m.\u001b[0m\u001b[0mshape\u001b[0m\u001b[1;33m[\u001b[0m\u001b[1;36m1\u001b[0m\u001b[1;33m]\u001b[0m \u001b[1;33m<\u001b[0m \u001b[1;36m2\u001b[0m\u001b[1;33m:\u001b[0m\u001b[1;33m\u001b[0m\u001b[1;33m\u001b[0m\u001b[0m\n\u001b[0;32m   1521\u001b[0m             raise TypeError(f\"Input z must be at least a (2, 2) shaped array, \"\n",
      "\u001b[1;31mTypeError\u001b[0m: Input z must be 2D, not 0D"
     ]
    },
    {
     "data": {
      "image/png": "[encoded data removed]",
      "text/plain": [
       "<Figure size 432x288 with 1 Axes>"
      ]
     },
     "metadata": {
      "needs_background": "light"
     },
     "output_type": "display_data"
    }
   ],
   "source": [
    "# Définition du domaine de tracé\n",
    "xmin, xmax, nx = -4, 4, 41\n",
    "ymin, ymax, ny = -4, 4, 41\n",
    "# Discrétisation du domaine de tracé\n",
    "x1d = np.linspace(xmin,xmax,nx)\n",
    "y1d = np.linspace(ymin,ymax,ny)\n",
    "x2d, y2d = np.meshgrid(x1d, y1d)\n",
    "\n",
    "# Tracé des isovaleurs de f1\n",
    "nIso = 21\n",
    "plt.contour(x2d,y2d,f2(x2d,y2d),nIso)\n",
    "plt.title('Isovaleurs')\n",
    "plt.xlabel('Valeurs de x')\n",
    "plt.ylabel('Valeurs de y')\n",
    "plt.grid()\n",
    "plt.axis('square')"
   ]
  },
  {
   "cell_type": "code",
   "execution_count": null,
   "metadata": {},
   "outputs": [],
   "source": [
    "# Définition du domaine de tracé\n",
    "xmin, xmax, nx = -4, 4, 41\n",
    "ymin, ymax, ny = -4, 4, 41\n",
    "# Discrétisation du domaine de tracé\n",
    "x1d = np.linspace(xmin,xmax,nx)\n",
    "y1d = np.linspace(ymin,ymax,ny)\n",
    "x2d, y2d = np.meshgrid(x1d, y1d)\n",
    "\n",
    "# Tracé des isovaleurs de f1\n",
    "nIso = 21\n",
    "plt.contour(x2d,y2d,f3(x2d,y2d),nIso)\n",
    "plt.title('Isovaleurs')\n",
    "plt.xlabel('Valeurs de x')\n",
    "plt.ylabel('Valeurs de y')\n",
    "plt.grid()\n",
    "plt.axis('square')"
   ]
  },
  {
   "cell_type": "code",
   "execution_count": null,
   "metadata": {},
   "outputs": [],
   "source": [
    "# Création de la table des échantillons de x\n",
    "xmin, xmax, nx = -4, 4, 41\n",
    "tab_x = np.linspace(xmin,xmax,nx)\n",
    "# Calcul des valeurs de f(x,y) pour les valeurs de x dans tab_x et différentes valeurs de y\n",
    "tab_zm2 = f1(tab_x,-2)\n",
    "tab_z0 = f1(tab_x,0)\n",
    "tab_zp2 = f1(tab_x,2)\n",
    "# Tracé du graphe\n",
    "plt.plot(tab_x, tab_zm2,'k-',label='y = -2')\n",
    "plt.plot(tab_x, tab_z0,'r-',label='y = 0')\n",
    "plt.plot(tab_x, tab_zp2,'b-',label='y = +2')\n",
    "plt.xlabel('Valeurs de x')\n",
    "plt.ylabel('Valeurs de f1(x,y=cte)')\n",
    "plt.legend()\n",
    "plt.grid()"
   ]
  },
  {
   "cell_type": "markdown",
   "metadata": {},
   "source": [
    "**2.2** Tracer le graphe de la fonction $f_1(x,y)$ pour $y \\in [-4,4]$ et différentes valeurs fixes de x."
   ]
  },
  {
   "cell_type": "code",
   "execution_count": null,
   "metadata": {},
   "outputs": [],
   "source": [
    "# Création de la table des échantillons de x\n",
    "ymin, ymax, ny = -4, 4, 41\n",
    "tab_y = np.linspace(ymin,ymax,ny)\n",
    "# Calcul des valeurs de f(x,y) pour les valeurs de x dans tab_x et différentes valeurs de y\n",
    "tab_zm2 = f1(-2,tab_y)\n",
    "tab_z0 = f1(0,tab_y)\n",
    "tab_zp2 = f1(2,tab_y)\n",
    "# Tracé du graphe\n",
    "plt.plot(tab_y, tab_zm2,'k-',label='x = -2')\n",
    "plt.plot(tab_y, tab_z0,'r-',label='x = 0')\n",
    "plt.plot(tab_y, tab_zp2,'b-',label='x = +2')\n",
    "plt.xlabel('Valeurs de y')\n",
    "plt.ylabel('Valeurs de f1(x=cte,y)')\n",
    "plt.legend()\n",
    "plt.grid()\n",
    "\n"
   ]
  },
  {
   "cell_type": "markdown",
   "metadata": {},
   "source": [
    "**2.3** Tracer le graphe de la fonction $f_1(x,\\alpha .x)$ pour $x \\in [-3,3]$ et $\\alpha \\in \\{ 1/\\sqrt3, 1, \\sqrt3 \\}$. Que représentent ces graphes ?"
   ]
  },
  {
   "cell_type": "code",
   "execution_count": null,
   "metadata": {},
   "outputs": [],
   "source": [
    "# Création de la table des échantillons de x\n",
    "xmin, xmax, nx = -4, 4, 41\n",
    "tab_x = np.linspace(xmin,xmax,nx)\n",
    "# Calcul des valeurs de f(x,y) pour les valeurs de x dans tab_x et différentes valeurs de y\n",
    "tab_zm2 = f1(tab_x,tab_x*(1/math.sqrt(3)))\n",
    "tab_z0 = f1(tab_x,tab_x)\n",
    "tab_zp2 = f1(tab_x,tab_x*math.sqrt(3))\n",
    "# Tracé du graphe\n",
    "plt.plot(tab_x, tab_zm2,'k-',label='alpha =1/√3')\n",
    "plt.plot(tab_x, tab_z0,'r-',label='alpha =1')\n",
    "plt.plot(tab_x, tab_zp2,'b-',label='alpha = √3')\n",
    "plt.xlabel('Valeurs de x')\n",
    "plt.ylabel('Valeurs de f1(x,y)')\n",
    "plt.legend()\n",
    "plt.grid()"
   ]
  },
  {
   "cell_type": "markdown",
   "metadata": {},
   "source": [
    "# Exercice 3 : tracé des isovaleurs d'une fonction de deux variables\n",
    "\n",
    "**3.1** Le bloc d'instructions ci-dessous permet de tracer les isovaleurs de la fonction $f_1(x,y)$ pour $x \\in [-4,4]$ et $y \\in [-4,4]$. Exécuter le bloc d'instructions, puis analyser ce que fait chaque ligne. \n",
    "\n",
    "Faire varier les différents paramètres du tracé (intervalles de x et y, nombre de points de discrétisation, nombre d'isovaleurs) et analyser leur influence. En particulier, que se passe-t-il si la discrétisation du domaine est insuffisante ? \n",
    "\n",
    "Par la suite, vous vous appuyerez sur cet exemple pour tracer des isovaleurs de fonction."
   ]
  },
  {
   "cell_type": "code",
   "execution_count": null,
   "metadata": {},
   "outputs": [],
   "source": [
    "# Définition du domaine de tracé\n",
    "xmin, xmax, nx = -4, 4, 41\n",
    "ymin, ymax, ny = -4, 4, 41\n",
    "# Discrétisation du domaine de tracé\n",
    "x1d = np.linspace(xmin,xmax,nx)\n",
    "y1d = np.linspace(ymin,ymax,ny)\n",
    "x2d, y2d = np.meshgrid(x1d, y1d)\n",
    "\n",
    "# Tracé des isovaleurs de f1\n",
    "nIso = 21\n",
    "plt.contour(x2d,y2d,f1(x2d,y2d),nIso)\n",
    "plt.title('Isovaleurs')\n",
    "plt.xlabel('Valeurs de x')\n",
    "plt.ylabel('Valeurs de y')\n",
    "plt.grid()\n",
    "plt.axis('square')"
   ]
  },
  {
   "cell_type": "markdown",
   "metadata": {},
   "source": [
    "**3.2** Sur la représentation de $f_1$ par isovaleurs, retrouver les points critiques calculés dans l'exercice 1. Il sera sans doute nécessaire d'adapter les paramètres de tracé des isovaleurs."
   ]
  },
  {
   "cell_type": "markdown",
   "metadata": {},
   "source": [
    "**3.3** Le bloc d'instructions ci-dessous donne le modèle de la fonction _df1_, qui calcule et renvoie le gradient de $f_1$. Compléter ce bloc d'instructions pour que _df1_ fasse bien ce qui est attendu. Utiliser ensuite cette fonction pour vérifier que le gradient de $f_1$ est bien nul aux points critiques."
   ]
  },
  {
   "cell_type": "code",
   "execution_count": null,
   "metadata": {},
   "outputs": [],
   "source": [
    "def df1 (x,y) :\n",
    "# Dérivée partielle par rapport à x\n",
    "# Dérivée partielle par rapport à y \n",
    "    return [df_dx,df_dy]"
   ]
  },
  {
   "cell_type": "code",
   "execution_count": null,
   "metadata": {},
   "outputs": [],
   "source": [
    "# A compléter pour calculer le gradient de f1 aux points critiques que vous avez prealablement calculer\n",
    "df1(,)"
   ]
  },
  {
   "cell_type": "markdown",
   "metadata": {},
   "source": [
    "**3.4** Le bloc d'instructions ci-dessous donne le modèle de la fonction _d2f1_, qui calcule et renvoie la matrice hessienne de $f_1$. Compléter ce bloc d'instructions pour que _d2f1_ fasse bien ce qui est attendu. Utiliser ensuite cette fonction pour vérifier la nature des points critiques de $f_1$."
   ]
  },
  {
   "cell_type": "code",
   "execution_count": null,
   "metadata": {},
   "outputs": [],
   "source": [
    "# Bloc d'instructions à compléter\n",
    "def d2f1 (x,y) :\n",
    "    # Dérivées partielles d'ordre 2\n",
    "    return [[d2f_dxdx,d2f_dxdy],[d2f_dydx,d2f_dydy]]"
   ]
  },
  {
   "cell_type": "code",
   "execution_count": null,
   "metadata": {},
   "outputs": [],
   "source": [
    "# Modèle de calcul des valeurs propres d'une matrice, à adapter :\n",
    "matrice = [[1,2],[3,4]]\n",
    "valProp = np.linalg.eigvals(matrice)\n",
    "print('Valeurs propres de la matrice {} :'.format(matrice))\n",
    "print('  vp1 = {}'.format(valProp[0]))\n",
    "print('  vp2 = {}'.format(valProp[1]))"
   ]
  },
  {
   "cell_type": "code",
   "execution_count": null,
   "metadata": {},
   "outputs": [],
   "source": [
    "# A compléter pour déterminer la nature des points critiques de f1\n",
    "\n",
    "# Calcul de la matrice hessienne\n",
    "matrice1 = d2f1 (-1,-2)\n",
    "# Calcul des valeurs propres de la matrice hessienne, puis test de leur signe\n",
    "valProp = np.linalg.eigvals(matrice1)\n",
    "print('Valeurs propres de la matrice {} :'.format(matrice1))\n",
    "print('  vp1 = {}'.format(valProp[0]))\n",
    "print('  vp2 = {}'.format(valProp[1]))"
   ]
  },
  {
   "cell_type": "markdown",
   "metadata": {},
   "source": [
    "**3.5** Refaire les questions **3.2**, **3.3** et **3.4** pour la fonction $f_2$ de l'exercice 1. "
   ]
  },
  {
   "cell_type": "code",
   "execution_count": null,
   "metadata": {},
   "outputs": [],
   "source": []
  }
 ],
 "metadata": {
  "kernelspec": {
   "display_name": "Python 3",
   "language": "python",
   "name": "python3"
  },
  "language_info": {
   "codemirror_mode": {
    "name": "ipython",
    "version": 3
   },
   "file_extension": ".py",
   "mimetype": "text/x-python",
   "name": "python",
   "nbconvert_exporter": "python",
   "pygments_lexer": "ipython3",
   "version": "3.8.5"
  },
  "latex_envs": {
   "LaTeX_envs_menu_present": true,
   "autoclose": false,
   "autocomplete": true,
   "bibliofile": "biblio.bib",
   "cite_by": "apalike",
   "current_citInitial": 1,
   "eqLabelWithNumbers": true,
   "eqNumInitial": 1,
   "hotkeys": {
    "equation": "Ctrl-E",
    "itemize": "Ctrl-I"
   },
   "labels_anchors": false,
   "latex_user_defs": false,
   "report_style_numbering": false,
   "user_envs_cfg": false
  },
  "toc": {
   "base_numbering": 1,
   "nav_menu": {},
   "number_sections": true,
   "sideBar": true,
   "skip_h1_title": false,
   "title_cell": "Table of Contents",
   "title_sidebar": "Contents",
   "toc_cell": false,
   "toc_position": {},
   "toc_section_display": true,
   "toc_window_display": true
  },
  "varInspector": {
   "cols": {
    "lenName": 16,
    "lenType": 16,
    "lenVar": 40
   },
   "kernels_config": {
    "python": {
     "delete_cmd_postfix": "",
     "delete_cmd_prefix": "del ",
     "library": "var_list.py",
     "varRefreshCmd": "print(var_dic_list())"
    },
    "r": {
     "delete_cmd_postfix": ") ",
     "delete_cmd_prefix": "rm(",
     "library": "var_list.r",
     "varRefreshCmd": "cat(var_dic_list()) "
    }
   },
   "types_to_exclude": [
    "module",
    "function",
    "builtin_function_or_method",
    "instance",
    "_Feature"
   ],
   "window_display": false
  }
 },
 "nbformat": 4,
 "nbformat_minor": 4
}
