{
 "cells": [
  {
   "cell_type": "markdown",
   "metadata": {},
   "source": [
    "### exercice 2.1"
   ]
  },
  {
   "cell_type": "code",
   "execution_count": 49,
   "metadata": {},
   "outputs": [
    {
     "name": "stdout",
     "output_type": "stream",
     "text": [
      "10\n"
     ]
    }
   ],
   "source": [
    "montab1 = [1,2,3,4]\n",
    "total = 0\n",
    "\n",
    "for i in range(4) :\n",
    "    total += montab1[i]\n",
    "print(total)"
   ]
  },
  {
   "cell_type": "markdown",
   "metadata": {},
   "source": [
    "### exercice 2.2"
   ]
  },
  {
   "cell_type": "code",
   "execution_count": 45,
   "metadata": {},
   "outputs": [
    {
     "name": "stdout",
     "output_type": "stream",
     "text": [
      "11\n",
      "11\n",
      "11\n",
      "11\n"
     ]
    }
   ],
   "source": [
    "montab1 = [1,2,3,4]\n",
    "montab2 = [10,9,8,7]\n",
    "\n",
    "for i in range(4) :\n",
    "    montab1[i] += montab2[i]\n",
    "    print(montab1[i])"
   ]
  },
  {
   "cell_type": "markdown",
   "metadata": {},
   "source": [
    "### exercice 2.3"
   ]
  },
  {
   "cell_type": "code",
   "execution_count": 1,
   "metadata": {},
   "outputs": [
    {
     "name": "stdout",
     "output_type": "stream",
     "text": [
      "80\n"
     ]
    }
   ],
   "source": [
    "montab1 = [1,2,3,4]\n",
    "montab2 = [10,9,8,7]\n",
    "\n",
    "def fc(montab1:list,montab2:list) -> float:\n",
    "    total = 0\n",
    "\n",
    "    for i in range(4) :\n",
    "        montab1[i] *= montab2[i]\n",
    "        total += montab1[i]\n",
    "    return total\n",
    "\n",
    "result = fc(montab1,montab2)\n",
    "print(result)"
   ]
  },
  {
   "cell_type": "markdown",
   "metadata": {},
   "source": [
    "### exercice 2.4"
   ]
  },
  {
   "cell_type": "code",
   "execution_count": 8,
   "metadata": {},
   "outputs": [
    {
     "name": "stdout",
     "output_type": "stream",
     "text": [
      "Entrez un nombre: 15\n",
      "Entrez un nombre: 14\n",
      "Entrez un nombre: 15\n",
      "Entrez un nombre: 14\n",
      "c'est la case  2  pour le nombre:  15\n"
     ]
    }
   ],
   "source": [
    "montab = []\n",
    "test = 0\n",
    "maxi = 0\n",
    "place = 0\n",
    "\n",
    "\n",
    "for i in range(4) :\n",
    "     test = int(input(\"Entrez un nombre: \"))\n",
    "     montab.append(test)\n",
    "     maxi = montab[0]\n",
    "     if montab[i] >= maxi:\n",
    "            maxi = montab[i]\n",
    "            place = i\n",
    "            \n",
    "        \n",
    "print(\"c'est la case \", place , \" pour le nombre: \", maxi)"
   ]
  },
  {
   "cell_type": "markdown",
   "metadata": {},
   "source": [
    "Correction Sari Mohand"
   ]
  },
  {
   "cell_type": "code",
   "execution_count": 27,
   "metadata": {},
   "outputs": [],
   "source": [
    "def plusGrandTab(n):\n",
    "  tab=[]\n",
    "  for i in range(n):\n",
    "    tab.append(int(input('donner un nombre')))\n",
    "  plusGrand=tab[0]\n",
    "  indice=0\n",
    "  for i in range(1,n):\n",
    "    if(tab[i]>plusGrand):\n",
    "      plusGrand=tab[i]\n",
    "      indice=i\n",
    "  print(plusGrand,indice)"
   ]
  },
  {
   "cell_type": "markdown",
   "metadata": {},
   "source": [
    "#### Algo exo matrice"
   ]
  },
  {
   "cell_type": "code",
   "execution_count": null,
   "metadata": {},
   "outputs": [],
   "source": [
    "C(ij) = somme(pour k allant de 0 à n) A(ik)*B(kj)\n",
    "A = [[a11,a12],[a21,a22]]\n",
    "B = [[b11,b12],[b21,b22]]\n",
    "C = [[c11,c12],[c21,c22]]\n",
    "\n",
    "C[0][0] = A[0][0]* B[0][0] + A[0][1]*B[1][0]\n",
    "C[0][1] = A[0][0]* B[0][1] + A[0][1]*B[1][1]\n",
    "C[0][0] = A[1][0]* B[0][0] + A[1][1]*B[1][0]\n",
    "C[1][1] = A[1][0]* B[0][1] + A[1][1]*B[1][1]\n",
    "\n",
    "algo:\n",
    "    \n",
    "Pour i <- 1 a n :\n",
    "    Pour j de 1 a n :\n",
    "        c[i][j] = 0\n",
    "        Pour k de 1 a n :\n",
    "            c[i][j] += a[i][k] * b[k][j]\n",
    "\n",
    "        "
   ]
  }
 ],
 "metadata": {
  "kernelspec": {
   "display_name": "Python 3",
   "language": "python",
   "name": "python3"
  },
  "language_info": {
   "codemirror_mode": {
    "name": "ipython",
    "version": 3
   },
   "file_extension": ".py",
   "mimetype": "text/x-python",
   "name": "python",
   "nbconvert_exporter": "python",
   "pygments_lexer": "ipython3",
   "version": "3.8.5"
  },
  "toc": {
   "base_numbering": 1,
   "nav_menu": {},
   "number_sections": true,
   "sideBar": true,
   "skip_h1_title": false,
   "title_cell": "Table of Contents",
   "title_sidebar": "Contents",
   "toc_cell": false,
   "toc_position": {},
   "toc_section_display": true,
   "toc_window_display": false
  },
  "varInspector": {
   "cols": {
    "lenName": 16,
    "lenType": 16,
    "lenVar": 40
   },
   "kernels_config": {
    "python": {
     "delete_cmd_postfix": "",
     "delete_cmd_prefix": "del ",
     "library": "var_list.py",
     "varRefreshCmd": "print(var_dic_list())"
    },
    "r": {
     "delete_cmd_postfix": ") ",
     "delete_cmd_prefix": "rm(",
     "library": "var_list.r",
     "varRefreshCmd": "cat(var_dic_list()) "
    }
   },
   "types_to_exclude": [
    "module",
    "function",
    "builtin_function_or_method",
    "instance",
    "_Feature"
   ],
   "window_display": true
  }
 },
 "nbformat": 4,
 "nbformat_minor": 4
}
